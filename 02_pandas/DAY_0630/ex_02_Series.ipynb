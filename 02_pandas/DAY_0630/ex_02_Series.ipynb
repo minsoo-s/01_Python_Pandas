{
 "cells": [
  {
   "cell_type": "markdown",
   "id": "ff3c78e7",
   "metadata": {},
   "source": [
    "# 시리즈(series) 타입 실습-------------------------------------------------------------------------\n",
    "\n",
    "- pandas의 1종류(1차원 배열/세로 벡터) 데이터를 저장하는 데이터 타입(Type)  \n",
    "\n",
    "- 생성 : Series 객체 생성"
   ]
  },
  {
   "cell_type": "code",
   "execution_count": 3,
   "id": "592b940d",
   "metadata": {},
   "outputs": [],
   "source": [
    "# 모듈 로딩 ------------------------------------------------------------------------------------------------\n",
    "import pandas as pd\n",
    "\n",
    "# Series 객체 생성\n",
    "sr = pd.Series([1,2,3,4])"
   ]
  },
  {
   "cell_type": "code",
   "execution_count": 9,
   "id": "6766cc7a",
   "metadata": {},
   "outputs": [
    {
     "data": {
      "text/plain": [
       "0    1\n",
       "1    2\n",
       "2    3\n",
       "3    4\n",
       "dtype: int64"
      ]
     },
     "execution_count": 9,
     "metadata": {},
     "output_type": "execute_result"
    }
   ],
   "source": [
    "# 생성된 Series 객체 데이터 확인하기\n",
    "sr"
   ]
  },
  {
   "cell_type": "code",
   "execution_count": 10,
   "id": "e13800b9",
   "metadata": {},
   "outputs": [
    {
     "data": {
      "text/plain": [
       "RangeIndex(start=0, stop=4, step=1)"
      ]
     },
     "execution_count": 10,
     "metadata": {},
     "output_type": "execute_result"
    }
   ],
   "source": [
    "# Series 객체의 속성 Attribute 확인 => 객체변수명.속성명\n",
    "# index 속성\n",
    "sr.index"
   ]
  },
  {
   "cell_type": "code",
   "execution_count": 11,
   "id": "bdfe248d",
   "metadata": {},
   "outputs": [
    {
     "data": {
      "text/plain": [
       "array([1, 2, 3, 4], dtype=int64)"
      ]
     },
     "execution_count": 11,
     "metadata": {},
     "output_type": "execute_result"
    }
   ],
   "source": [
    "# 값 속성\n",
    "sr.values"
   ]
  },
  {
   "cell_type": "code",
   "execution_count": 13,
   "id": "b91a16d2",
   "metadata": {},
   "outputs": [
    {
     "data": {
      "text/plain": [
       "1"
      ]
     },
     "execution_count": 13,
     "metadata": {},
     "output_type": "execute_result"
    }
   ],
   "source": [
    "# 차원(dimention) 속성\n",
    "sr.ndim"
   ]
  },
  {
   "cell_type": "code",
   "execution_count": 16,
   "id": "119ad438",
   "metadata": {},
   "outputs": [
    {
     "data": {
      "text/plain": [
       "(4,)"
      ]
     },
     "execution_count": 16,
     "metadata": {},
     "output_type": "execute_result"
    }
   ],
   "source": [
    "# 형(shape) 속성\n",
    "sr.shape"
   ]
  },
  {
   "cell_type": "code",
   "execution_count": 17,
   "id": "381e6e6a",
   "metadata": {},
   "outputs": [
    {
     "data": {
      "text/plain": [
       "(32, 4)"
      ]
     },
     "execution_count": 17,
     "metadata": {},
     "output_type": "execute_result"
    }
   ],
   "source": [
    "# 실제 사용 메모리.byte, 데이터 개수\n",
    "sr.nbytes, sr.size"
   ]
  },
  {
   "cell_type": "code",
   "execution_count": 20,
   "id": "4c215946",
   "metadata": {},
   "outputs": [
    {
     "data": {
      "text/plain": [
       "0      1\n",
       "1      4\n",
       "2      A\n",
       "3    4.5\n",
       "dtype: object"
      ]
     },
     "execution_count": 20,
     "metadata": {},
     "output_type": "execute_result"
    }
   ],
   "source": [
    "# 여러 타입의 데이터로 Series 객체 생성\n",
    "sr2=pd.Series([1,4,'A',4.5])\n",
    "sr2"
   ]
  },
  {
   "cell_type": "code",
   "execution_count": 23,
   "id": "b1591345",
   "metadata": {},
   "outputs": [
    {
     "name": "stdout",
     "output_type": "stream",
     "text": [
      "indesx => RangeIndex(start=0, stop=4, step=1)\n",
      "values => [1 4 'A' 4.5] | valuse type => <class 'numpy.ndarray'>\n",
      "array => <PandasArray>\n",
      "[1, 4, 'A', 4.5]\n",
      "Length: 4, dtype: object\n"
     ]
    }
   ],
   "source": [
    "# Series 객체 속성 읽기\n",
    "print(f'indesx => {sr2.index}')\n",
    "print(f'values => {sr2.values} | valuse type => {type(sr2.values)}')\n",
    "print(f'array => {sr2.array}')"
   ]
  },
  {
   "cell_type": "code",
   "execution_count": 28,
   "id": "d7585747",
   "metadata": {},
   "outputs": [
    {
     "data": {
      "text/plain": [
       "name     HONG\n",
       "age        12\n",
       "loc     Daegu\n",
       "dtype: object"
      ]
     },
     "execution_count": 28,
     "metadata": {},
     "output_type": "execute_result"
    }
   ],
   "source": [
    "# Dict 데이터로 Series 객체 생성\n",
    "sr3 = pd.Series({\"name\":\"HONG\", \"age\":12, \"loc\":\"Daegu\"})\n",
    "sr3"
   ]
  },
  {
   "cell_type": "code",
   "execution_count": 30,
   "id": "31a89672",
   "metadata": {},
   "outputs": [
    {
     "data": {
      "text/plain": [
       "하나    a\n",
       "둘     b\n",
       "셋     c\n",
       "dtype: object"
      ]
     },
     "execution_count": 30,
     "metadata": {},
     "output_type": "execute_result"
    }
   ],
   "source": [
    "# series 객체 생성\n",
    "sr = pd.Series(['a','b','c'], index=['하나','둘','셋'])\n",
    "sr"
   ]
  },
  {
   "cell_type": "code",
   "execution_count": 31,
   "id": "f951e242",
   "metadata": {},
   "outputs": [
    {
     "data": {
      "text/plain": [
       "0    a\n",
       "1    b\n",
       "2    c\n",
       "dtype: object"
      ]
     },
     "execution_count": 31,
     "metadata": {},
     "output_type": "execute_result"
    }
   ],
   "source": [
    "sr2 = pd.Series(['a','b','c'])\n",
    "sr2"
   ]
  },
  {
   "cell_type": "code",
   "execution_count": 32,
   "id": "b9947ba2",
   "metadata": {},
   "outputs": [
    {
     "data": {
      "text/plain": [
       "11    a\n",
       "22    b\n",
       "33    c\n",
       "dtype: object"
      ]
     },
     "execution_count": 32,
     "metadata": {},
     "output_type": "execute_result"
    }
   ],
   "source": [
    "# 인덱스 새로운 값으로 설정 -> 객체변수명.속성명 = 새로운 값\n",
    "sr2.index=[11,22,33]\n",
    "sr2"
   ]
  },
  {
   "cell_type": "markdown",
   "id": "f30fe884",
   "metadata": {},
   "source": [
    "# 시리즈(Series) 객체의 원소/요소 다루기\n",
    "\n",
    "- 방법:  시리즈 객체.[인덱스 번호]\n",
    "         시리즈 객체.[인덱스 라벨]"
   ]
  },
  {
   "cell_type": "code",
   "execution_count": 34,
   "id": "7f033d2d",
   "metadata": {},
   "outputs": [
    {
     "data": {
      "text/plain": [
       "Int64Index([11, 22, 33], dtype='int64')"
      ]
     },
     "execution_count": 34,
     "metadata": {},
     "output_type": "execute_result"
    }
   ],
   "source": [
    "# 1번 원소 읽기\n",
    "sr2.index"
   ]
  },
  {
   "cell_type": "code",
   "execution_count": 39,
   "id": "63b9f847",
   "metadata": {},
   "outputs": [
    {
     "data": {
      "text/plain": [
       "'b'"
      ]
     },
     "execution_count": 39,
     "metadata": {},
     "output_type": "execute_result"
    }
   ],
   "source": [
    "sr2[22]   # 숫자형으로 인덱스를 지정 시: 기존 숫자는 삭제됨."
   ]
  },
  {
   "cell_type": "code",
   "execution_count": 41,
   "id": "d2f3c53b",
   "metadata": {},
   "outputs": [
    {
     "data": {
      "text/plain": [
       "Index(['one', 'two', 'three'], dtype='object')"
      ]
     },
     "execution_count": 41,
     "metadata": {},
     "output_type": "execute_result"
    }
   ],
   "source": [
    "# 문자형 인덱스로 새롭게 설정\n",
    "sr2.index=['one','two','three']\n",
    "sr2.index"
   ]
  },
  {
   "cell_type": "code",
   "execution_count": 44,
   "id": "0ef889da",
   "metadata": {},
   "outputs": [
    {
     "data": {
      "text/plain": [
       "('b', 'b', 'c', 'c')"
      ]
     },
     "execution_count": 44,
     "metadata": {},
     "output_type": "execute_result"
    }
   ],
   "source": [
    "sr2['two'],sr2[1],sr2['three'],sr2[2]  # 문자형 인덱스를 지정 시: 문자, 숫자 인덱스 모두 적용됨."
   ]
  },
  {
   "cell_type": "code",
   "execution_count": 51,
   "id": "c25f596f",
   "metadata": {},
   "outputs": [
    {
     "data": {
      "text/plain": [
       "name    Hong\n",
       "age       12\n",
       "dtype: object"
      ]
     },
     "execution_count": 51,
     "metadata": {},
     "output_type": "execute_result"
    }
   ],
   "source": [
    "sr3 = pd.Series({'name':'Hong', 'age':12})\n",
    "sr3"
   ]
  },
  {
   "cell_type": "code",
   "execution_count": 52,
   "id": "da12e5fd",
   "metadata": {},
   "outputs": [
    {
     "data": {
      "text/plain": [
       "Index(['name', 'age'], dtype='object')"
      ]
     },
     "execution_count": 52,
     "metadata": {},
     "output_type": "execute_result"
    }
   ],
   "source": [
    "sr3.index"
   ]
  },
  {
   "cell_type": "code",
   "execution_count": 54,
   "id": "df2d49dc",
   "metadata": {},
   "outputs": [
    {
     "data": {
      "text/plain": [
       "('Hong', 12, 12, 'Hong')"
      ]
     },
     "execution_count": 54,
     "metadata": {},
     "output_type": "execute_result"
    }
   ],
   "source": [
    "sr3[0],sr3[1],sr3['age'],sr3['name']  "
   ]
  },
  {
   "cell_type": "code",
   "execution_count": 68,
   "id": "3ff2e602",
   "metadata": {},
   "outputs": [
    {
     "data": {
      "text/plain": [
       "날짜    2022-06-30\n",
       "과목        Pandas\n",
       "불린          True\n",
       "실수          4.55\n",
       "희망       No Work\n",
       "dtype: object"
      ]
     },
     "execution_count": 68,
     "metadata": {},
     "output_type": "execute_result"
    }
   ],
   "source": [
    "sr4 = pd.Series(('2022-06-30','Pandas',True, 4.55,'No Work'))"
   ]
  },
  {
   "cell_type": "code",
   "execution_count": 69,
   "id": "436460fa",
   "metadata": {},
   "outputs": [
    {
     "data": {
      "text/plain": [
       "날짜    2022-06-30\n",
       "과목        Pandas\n",
       "불린          True\n",
       "실수          4.55\n",
       "희망       No Work\n",
       "dtype: object"
      ]
     },
     "execution_count": 69,
     "metadata": {},
     "output_type": "execute_result"
    }
   ],
   "source": [
    "sr4.index = ['날짜','과목','불린','실수','희망']\n",
    "sr4"
   ]
  },
  {
   "cell_type": "code",
   "execution_count": 77,
   "id": "2a325144",
   "metadata": {},
   "outputs": [
    {
     "name": "stdout",
     "output_type": "stream",
     "text": [
      "2022-06-30 4.55 No Work\n",
      "2022-06-30 4.55 No Work\n",
      "<class 'str'> <class 'float'> <class 'str'>\n",
      "날짜    2022-06-30\n",
      "실수          4.55\n",
      "희망       No Work\n",
      "dtype: object <class 'pandas.core.series.Series'>\n",
      "과목     Pandas\n",
      "불린       True\n",
      "실수       4.55\n",
      "희망    No Work\n",
      "dtype: object\n",
      "과목     Pandas\n",
      "불린       True\n",
      "실수       4.55\n",
      "희망    No Work\n",
      "dtype: object\n",
      "과목    Pandas\n",
      "불린      True\n",
      "실수      4.55\n",
      "dtype: object\n",
      "과목     Pandas\n",
      "불린       True\n",
      "실수       4.55\n",
      "희망    No Work\n",
      "dtype: object\n"
     ]
    }
   ],
   "source": [
    "# (1) 0번 요소, 3번 요소, 4번 요소 읽어서 출력\n",
    "\n",
    "print(sr4[0],sr4[3],sr4[4])\n",
    "print(sr4['날짜'],sr4[\"실수\"],sr4['희망'])\n",
    "\n",
    "print(type(sr4[0]),type(sr4[3]),type(sr4[4])) # 하나의 요소를 가져오면 하나는 자기만의 타입을 가진다.\n",
    "print(sr4[[0,3,4]],type(sr4[[0,3,4]]))        # 리스트 안에 여러가지 타입이 있으면 Object 타입이 됨.\n",
    "\n",
    "# (2) 1번 요소부터 끝까지 요소값 출력\n",
    "\n",
    "print(sr4[1:])\n",
    "print(sr4['과목':])\n",
    "\n",
    "# (3) 1번 요소부터 3번 요소까지 요소값 출력\n",
    "print(sr4[1:4])                              # 숫자 인덱스는 이상~미만 범위의 요소를 불러옴.(마지막 원소 제외)\n",
    "print(sr4['과목':'희망'])                    #  str 인덱스는 이상~이하 범위의 요소를 불러옴.(마지막 원소 포함)"
   ]
  },
  {
   "cell_type": "code",
   "execution_count": null,
   "id": "56088f50",
   "metadata": {},
   "outputs": [],
   "source": []
  }
 ],
 "metadata": {
  "kernelspec": {
   "display_name": "Python 3 (ipykernel)",
   "language": "python",
   "name": "python3"
  },
  "language_info": {
   "codemirror_mode": {
    "name": "ipython",
    "version": 3
   },
   "file_extension": ".py",
   "mimetype": "text/x-python",
   "name": "python",
   "nbconvert_exporter": "python",
   "pygments_lexer": "ipython3",
   "version": "3.9.12"
  }
 },
 "nbformat": 4,
 "nbformat_minor": 5
}
