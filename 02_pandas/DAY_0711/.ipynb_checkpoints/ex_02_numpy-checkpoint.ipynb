{
 "cells": [
  {
   "cell_type": "markdown",
   "id": "da2f50b8",
   "metadata": {},
   "source": [
    "# Numpy 패키지 --------------------------------------------\n",
    "\n",
    "- pandas에서 데이터를 저장 및 처리에 사용되는 패키지\n",
    "\n",
    "- 외부 패키지로 반드시 설치 필요\n",
    "\n",
    "- 고속 데이터 처리, 수치 계산 수행 패키지\n",
    "\n",
    "- 머신러닝/딥러닝용 패키지 Scikit_lern, Tensorflow, PyTorch, Keras 등등에서도 내부 데이터 저장 및 숯치 계산에 사용되는 패키지\n",
    "\n",
    "- [중요] 동일한 데이터 타입의 데이터를 저장하는 배열(Array) 타입!\n",
    "\n",
    "- 설치: !pip install numpy"
   ]
  },
  {
   "cell_type": "code",
   "execution_count": 38,
   "id": "19cff210",
   "metadata": {},
   "outputs": [
    {
     "data": {
      "text/plain": [
       "'1.23.0'"
      ]
     },
     "execution_count": 38,
     "metadata": {},
     "output_type": "execute_result"
    }
   ],
   "source": [
    "# 모듈 버전 확인 및 버전 확인\n",
    "import numpy as np\n",
    "\n",
    "np.__version__"
   ]
  },
  {
   "cell_type": "code",
   "execution_count": 39,
   "id": "e2ba6331",
   "metadata": {},
   "outputs": [
    {
     "data": {
      "text/plain": [
       "array([1, 2, 3])"
      ]
     },
     "execution_count": 39,
     "metadata": {},
     "output_type": "execute_result"
    }
   ],
   "source": [
    "# ndarray 객체 생성 하기 ---> numpy.array()\n",
    "\n",
    "arr1 = np.array([1,2,3])\n",
    "arr1"
   ]
  },
  {
   "cell_type": "code",
   "execution_count": 40,
   "id": "21c84c61",
   "metadata": {},
   "outputs": [
    {
     "data": {
      "text/plain": [
       "numpy.ndarray"
      ]
     },
     "execution_count": 40,
     "metadata": {},
     "output_type": "execute_result"
    }
   ],
   "source": [
    "type(arr1)"
   ]
  },
  {
   "cell_type": "code",
   "execution_count": 41,
   "id": "21fc8b4f",
   "metadata": {},
   "outputs": [
    {
     "name": "stdout",
     "output_type": "stream",
     "text": [
      "1\n",
      "(3,)\n",
      "int32\n",
      "4\n",
      "3\n"
     ]
    }
   ],
   "source": [
    "# ndarray 객체 속성 확인하기 ------------------------------\n",
    "# 객체변수명.속성명\n",
    "# ndim : 차원 (예: 1,2,3,...)\n",
    "# shpae : 형태 (예: (갯수,), (행, 열),(면, 행, 열))\n",
    "# dtype : 데이터 타입\n",
    "# itemsize : 배열 요소의 바이트 크기\n",
    "# size : 배열 요소 갯수\n",
    "\n",
    "print(arr1.ndim, arr1.shape, arr1.dtype, arr1.itemsize, arr1.size, sep='\\n')"
   ]
  },
  {
   "cell_type": "code",
   "execution_count": 42,
   "id": "1128b41f",
   "metadata": {},
   "outputs": [
    {
     "name": "stdout",
     "output_type": "stream",
     "text": [
      "객체변수명 arr1    => [1 2 3]\n",
      "객체변수명 arr1[0] => 1\n",
      "객체변수명 arr1[1] => 2\n"
     ]
    }
   ],
   "source": [
    "# 배열의 요소 즉 아이템, 원소 접근하기---------------------------\n",
    "# 0 - base 인덱스 자동 지정 => 객체변수명[ 인덱스 ]\n",
    "\n",
    "print(f'객체변수명 arr1    => {arr1}')\n",
    "print(f'객체변수명 arr1[0] => {arr1[0]}')\n",
    "print(f'객체변수명 arr1[1] => {arr1[1]}')"
   ]
  },
  {
   "cell_type": "code",
   "execution_count": 43,
   "id": "09dae3c8",
   "metadata": {},
   "outputs": [
    {
     "data": {
      "text/plain": [
       "array([1, 1, 1, 1], dtype=int16)"
      ]
     },
     "execution_count": 43,
     "metadata": {},
     "output_type": "execute_result"
    }
   ],
   "source": [
    "# 모든 값을 0 으로 채워서 ndarray 객체 생성 함수 => ones()\n",
    "arr2 = np.array([1,1,1,1])\n",
    "arr2 = np.ones(4, dtype=np.int16)\n",
    "arr2"
   ]
  },
  {
   "cell_type": "code",
   "execution_count": 44,
   "id": "1d8635c0",
   "metadata": {},
   "outputs": [
    {
     "name": "stdout",
     "output_type": "stream",
     "text": [
      "1\n",
      "(4,)\n",
      "int16\n",
      "2\n",
      "4\n",
      "객체변수명 arr2    => [1 1 1 1]\n",
      "객체변수명 arr2[0] => 1\n",
      "객체변수명 arr2[1] => 1\n"
     ]
    }
   ],
   "source": [
    "print(arr2.ndim, arr2.shape, arr2.dtype, arr2.itemsize, arr2.size, sep='\\n')\n",
    "print(f'객체변수명 arr2    => {arr2}')\n",
    "print(f'객체변수명 arr2[0] => {arr2[0]}')\n",
    "print(f'객체변수명 arr2[1] => {arr2[1]}')"
   ]
  },
  {
   "cell_type": "code",
   "execution_count": 45,
   "id": "2659d95c",
   "metadata": {},
   "outputs": [
    {
     "data": {
      "text/plain": [
       "array([[0., 0., 0.],\n",
       "       [0., 0., 0.]])"
      ]
     },
     "execution_count": 45,
     "metadata": {},
     "output_type": "execute_result"
    }
   ],
   "source": [
    "# 초기화하지 않고 ndarray 객체 생성 => numpy.empty()\n",
    "arr3 = np.empty((2,3))\n",
    "arr3"
   ]
  },
  {
   "cell_type": "code",
   "execution_count": 47,
   "id": "0d20e0de",
   "metadata": {},
   "outputs": [
    {
     "data": {
      "text/plain": [
       "array([[2, 3, 4],\n",
       "       [1, 2, 3]])"
      ]
     },
     "execution_count": 47,
     "metadata": {},
     "output_type": "execute_result"
    }
   ],
   "source": [
    "# 2차원 형태의 ndarray 객체 생성\n",
    "arr4= np.array([[2,3,4],[1,2,3]])\n",
    "arr4"
   ]
  },
  {
   "cell_type": "code",
   "execution_count": 48,
   "id": "0db483da",
   "metadata": {},
   "outputs": [
    {
     "data": {
      "text/plain": [
       "((2, 3), 2)"
      ]
     },
     "execution_count": 48,
     "metadata": {},
     "output_type": "execute_result"
    }
   ],
   "source": [
    "arr4.shape, arr4.ndim"
   ]
  },
  {
   "cell_type": "code",
   "execution_count": 53,
   "id": "86022b9f",
   "metadata": {},
   "outputs": [],
   "source": [
    "arr5=arr4.flatten()"
   ]
  },
  {
   "cell_type": "code",
   "execution_count": 54,
   "id": "20089419",
   "metadata": {},
   "outputs": [
    {
     "data": {
      "text/plain": [
       "((6,), 1)"
      ]
     },
     "execution_count": 54,
     "metadata": {},
     "output_type": "execute_result"
    }
   ],
   "source": [
    "arr5.shape, arr5.ndim"
   ]
  },
  {
   "cell_type": "code",
   "execution_count": 59,
   "id": "b610c3aa",
   "metadata": {},
   "outputs": [
    {
     "data": {
      "text/plain": [
       "array([[2, 3],\n",
       "       [4, 1],\n",
       "       [2, 3]])"
      ]
     },
     "execution_count": 59,
     "metadata": {},
     "output_type": "execute_result"
    }
   ],
   "source": [
    "# 1차원 => 다른 차원으로 변경 reshape()\n",
    "arr6 = arr5.reshape((3,2))\n",
    "arr6"
   ]
  },
  {
   "cell_type": "code",
   "execution_count": 57,
   "id": "1c17aa5f",
   "metadata": {},
   "outputs": [
    {
     "data": {
      "text/plain": [
       "array([[[2, 3],\n",
       "        [4, 1],\n",
       "        [2, 3]]])"
      ]
     },
     "execution_count": 57,
     "metadata": {},
     "output_type": "execute_result"
    }
   ],
   "source": [
    "arr6 = arr5.reshape((1,3,2))\n",
    "arr6"
   ]
  },
  {
   "cell_type": "code",
   "execution_count": 58,
   "id": "60aebfc3",
   "metadata": {},
   "outputs": [
    {
     "data": {
      "text/plain": [
       "((6,), 1)"
      ]
     },
     "execution_count": 58,
     "metadata": {},
     "output_type": "execute_result"
    }
   ],
   "source": [
    "arr7=arr6.flatten()\n",
    "arr7.shape, arr7.ndim"
   ]
  },
  {
   "cell_type": "code",
   "execution_count": 60,
   "id": "a01f69b5",
   "metadata": {},
   "outputs": [
    {
     "data": {
      "text/plain": [
       "array([0, 1, 2, 3, 4, 5, 6, 7])"
      ]
     },
     "execution_count": 60,
     "metadata": {},
     "output_type": "execute_result"
    }
   ],
   "source": [
    "# 차원/형태 변환 = reshape(-1,n), reshape(n,-1)\n",
    "arr8 = np.arange(8)\n",
    "arr8"
   ]
  },
  {
   "cell_type": "code",
   "execution_count": 61,
   "id": "3a8288f9",
   "metadata": {},
   "outputs": [
    {
     "data": {
      "text/plain": [
       "array([[0, 1],\n",
       "       [2, 3],\n",
       "       [4, 5],\n",
       "       [6, 7]])"
      ]
     },
     "execution_count": 61,
     "metadata": {},
     "output_type": "execute_result"
    }
   ],
   "source": [
    "arr9=arr8.reshape(-1,2)\n",
    "arr9"
   ]
  },
  {
   "cell_type": "code",
   "execution_count": 63,
   "id": "c155c01f",
   "metadata": {},
   "outputs": [
    {
     "data": {
      "text/plain": [
       "array([[0, 1, 2, 3],\n",
       "       [4, 5, 6, 7]])"
      ]
     },
     "execution_count": 63,
     "metadata": {},
     "output_type": "execute_result"
    }
   ],
   "source": [
    "arr9=arr8.reshape(2,-1)\n",
    "arr9"
   ]
  },
  {
   "cell_type": "code",
   "execution_count": 64,
   "id": "426f0de0",
   "metadata": {},
   "outputs": [
    {
     "ename": "ValueError",
     "evalue": "cannot reshape array of size 8 into shape (3)",
     "output_type": "error",
     "traceback": [
      "\u001b[1;31m--------------------------------------------------------------------------\u001b[0m",
      "\u001b[1;31mValueError\u001b[0m                               Traceback (most recent call last)",
      "Input \u001b[1;32mIn [64]\u001b[0m, in \u001b[0;36m<cell line: 2>\u001b[1;34m()\u001b[0m\n\u001b[0;32m      1\u001b[0m \u001b[38;5;66;03m# 변형할 행렬 갯수가 모자라면 불가능.\u001b[39;00m\n\u001b[1;32m----> 2\u001b[0m arr9 \u001b[38;5;241m=\u001b[39m \u001b[43marr8\u001b[49m\u001b[38;5;241;43m.\u001b[39;49m\u001b[43mreshape\u001b[49m\u001b[43m(\u001b[49m\u001b[38;5;241;43m-\u001b[39;49m\u001b[38;5;241;43m1\u001b[39;49m\u001b[43m,\u001b[49m\u001b[38;5;241;43m3\u001b[39;49m\u001b[43m)\u001b[49m \n\u001b[0;32m      3\u001b[0m arr9\n",
      "\u001b[1;31mValueError\u001b[0m: cannot reshape array of size 8 into shape (3)"
     ]
    }
   ],
   "source": [
    "# 변형할 행렬 갯수가 모자라면 불가능.\n",
    "arr9 = arr8.reshape(-1,3) \n",
    "arr9"
   ]
  },
  {
   "cell_type": "code",
   "execution_count": null,
   "id": "f5e38299",
   "metadata": {},
   "outputs": [],
   "source": []
  }
 ],
 "metadata": {
  "kernelspec": {
   "display_name": "Python 3 (ipykernel)",
   "language": "python",
   "name": "python3"
  },
  "language_info": {
   "codemirror_mode": {
    "name": "ipython",
    "version": 3
   },
   "file_extension": ".py",
   "mimetype": "text/x-python",
   "name": "python",
   "nbconvert_exporter": "python",
   "pygments_lexer": "ipython3",
   "version": "3.9.12"
  }
 },
 "nbformat": 4,
 "nbformat_minor": 5
}
