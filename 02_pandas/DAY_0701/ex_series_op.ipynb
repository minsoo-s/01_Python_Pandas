{
 "cells": [
  {
   "cell_type": "markdown",
   "id": "1f0d3b72",
   "metadata": {},
   "source": [
    "# Series 객체와 숫자 연산 수행 ---------------\n",
    "\n",
    "- Series 객체의 모든 원소에 숫자 연산 적용 => 브로드캐스팅\n",
    "    - 브로드캐스팅: 서로 다른 shape을 계산할 수 있도록 변경"
   ]
  },
  {
   "cell_type": "code",
   "execution_count": 1,
   "id": "34048d64",
   "metadata": {},
   "outputs": [
    {
     "data": {
      "text/plain": [
       "0    10\n",
       "1    20\n",
       "2    30\n",
       "3    40\n",
       "dtype: int64"
      ]
     },
     "execution_count": 1,
     "metadata": {},
     "output_type": "execute_result"
    }
   ],
   "source": [
    "# 모듈 로딩----------------------------------------------\n",
    "import pandas as pd\n",
    "\n",
    "# Series 객체 생성\n",
    "sr = pd.Series([10,20,30,40])\n",
    "\n",
    "# Series 객체 데이터 확인\n",
    "sr"
   ]
  },
  {
   "cell_type": "code",
   "execution_count": 4,
   "id": "38993fe2",
   "metadata": {},
   "outputs": [
    {
     "name": "stdout",
     "output_type": "stream",
     "text": [
      "result=>\n",
      "0    15\n",
      "1    25\n",
      "2    35\n",
      "3    45\n",
      "dtype: int64\n",
      "type =><class 'pandas.core.series.Series'>\n"
     ]
    }
   ],
   "source": [
    "# 숫자 데이터와 연산 수행 ----------------------------------------------------------------------------\n",
    "result = sr+5\n",
    "\n",
    "print(f'result=>\\n{result}',f'type =>{type(result)}',sep='\\n')"
   ]
  },
  {
   "cell_type": "code",
   "execution_count": 9,
   "id": "4946bd6b",
   "metadata": {},
   "outputs": [
    {
     "name": "stdout",
     "output_type": "stream",
     "text": [
      "sr1.index => Index(['국어', '영어', '수학'], dtype='object')\n",
      "sr2.index =>Index(['수학', '국어', '영어'], dtype='object')\n"
     ]
    }
   ],
   "source": [
    "# Series 객체 + Series 객체 연산 수행 ---------------------------------------------------------------\n",
    "sr1=pd.Series({'국어':90,'영어':62,'수학':80})\n",
    "sr2=pd.Series({'수학':53,'국어':23,'영어':38})\n",
    "sr3=pd.Series({'국어':19,'영어':77})\n",
    "print(f'sr1.index => {sr1.index}', f'sr2.index =>{sr2.index}',sep='\\n')"
   ]
  },
  {
   "cell_type": "code",
   "execution_count": 11,
   "id": "6606eeac",
   "metadata": {},
   "outputs": [
    {
     "data": {
      "text/plain": [
       "국어    113\n",
       "수학    133\n",
       "영어    100\n",
       "dtype: int64"
      ]
     },
     "execution_count": 11,
     "metadata": {},
     "output_type": "execute_result"
    }
   ],
   "source": [
    "# 인덱스 정렬 후, 동일 인덱스 끼리 연산 수행.\n",
    "result=sr1+sr2\n",
    "result"
   ]
  },
  {
   "cell_type": "code",
   "execution_count": 12,
   "id": "04793990",
   "metadata": {},
   "outputs": [
    {
     "data": {
      "text/plain": [
       "국어    109.0\n",
       "수학      NaN\n",
       "영어    139.0\n",
       "dtype: float64"
      ]
     },
     "execution_count": 12,
     "metadata": {},
     "output_type": "execute_result"
    }
   ],
   "source": [
    "# 동일 인덱스가 없는 경우 : 연산 수행 안함 => NaN (빈칸을 의미함.)\n",
    "result=sr1+sr3 \n",
    "result"
   ]
  },
  {
   "cell_type": "code",
   "execution_count": 13,
   "id": "9caa0ab8",
   "metadata": {},
   "outputs": [
    {
     "data": {
      "text/plain": [
       "국어    90\n",
       "영어    62\n",
       "수학    80\n",
       "dtype: int64"
      ]
     },
     "execution_count": 13,
     "metadata": {},
     "output_type": "execute_result"
    }
   ],
   "source": []
  },
  {
   "cell_type": "code",
   "execution_count": null,
   "id": "8c4b6500",
   "metadata": {},
   "outputs": [],
   "source": []
  }
 ],
 "metadata": {
  "kernelspec": {
   "display_name": "Python 3 (ipykernel)",
   "language": "python",
   "name": "python3"
  },
  "language_info": {
   "codemirror_mode": {
    "name": "ipython",
    "version": 3
   },
   "file_extension": ".py",
   "mimetype": "text/x-python",
   "name": "python",
   "nbconvert_exporter": "python",
   "pygments_lexer": "ipython3",
   "version": "3.9.12"
  }
 },
 "nbformat": 4,
 "nbformat_minor": 5
}
