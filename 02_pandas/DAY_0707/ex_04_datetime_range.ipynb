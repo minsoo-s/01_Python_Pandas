{
 "cells": [
  {
   "cell_type": "markdown",
   "id": "66a178e9",
   "metadata": {},
   "source": [
    "# [ Pandas의 DateTime 관련 범위지정 생성 ]\n",
    "\n",
    "- pandas.date_range() : 파라미터 설정으로 원하는 날짜 범위 생성."
   ]
  },
  {
   "cell_type": "code",
   "execution_count": 2,
   "id": "e84708ab",
   "metadata": {},
   "outputs": [
    {
     "data": {
      "text/plain": [
       "DatetimeIndex(['2022-07-01', '2022-07-02', '2022-07-03', '2022-07-04',\n",
       "               '2022-07-05'],\n",
       "              dtype='datetime64[ns]', freq='D')"
      ]
     },
     "execution_count": 2,
     "metadata": {},
     "output_type": "execute_result"
    }
   ],
   "source": [
    "# 모듈 로딩-----------------------------------------------------------------\n",
    "import pandas as pd\n",
    "\n",
    "# 날짜 시간 범위 객체 생성--------------------------------------------------\n",
    "\n",
    "# 갯수만 지정하면 1일 간격으로 출력됨.\n",
    "dtRange=pd.date_range('2022-07-01',periods=5)\n",
    "dtRange"
   ]
  },
  {
   "cell_type": "code",
   "execution_count": 3,
   "id": "da95a2ef",
   "metadata": {},
   "outputs": [
    {
     "data": {
      "text/plain": [
       "DatetimeIndex(['2022-07-01', '2022-07-02', '2022-07-03', '2022-07-04',\n",
       "               '2022-07-05', '2022-07-06', '2022-07-07', '2022-07-08',\n",
       "               '2022-07-09', '2022-07-10',\n",
       "               ...\n",
       "               '2022-11-22', '2022-11-23', '2022-11-24', '2022-11-25',\n",
       "               '2022-11-26', '2022-11-27', '2022-11-28', '2022-11-29',\n",
       "               '2022-11-30', '2022-12-01'],\n",
       "              dtype='datetime64[ns]', length=154, freq='D')"
      ]
     },
     "execution_count": 3,
     "metadata": {},
     "output_type": "execute_result"
    }
   ],
   "source": [
    "# 시작, 끝날만 정할 경우 : 하루 간격으로 출력됨.\n",
    "dtRange=pd.date_range('2022-07-01','2022-12-01')\n",
    "dtRange"
   ]
  },
  {
   "cell_type": "code",
   "execution_count": 5,
   "id": "05e52ee6",
   "metadata": {},
   "outputs": [
    {
     "data": {
      "text/plain": [
       "DatetimeIndex(['2022-07-01', '2022-08-01', '2022-09-01', '2022-10-01',\n",
       "               '2022-11-01', '2022-12-01'],\n",
       "              dtype='datetime64[ns]', freq='MS')"
      ]
     },
     "execution_count": 5,
     "metadata": {},
     "output_type": "execute_result"
    }
   ],
   "source": [
    "# ,freq = 'MS' : 매월 첫날만 출력.\n",
    "dtRange=pd.date_range('2022-07-01','2022-12-01' ,freq='MS')\n",
    "dtRange"
   ]
  },
  {
   "cell_type": "markdown",
   "id": "b72dac5f",
   "metadata": {},
   "source": [
    "# [ Q. 인덱스를 DatetimeIndex 설정해서 Series 객체 생성 ]"
   ]
  },
  {
   "cell_type": "code",
   "execution_count": 18,
   "id": "c93ce9fd",
   "metadata": {},
   "outputs": [
    {
     "data": {
      "text/plain": [
       "DatetimeIndex(['2022-07-01', '2022-08-01', '2022-09-01', '2022-10-01',\n",
       "               '2022-11-01', '2022-12-01'],\n",
       "              dtype='datetime64[ns]', freq='MS')"
      ]
     },
     "execution_count": 18,
     "metadata": {},
     "output_type": "execute_result"
    }
   ],
   "source": [
    "dtRange=pd.date_range('2022-07-01','2022-12-01' ,freq='MS')\n",
    "dtRange"
   ]
  },
  {
   "cell_type": "code",
   "execution_count": 22,
   "id": "655eb57f",
   "metadata": {},
   "outputs": [
    {
     "data": {
      "text/plain": [
       "2022-07-01    0\n",
       "2022-08-01    1\n",
       "2022-09-01    2\n",
       "2022-10-01    3\n",
       "2022-11-01    4\n",
       "2022-12-01    5\n",
       "Freq: MS, dtype: int64"
      ]
     },
     "execution_count": 22,
     "metadata": {},
     "output_type": "execute_result"
    }
   ],
   "source": [
    "# datetime 갯수만큼의 데이터 입력\n",
    "data=pd.Series(range(len(dtRange)),index = dtRange)\n",
    "data"
   ]
  },
  {
   "cell_type": "code",
   "execution_count": null,
   "id": "ba6cb358",
   "metadata": {},
   "outputs": [],
   "source": []
  }
 ],
 "metadata": {
  "kernelspec": {
   "display_name": "Python 3 (ipykernel)",
   "language": "python",
   "name": "python3"
  },
  "language_info": {
   "codemirror_mode": {
    "name": "ipython",
    "version": 3
   },
   "file_extension": ".py",
   "mimetype": "text/x-python",
   "name": "python",
   "nbconvert_exporter": "python",
   "pygments_lexer": "ipython3",
   "version": "3.9.12"
  }
 },
 "nbformat": 4,
 "nbformat_minor": 5
}
