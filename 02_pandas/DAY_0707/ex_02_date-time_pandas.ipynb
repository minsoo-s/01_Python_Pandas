{
 "cells": [
  {
   "cell_type": "markdown",
   "id": "8d809891",
   "metadata": {},
   "source": [
    "## [ 날짜 시간 관련 PANDAS ]\n",
    "\n",
    "- 관련 자료형: timmstamp, datetime64, period\n",
    "\n",
    "- 관련 메서드 : to_datetime(), date_range(), to_period(), period_range()"
   ]
  },
  {
   "cell_type": "code",
   "execution_count": 117,
   "id": "00e0597e",
   "metadata": {
    "scrolled": true
   },
   "outputs": [
    {
     "name": "stdout",
     "output_type": "stream",
     "text": [
      "<class 'pandas.core.frame.DataFrame'>\n",
      "RangeIndex: 2 entries, 0 to 1\n",
      "Data columns (total 3 columns):\n",
      " #   Column  Non-Null Count  Dtype\n",
      "---  ------  --------------  -----\n",
      " 0   year    2 non-null      int64\n",
      " 1   month   2 non-null      int64\n",
      " 2   day     2 non-null      int64\n",
      "dtypes: int64(3)\n",
      "memory usage: 176.0 bytes\n"
     ]
    }
   ],
   "source": [
    "# [ 모듈 로딩 ]\n",
    "import pandas as pd\n",
    "\n",
    "# [ DF 객체 생성 ]\n",
    "df = pd.DataFrame({ 'year' : [2021,2022],\n",
    "                   'month' : [11,12],\n",
    "                     'day' : [1,24] })\n",
    "\n",
    "df.info()"
   ]
  },
  {
   "cell_type": "code",
   "execution_count": 118,
   "id": "f0c4ad30",
   "metadata": {},
   "outputs": [
    {
     "data": {
      "text/html": [
       "<div>\n",
       "<style scoped>\n",
       "    .dataframe tbody tr th:only-of-type {\n",
       "        vertical-align: middle;\n",
       "    }\n",
       "\n",
       "    .dataframe tbody tr th {\n",
       "        vertical-align: top;\n",
       "    }\n",
       "\n",
       "    .dataframe thead th {\n",
       "        text-align: right;\n",
       "    }\n",
       "</style>\n",
       "<table border=\"1\" class=\"dataframe\">\n",
       "  <thead>\n",
       "    <tr style=\"text-align: right;\">\n",
       "      <th></th>\n",
       "      <th>year</th>\n",
       "      <th>month</th>\n",
       "      <th>day</th>\n",
       "    </tr>\n",
       "  </thead>\n",
       "  <tbody>\n",
       "    <tr>\n",
       "      <th>0</th>\n",
       "      <td>2021</td>\n",
       "      <td>11</td>\n",
       "      <td>1</td>\n",
       "    </tr>\n",
       "    <tr>\n",
       "      <th>1</th>\n",
       "      <td>2022</td>\n",
       "      <td>12</td>\n",
       "      <td>24</td>\n",
       "    </tr>\n",
       "  </tbody>\n",
       "</table>\n",
       "</div>"
      ],
      "text/plain": [
       "   year  month  day\n",
       "0  2021     11    1\n",
       "1  2022     12   24"
      ]
     },
     "execution_count": 118,
     "metadata": {},
     "output_type": "execute_result"
    }
   ],
   "source": [
    "df"
   ]
  },
  {
   "cell_type": "code",
   "execution_count": 119,
   "id": "fe02be22",
   "metadata": {},
   "outputs": [
    {
     "data": {
      "text/plain": [
       "year     int64\n",
       "month    int64\n",
       "day      int64\n",
       "dtype: object"
      ]
     },
     "execution_count": 119,
     "metadata": {},
     "output_type": "execute_result"
    }
   ],
   "source": [
    "# [ DF 객체 타임 정보]\n",
    "df.dtypes"
   ]
  },
  {
   "cell_type": "code",
   "execution_count": 120,
   "id": "276e3c20",
   "metadata": {},
   "outputs": [
    {
     "name": "stdout",
     "output_type": "stream",
     "text": [
      "<class 'pandas.core.series.Series'>\n",
      "0   2021-11-01\n",
      "1   2022-12-24\n",
      "dtype: datetime64[ns]\n"
     ]
    }
   ],
   "source": [
    "# DateTime으로 변환 => pandas.to_datetime()\n",
    "\n",
    "\n",
    ".''\n",
    "\n",
    "result = pd.to_datetime(df)\n",
    "\n",
    "print(type(result), result, sep='\\n') "
   ]
  },
  {
   "cell_type": "code",
   "execution_count": 121,
   "id": "e2fdbff6",
   "metadata": {},
   "outputs": [
    {
     "name": "stdout",
     "output_type": "stream",
     "text": [
      "<class 'pandas._libs.tslibs.timestamps.Timestamp'>\n",
      "2021-11-01 00:00:00\n"
     ]
    }
   ],
   "source": [
    "# 한 줄만 뺴올 경우 : type -> timestamps\n",
    "print(type(result[0]), result[0], sep='\\n')"
   ]
  },
  {
   "cell_type": "code",
   "execution_count": 122,
   "id": "75153a0f",
   "metadata": {},
   "outputs": [
    {
     "data": {
      "text/plain": [
       "(1, 11, 2021)"
      ]
     },
     "execution_count": 122,
     "metadata": {},
     "output_type": "execute_result"
    }
   ],
   "source": [
    "one=result[0]\n",
    "one.day, one.month, one.year"
   ]
  },
  {
   "cell_type": "markdown",
   "id": "5a300ba0",
   "metadata": {},
   "source": [
    "# [ 타입 및 다른 포맷 변환 메서드.... ' .to_변환타입()' ]"
   ]
  },
  {
   "cell_type": "code",
   "execution_count": 123,
   "id": "24159301",
   "metadata": {},
   "outputs": [
    {
     "data": {
      "text/plain": [
       "',0\\r\\n0,2021-11-01\\r\\n1,2022-12-24\\r\\n'"
      ]
     },
     "execution_count": 123,
     "metadata": {},
     "output_type": "execute_result"
    }
   ],
   "source": [
    "# 타입 및 다른 포맷 변환 메서드.... ' .to_변환타입()'\n",
    "result.to_csv()"
   ]
  },
  {
   "cell_type": "code",
   "execution_count": 124,
   "id": "77cbb936",
   "metadata": {},
   "outputs": [
    {
     "data": {
      "text/html": [
       "<div>\n",
       "<style scoped>\n",
       "    .dataframe tbody tr th:only-of-type {\n",
       "        vertical-align: middle;\n",
       "    }\n",
       "\n",
       "    .dataframe tbody tr th {\n",
       "        vertical-align: top;\n",
       "    }\n",
       "\n",
       "    .dataframe thead th {\n",
       "        text-align: right;\n",
       "    }\n",
       "</style>\n",
       "<table border=\"1\" class=\"dataframe\">\n",
       "  <thead>\n",
       "    <tr style=\"text-align: right;\">\n",
       "      <th></th>\n",
       "      <th>0</th>\n",
       "    </tr>\n",
       "  </thead>\n",
       "  <tbody>\n",
       "    <tr>\n",
       "      <th>0</th>\n",
       "      <td>2021-11-01</td>\n",
       "    </tr>\n",
       "    <tr>\n",
       "      <th>1</th>\n",
       "      <td>2022-12-24</td>\n",
       "    </tr>\n",
       "  </tbody>\n",
       "</table>\n",
       "</div>"
      ],
      "text/plain": [
       "           0\n",
       "0 2021-11-01\n",
       "1 2022-12-24"
      ]
     },
     "execution_count": 124,
     "metadata": {},
     "output_type": "execute_result"
    }
   ],
   "source": [
    "result.to_frame()"
   ]
  },
  {
   "cell_type": "code",
   "execution_count": 125,
   "id": "f56c3944",
   "metadata": {},
   "outputs": [
    {
     "data": {
      "text/plain": [
       "[Timestamp('2021-11-01 00:00:00'), Timestamp('2022-12-24 00:00:00')]"
      ]
     },
     "execution_count": 125,
     "metadata": {},
     "output_type": "execute_result"
    }
   ],
   "source": [
    "result.to_list()"
   ]
  },
  {
   "cell_type": "code",
   "execution_count": 126,
   "id": "f500a24a",
   "metadata": {},
   "outputs": [
    {
     "data": {
      "text/plain": [
       "'0   2021-11-01\\n1   2022-12-24'"
      ]
     },
     "execution_count": 126,
     "metadata": {},
     "output_type": "execute_result"
    }
   ],
   "source": [
    "result.to_string()"
   ]
  },
  {
   "cell_type": "code",
   "execution_count": 127,
   "id": "bdc1c02d",
   "metadata": {},
   "outputs": [],
   "source": [
    "result.to_csv('result.csv', index=False) # 파일 이름 주면 현재 폴더에 저장됨,"
   ]
  },
  {
   "cell_type": "code",
   "execution_count": 128,
   "id": "7dc0ac86",
   "metadata": {},
   "outputs": [],
   "source": [
    "result.to_json('result.json')"
   ]
  },
  {
   "cell_type": "markdown",
   "id": "2018e3ca",
   "metadata": {},
   "source": [
    "# [ CSV 파일 활용 실습 ]\n",
    "\n",
    "- 날짜 데이터가 있는 CSV파일 처리하기.\n",
    "- 날짜가 들어가 있는 컬럼 타입 변경하기."
   ]
  },
  {
   "cell_type": "code",
   "execution_count": 129,
   "id": "e0cac9bb",
   "metadata": {
    "scrolled": true
   },
   "outputs": [
    {
     "data": {
      "text/html": [
       "<div>\n",
       "<style scoped>\n",
       "    .dataframe tbody tr th:only-of-type {\n",
       "        vertical-align: middle;\n",
       "    }\n",
       "\n",
       "    .dataframe tbody tr th {\n",
       "        vertical-align: top;\n",
       "    }\n",
       "\n",
       "    .dataframe thead th {\n",
       "        text-align: right;\n",
       "    }\n",
       "</style>\n",
       "<table border=\"1\" class=\"dataframe\">\n",
       "  <thead>\n",
       "    <tr style=\"text-align: right;\">\n",
       "      <th></th>\n",
       "      <th>ident</th>\n",
       "      <th>site</th>\n",
       "      <th>dated</th>\n",
       "    </tr>\n",
       "  </thead>\n",
       "  <tbody>\n",
       "    <tr>\n",
       "      <th>0</th>\n",
       "      <td>619</td>\n",
       "      <td>DR-1</td>\n",
       "      <td>1927-02-08</td>\n",
       "    </tr>\n",
       "    <tr>\n",
       "      <th>1</th>\n",
       "      <td>622</td>\n",
       "      <td>DR-1</td>\n",
       "      <td>1927-02-10</td>\n",
       "    </tr>\n",
       "    <tr>\n",
       "      <th>2</th>\n",
       "      <td>734</td>\n",
       "      <td>DR-3</td>\n",
       "      <td>1939-01-07</td>\n",
       "    </tr>\n",
       "    <tr>\n",
       "      <th>3</th>\n",
       "      <td>735</td>\n",
       "      <td>DR-3</td>\n",
       "      <td>1930-01-12</td>\n",
       "    </tr>\n",
       "    <tr>\n",
       "      <th>4</th>\n",
       "      <td>751</td>\n",
       "      <td>DR-3</td>\n",
       "      <td>1930-02-26</td>\n",
       "    </tr>\n",
       "    <tr>\n",
       "      <th>5</th>\n",
       "      <td>752</td>\n",
       "      <td>DR-3</td>\n",
       "      <td>NaN</td>\n",
       "    </tr>\n",
       "    <tr>\n",
       "      <th>6</th>\n",
       "      <td>837</td>\n",
       "      <td>MSK-4</td>\n",
       "      <td>1932-01-14</td>\n",
       "    </tr>\n",
       "    <tr>\n",
       "      <th>7</th>\n",
       "      <td>844</td>\n",
       "      <td>DR-1</td>\n",
       "      <td>1932-03-22</td>\n",
       "    </tr>\n",
       "  </tbody>\n",
       "</table>\n",
       "</div>"
      ],
      "text/plain": [
       "   ident   site       dated\n",
       "0    619   DR-1  1927-02-08\n",
       "1    622   DR-1  1927-02-10\n",
       "2    734   DR-3  1939-01-07\n",
       "3    735   DR-3  1930-01-12\n",
       "4    751   DR-3  1930-02-26\n",
       "5    752   DR-3         NaN\n",
       "6    837  MSK-4  1932-01-14\n",
       "7    844   DR-1  1932-03-22"
      ]
     },
     "execution_count": 129,
     "metadata": {},
     "output_type": "execute_result"
    }
   ],
   "source": [
    "# (1) CSV FILE => DataFrame으로 가져오기\n",
    "data = pd.read_csv('../DATA/survey_visited.csv')\n",
    "data"
   ]
  },
  {
   "cell_type": "code",
   "execution_count": 139,
   "id": "6883fbc9",
   "metadata": {},
   "outputs": [
    {
     "data": {
      "text/html": [
       "<div>\n",
       "<style scoped>\n",
       "    .dataframe tbody tr th:only-of-type {\n",
       "        vertical-align: middle;\n",
       "    }\n",
       "\n",
       "    .dataframe tbody tr th {\n",
       "        vertical-align: top;\n",
       "    }\n",
       "\n",
       "    .dataframe thead th {\n",
       "        text-align: right;\n",
       "    }\n",
       "</style>\n",
       "<table border=\"1\" class=\"dataframe\">\n",
       "  <thead>\n",
       "    <tr style=\"text-align: right;\">\n",
       "      <th></th>\n",
       "      <th>ident</th>\n",
       "      <th>site</th>\n",
       "      <th>dated</th>\n",
       "    </tr>\n",
       "  </thead>\n",
       "  <tbody>\n",
       "    <tr>\n",
       "      <th>0</th>\n",
       "      <td>619</td>\n",
       "      <td>DR-1</td>\n",
       "      <td>1927-02-08</td>\n",
       "    </tr>\n",
       "    <tr>\n",
       "      <th>1</th>\n",
       "      <td>622</td>\n",
       "      <td>DR-1</td>\n",
       "      <td>1927-02-10</td>\n",
       "    </tr>\n",
       "    <tr>\n",
       "      <th>2</th>\n",
       "      <td>734</td>\n",
       "      <td>DR-3</td>\n",
       "      <td>1939-01-07</td>\n",
       "    </tr>\n",
       "    <tr>\n",
       "      <th>3</th>\n",
       "      <td>735</td>\n",
       "      <td>DR-3</td>\n",
       "      <td>1930-01-12</td>\n",
       "    </tr>\n",
       "    <tr>\n",
       "      <th>4</th>\n",
       "      <td>751</td>\n",
       "      <td>DR-3</td>\n",
       "      <td>1930-02-26</td>\n",
       "    </tr>\n",
       "    <tr>\n",
       "      <th>5</th>\n",
       "      <td>752</td>\n",
       "      <td>DR-3</td>\n",
       "      <td>1930-02-26</td>\n",
       "    </tr>\n",
       "    <tr>\n",
       "      <th>6</th>\n",
       "      <td>837</td>\n",
       "      <td>MSK-4</td>\n",
       "      <td>1932-01-14</td>\n",
       "    </tr>\n",
       "    <tr>\n",
       "      <th>7</th>\n",
       "      <td>844</td>\n",
       "      <td>DR-1</td>\n",
       "      <td>1932-03-22</td>\n",
       "    </tr>\n",
       "  </tbody>\n",
       "</table>\n",
       "</div>"
      ],
      "text/plain": [
       "   ident   site       dated\n",
       "0    619   DR-1  1927-02-08\n",
       "1    622   DR-1  1927-02-10\n",
       "2    734   DR-3  1939-01-07\n",
       "3    735   DR-3  1930-01-12\n",
       "4    751   DR-3  1930-02-26\n",
       "5    752   DR-3  1930-02-26\n",
       "6    837  MSK-4  1932-01-14\n",
       "7    844   DR-1  1932-03-22"
      ]
     },
     "execution_count": 139,
     "metadata": {},
     "output_type": "execute_result"
    }
   ],
   "source": [
    "# (2) 날짜 관련 데이터 => 자료형 변환하기\n",
    "\n",
    "# 결측치를 이전 날짜로 치환. \n",
    "data['dated'].fillna(method='ffill',inplace=True)\n",
    "data"
   ]
  },
  {
   "cell_type": "code",
   "execution_count": 140,
   "id": "c9559e9d",
   "metadata": {},
   "outputs": [],
   "source": [
    "# 자료형 변환하기. pd.to_datetime()\n",
    "data['dated'] = pd.to_datetime(data['dated'])"
   ]
  },
  {
   "cell_type": "code",
   "execution_count": 141,
   "id": "6a7c0aef",
   "metadata": {},
   "outputs": [
    {
     "name": "stdout",
     "output_type": "stream",
     "text": [
      "<class 'pandas.core.frame.DataFrame'>\n",
      "RangeIndex: 8 entries, 0 to 7\n",
      "Data columns (total 3 columns):\n",
      " #   Column  Non-Null Count  Dtype         \n",
      "---  ------  --------------  -----         \n",
      " 0   ident   8 non-null      int64         \n",
      " 1   site    8 non-null      object        \n",
      " 2   dated   8 non-null      datetime64[ns]\n",
      "dtypes: datetime64[ns](1), int64(1), object(1)\n",
      "memory usage: 320.0+ bytes\n"
     ]
    }
   ],
   "source": [
    "data.info()"
   ]
  },
  {
   "cell_type": "code",
   "execution_count": 145,
   "id": "a01b7b0d",
   "metadata": {},
   "outputs": [
    {
     "data": {
      "text/plain": [
       "(Timestamp('1927-02-08 00:00:00'), 1927, 8)"
      ]
     },
     "execution_count": 145,
     "metadata": {},
     "output_type": "execute_result"
    }
   ],
   "source": [
    "data['dated'][0], data['dated'][0].year, data['dated'][0].day"
   ]
  },
  {
   "cell_type": "code",
   "execution_count": 147,
   "id": "c8103e3f",
   "metadata": {},
   "outputs": [
    {
     "data": {
      "text/plain": [
       "(pandas.core.series.Series, dtype('<M8[ns]'))"
      ]
     },
     "execution_count": 147,
     "metadata": {},
     "output_type": "execute_result"
    }
   ],
   "source": [
    "type(data['dated']), data['dated'].dtype"
   ]
  },
  {
   "cell_type": "markdown",
   "id": "ab0dfec8",
   "metadata": {},
   "source": [
    "# [ 시리즈에서 바로 datetime 추출해서 사용하기 ]\n",
    " \n",
    "- 시리즈명.dt.~ "
   ]
  },
  {
   "cell_type": "code",
   "execution_count": 150,
   "id": "141be8ad",
   "metadata": {},
   "outputs": [
    {
     "data": {
      "text/plain": [
       "0    1927\n",
       "1    1927\n",
       "2    1939\n",
       "3    1930\n",
       "4    1930\n",
       "5    1930\n",
       "6    1932\n",
       "7    1932\n",
       "Name: dated, dtype: int64"
      ]
     },
     "execution_count": 150,
     "metadata": {},
     "output_type": "execute_result"
    }
   ],
   "source": [
    "# data['dated'].year <- 시리즈에서 year 못찾음\n",
    "\n",
    "data['dated'].dt.year  # <- pandas.dt.~  : 시리즈 안에서 datetime 찾을 때 사용."
   ]
  },
  {
   "cell_type": "code",
   "execution_count": 152,
   "id": "03138e18",
   "metadata": {},
   "outputs": [
    {
     "data": {
      "text/plain": [
       "0   1927-02-08\n",
       "1   1927-02-10\n",
       "2   1939-01-07\n",
       "3   1930-01-12\n",
       "4   1930-02-26\n",
       "5   1930-02-26\n",
       "6   1932-01-14\n",
       "7   1932-03-22\n",
       "Name: dated, dtype: datetime64[ns]"
      ]
     },
     "execution_count": 152,
     "metadata": {},
     "output_type": "execute_result"
    }
   ],
   "source": [
    "dataSR=data['dated']\n",
    "dataSR"
   ]
  },
  {
   "cell_type": "code",
   "execution_count": 153,
   "id": "5a26edb2",
   "metadata": {},
   "outputs": [
    {
     "data": {
      "text/plain": [
       "2   1939-01-07\n",
       "3   1930-01-12\n",
       "4   1930-02-26\n",
       "5   1930-02-26\n",
       "6   1932-01-14\n",
       "7   1932-03-22\n",
       "Name: dated, dtype: datetime64[ns]"
      ]
     },
     "execution_count": 153,
     "metadata": {},
     "output_type": "execute_result"
    }
   ],
   "source": [
    "dataSR[dataSR.dt.year>=1930]"
   ]
  },
  {
   "cell_type": "code",
   "execution_count": 154,
   "id": "45772336",
   "metadata": {},
   "outputs": [
    {
     "data": {
      "text/plain": [
       "0   1927-02-08\n",
       "1   1927-02-10\n",
       "4   1930-02-26\n",
       "5   1930-02-26\n",
       "7   1932-03-22\n",
       "Name: dated, dtype: datetime64[ns]"
      ]
     },
     "execution_count": 154,
     "metadata": {},
     "output_type": "execute_result"
    }
   ],
   "source": [
    "dataSR[dataSR.dt.month>=2]"
   ]
  },
  {
   "cell_type": "code",
   "execution_count": null,
   "id": "7ae44c81",
   "metadata": {},
   "outputs": [],
   "source": []
  }
 ],
 "metadata": {
  "kernelspec": {
   "display_name": "Python 3 (ipykernel)",
   "language": "python",
   "name": "python3"
  },
  "language_info": {
   "codemirror_mode": {
    "name": "ipython",
    "version": 3
   },
   "file_extension": ".py",
   "mimetype": "text/x-python",
   "name": "python",
   "nbconvert_exporter": "python",
   "pygments_lexer": "ipython3",
   "version": "3.9.12"
  }
 },
 "nbformat": 4,
 "nbformat_minor": 5
}
