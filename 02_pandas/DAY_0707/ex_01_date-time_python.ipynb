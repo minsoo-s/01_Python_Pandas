{
 "cells": [
  {
   "cell_type": "markdown",
   "id": "2a6c7fa3",
   "metadata": {},
   "source": [
    "# [ 1. 날짜 시간 관련 패키지 다루기 ]\n",
    "\n",
    "- 파이썬 => date, time, datetime 관련 클래스\n",
    "    "
   ]
  },
  {
   "cell_type": "markdown",
   "id": "38461221",
   "metadata": {},
   "source": [
    "# 시간 관련 클래스 ---> "
   ]
  },
  {
   "cell_type": "code",
   "execution_count": 11,
   "id": "f7276f90",
   "metadata": {},
   "outputs": [],
   "source": [
    "# 모듈 로딩 ------------------------------------------------------------------------\n",
    "import time as t\n",
    "import matplotlib as mp"
   ]
  },
  {
   "cell_type": "code",
   "execution_count": 17,
   "id": "dfdfbe08",
   "metadata": {},
   "outputs": [
    {
     "name": "stdout",
     "output_type": "stream",
     "text": [
      "현재 시간 : Thu Jul  7 09:38:52 2022\n"
     ]
    }
   ],
   "source": [
    "# 현재 시간 출력 메서드--------------------------------------------------------------\n",
    "\n",
    "# (1) 보기 쉽게 변호해서 갸져오기\n",
    "currentTm = t.ctime(t.time())\n",
    "print(f'현재 시간 : {currentTm}')"
   ]
  },
  {
   "cell_type": "code",
   "execution_count": 25,
   "id": "2275675a",
   "metadata": {},
   "outputs": [
    {
     "name": "stdout",
     "output_type": "stream",
     "text": [
      "현재 시간 구조체 클래 : time.struct_time(tm_year=2022, tm_mon=7, tm_mday=7, tm_hour=9, tm_min=46, tm_sec=26, tm_wday=3, tm_yday=188, tm_isdst=0)\n"
     ]
    }
   ],
   "source": [
    "# (2) 원하는 대로 변환할 수 있는 구조체 객체\n",
    "localStruct = t.localtime(t.time())\n",
    "\n",
    "print(f'현재 시간 구조체 클래스 : {localStruct}')"
   ]
  },
  {
   "cell_type": "markdown",
   "id": "0bddb3ba",
   "metadata": {},
   "source": [
    "# 날짜 관련 클래스 ---> datetime.date 클래스"
   ]
  },
  {
   "cell_type": "code",
   "execution_count": 29,
   "id": "20238513",
   "metadata": {},
   "outputs": [
    {
     "name": "stdout",
     "output_type": "stream",
     "text": [
      "<class 'datetime.date'> 2022-07-07\n"
     ]
    }
   ],
   "source": [
    "from datetime import date\n",
    "\n",
    "currentDT = date.today()\n",
    "print(type(currentDT),currentDT)"
   ]
  },
  {
   "cell_type": "code",
   "execution_count": 33,
   "id": "5e8b3f37",
   "metadata": {},
   "outputs": [
    {
     "name": "stdout",
     "output_type": "stream",
     "text": [
      "<class 'datetime.date'> 2022-12-24\n"
     ]
    }
   ],
   "source": [
    "d_day=date(2022, 12, 24)\n",
    "\n",
    "print(type(d_day), d_day)"
   ]
  },
  {
   "cell_type": "code",
   "execution_count": 61,
   "id": "5cf5c27c",
   "metadata": {},
   "outputs": [
    {
     "data": {
      "text/plain": [
       "(24, 12, 2022)"
      ]
     },
     "execution_count": 61,
     "metadata": {},
     "output_type": "execute_result"
    }
   ],
   "source": [
    "# 속성에 접급하기 : .day, .month, .year \n",
    "d_day.day, d_day.month, d_day.year "
   ]
  },
  {
   "cell_type": "markdown",
   "id": "f97cfb70",
   "metadata": {},
   "source": [
    "# 날짜/시간 관련 클래스 ==>  datetime.datetime"
   ]
  },
  {
   "cell_type": "code",
   "execution_count": 51,
   "id": "475f4488",
   "metadata": {},
   "outputs": [
    {
     "data": {
      "text/plain": [
       "datetime.datetime(2022, 7, 7, 10, 5, 59, 346140)"
      ]
     },
     "execution_count": 51,
     "metadata": {},
     "output_type": "execute_result"
    }
   ],
   "source": [
    "from datetime import datetime as dt\n",
    "\n",
    "# 현재 날짜, 시간\n",
    "dt.today()"
   ]
  },
  {
   "cell_type": "code",
   "execution_count": 53,
   "id": "d72efc31",
   "metadata": {},
   "outputs": [
    {
     "data": {
      "text/plain": [
       "datetime.datetime(2022, 7, 7, 10, 6, 7, 327608)"
      ]
     },
     "execution_count": 53,
     "metadata": {},
     "output_type": "execute_result"
    }
   ],
   "source": [
    "dt.now()"
   ]
  },
  {
   "cell_type": "code",
   "execution_count": 54,
   "id": "3026582f",
   "metadata": {},
   "outputs": [
    {
     "data": {
      "text/plain": [
       "datetime.datetime(2022, 12, 24, 0, 0)"
      ]
     },
     "execution_count": 54,
     "metadata": {},
     "output_type": "execute_result"
    }
   ],
   "source": [
    "# 원하느 날짜시간 설정\n",
    "d_daytime = dt(2022, 12, 24)\n",
    "d_daytime"
   ]
  },
  {
   "cell_type": "code",
   "execution_count": 60,
   "id": "3ea30ab3",
   "metadata": {},
   "outputs": [
    {
     "data": {
      "text/plain": [
       "(24, 2022, 12, 0)"
      ]
     },
     "execution_count": 60,
     "metadata": {},
     "output_type": "execute_result"
    }
   ],
   "source": [
    "# 속성에 접급하기 (시간까지 가능)\n",
    "d_daytime.day, d_daytime.year, d_daytime.month, d_daytime.minute"
   ]
  }
 ],
 "metadata": {
  "kernelspec": {
   "display_name": "Python 3 (ipykernel)",
   "language": "python",
   "name": "python3"
  },
  "language_info": {
   "codemirror_mode": {
    "name": "ipython",
    "version": 3
   },
   "file_extension": ".py",
   "mimetype": "text/x-python",
   "name": "python",
   "nbconvert_exporter": "python",
   "pygments_lexer": "ipython3",
   "version": "3.9.12"
  }
 },
 "nbformat": 4,
 "nbformat_minor": 5
}
