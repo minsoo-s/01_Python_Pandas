{
 "cells": [
  {
   "cell_type": "markdown",
   "id": "df8d3ada",
   "metadata": {},
   "source": [
    "# 통계 관련 메서드 실습 ------------------------------------\n",
    "\n",
    "- 데이터에 대한 평균, 표준편차 , 중앙값, 최빈값, 상관계수값 관련 메서드 활용\n",
    "- 데이터와 데이터의 관계, 데이터의 분포 등을 파악."
   ]
  },
  {
   "cell_type": "code",
   "execution_count": 28,
   "id": "be076bef",
   "metadata": {},
   "outputs": [
    {
     "data": {
      "text/plain": [
       "'../DATA/iris.csv'"
      ]
     },
     "execution_count": 28,
     "metadata": {},
     "output_type": "execute_result"
    }
   ],
   "source": [
    "# 모듈 로딩\n",
    "import pandas as pd\n",
    "\n",
    "# 파일 관련 변수들\n",
    "DIR_PATH = '../DATA/'\n",
    "FILE_NAME = DIR_PATH + 'iris.csv'\n",
    "\n",
    "FILE_NAME"
   ]
  },
  {
   "cell_type": "code",
   "execution_count": 29,
   "id": "d192ba6f",
   "metadata": {},
   "outputs": [
    {
     "name": "stdout",
     "output_type": "stream",
     "text": [
      "<class 'pandas.core.frame.DataFrame'>\n",
      "RangeIndex: 150 entries, 0 to 149\n",
      "Data columns (total 5 columns):\n",
      " #   Column       Non-Null Count  Dtype  \n",
      "---  ------       --------------  -----  \n",
      " 0   SepalLength  150 non-null    float64\n",
      " 1   SepalWidth   150 non-null    float64\n",
      " 2   PetalLength  150 non-null    float64\n",
      " 3   PetalWidth   150 non-null    float64\n",
      " 4   Name         150 non-null    object \n",
      "dtypes: float64(4), object(1)\n",
      "memory usage: 6.0+ KB\n"
     ]
    }
   ],
   "source": [
    "# CSV File ==> DataFrame 으로 로딩\n",
    "irisDF = pd.read_csv(FILE_NAME)\n",
    "irisDF.info()"
   ]
  },
  {
   "cell_type": "code",
   "execution_count": 30,
   "id": "0e13d852",
   "metadata": {},
   "outputs": [
    {
     "name": "stdout",
     "output_type": "stream",
     "text": [
      "SepalLength    0.828066\n",
      "SepalWidth     0.433594\n",
      "PetalLength    1.764420\n",
      "PetalWidth     0.763161\n",
      "dtype: float64\n",
      "SepalLength               7.9\n",
      "SepalWidth                4.4\n",
      "PetalLength               6.9\n",
      "PetalWidth                2.5\n",
      "Name           Iris-virginica\n",
      "dtype: object\n",
      "<bound method NDFrame._add_numeric_operations.<locals>.mean of      SepalLength  SepalWidth  PetalLength  PetalWidth            Name\n",
      "0            5.1         3.5          1.4         0.2     Iris-setosa\n",
      "1            4.9         3.0          1.4         0.2     Iris-setosa\n",
      "2            4.7         3.2          1.3         0.2     Iris-setosa\n",
      "3            4.6         3.1          1.5         0.2     Iris-setosa\n",
      "4            5.0         3.6          1.4         0.2     Iris-setosa\n",
      "..           ...         ...          ...         ...             ...\n",
      "145          6.7         3.0          5.2         2.3  Iris-virginica\n",
      "146          6.3         2.5          5.0         1.9  Iris-virginica\n",
      "147          6.5         3.0          5.2         2.0  Iris-virginica\n",
      "148          6.2         3.4          5.4         2.3  Iris-virginica\n",
      "149          5.9         3.0          5.1         1.8  Iris-virginica\n",
      "\n",
      "[150 rows x 5 columns]>\n",
      "SepalLength            4.3\n",
      "SepalWidth             2.0\n",
      "PetalLength            1.0\n",
      "PetalWidth             0.1\n",
      "Name           Iris-setosa\n",
      "dtype: object\n",
      "SepalLength    5.80\n",
      "SepalWidth     3.00\n",
      "PetalLength    4.35\n",
      "PetalWidth     1.30\n",
      "dtype: float64\n",
      "             SepalLength  SepalWidth  PetalLength  PetalWidth\n",
      "SepalLength     1.000000   -0.109369     0.871754    0.817954\n",
      "SepalWidth     -0.109369    1.000000    -0.420516   -0.356544\n",
      "PetalLength     0.871754   -0.420516     1.000000    0.962757\n",
      "PetalWidth      0.817954   -0.356544     0.962757    1.000000\n"
     ]
    },
    {
     "name": "stderr",
     "output_type": "stream",
     "text": [
      "C:\\Users\\alstn\\AppData\\Local\\Temp\\ipykernel_1688\\866460468.py:1: FutureWarning: Dropping of nuisance columns in DataFrame reductions (with 'numeric_only=None') is deprecated; in a future version this will raise TypeError.  Select only valid columns before calling the reduction.\n",
      "  print(irisDF.std())\n",
      "C:\\Users\\alstn\\AppData\\Local\\Temp\\ipykernel_1688\\866460468.py:5: FutureWarning: Dropping of nuisance columns in DataFrame reductions (with 'numeric_only=None') is deprecated; in a future version this will raise TypeError.  Select only valid columns before calling the reduction.\n",
      "  print(irisDF.median())\n"
     ]
    }
   ],
   "source": [
    "print(irisDF.std())\n",
    "print(irisDF.max())\n",
    "print(irisDF.mean)\n",
    "print(irisDF.min())\n",
    "print(irisDF.median())\n",
    "print(irisDF.corr())"
   ]
  },
  {
   "cell_type": "code",
   "execution_count": 37,
   "id": "90864812",
   "metadata": {},
   "outputs": [
    {
     "data": {
      "text/plain": [
       "0.8717541573048718"
      ]
     },
     "execution_count": 37,
     "metadata": {},
     "output_type": "execute_result"
    }
   ],
   "source": [
    "# 특정 열 상관계수 구할 시, 비교할 열도 입력해줘야함.\n",
    "irisDF['SepalLength'].corr(irisDF['PetalLength'])"
   ]
  },
  {
   "cell_type": "code",
   "execution_count": 31,
   "id": "003e4527",
   "metadata": {},
   "outputs": [
    {
     "data": {
      "text/html": [
       "<div>\n",
       "<style scoped>\n",
       "    .dataframe tbody tr th:only-of-type {\n",
       "        vertical-align: middle;\n",
       "    }\n",
       "\n",
       "    .dataframe tbody tr th {\n",
       "        vertical-align: top;\n",
       "    }\n",
       "\n",
       "    .dataframe thead th {\n",
       "        text-align: right;\n",
       "    }\n",
       "</style>\n",
       "<table border=\"1\" class=\"dataframe\">\n",
       "  <thead>\n",
       "    <tr style=\"text-align: right;\">\n",
       "      <th></th>\n",
       "      <th>SepalLength</th>\n",
       "      <th>SepalWidth</th>\n",
       "      <th>PetalLength</th>\n",
       "      <th>PetalWidth</th>\n",
       "      <th>Name</th>\n",
       "    </tr>\n",
       "  </thead>\n",
       "  <tbody>\n",
       "    <tr>\n",
       "      <th>0</th>\n",
       "      <td>5.1</td>\n",
       "      <td>3.5</td>\n",
       "      <td>1.4</td>\n",
       "      <td>0.2</td>\n",
       "      <td>Iris-setosa</td>\n",
       "    </tr>\n",
       "    <tr>\n",
       "      <th>1</th>\n",
       "      <td>4.9</td>\n",
       "      <td>3.0</td>\n",
       "      <td>1.4</td>\n",
       "      <td>0.2</td>\n",
       "      <td>Iris-setosa</td>\n",
       "    </tr>\n",
       "    <tr>\n",
       "      <th>2</th>\n",
       "      <td>4.7</td>\n",
       "      <td>3.2</td>\n",
       "      <td>1.3</td>\n",
       "      <td>0.2</td>\n",
       "      <td>Iris-setosa</td>\n",
       "    </tr>\n",
       "    <tr>\n",
       "      <th>3</th>\n",
       "      <td>4.6</td>\n",
       "      <td>3.1</td>\n",
       "      <td>1.5</td>\n",
       "      <td>0.2</td>\n",
       "      <td>Iris-setosa</td>\n",
       "    </tr>\n",
       "    <tr>\n",
       "      <th>4</th>\n",
       "      <td>5.0</td>\n",
       "      <td>3.6</td>\n",
       "      <td>1.4</td>\n",
       "      <td>0.2</td>\n",
       "      <td>Iris-setosa</td>\n",
       "    </tr>\n",
       "    <tr>\n",
       "      <th>...</th>\n",
       "      <td>...</td>\n",
       "      <td>...</td>\n",
       "      <td>...</td>\n",
       "      <td>...</td>\n",
       "      <td>...</td>\n",
       "    </tr>\n",
       "    <tr>\n",
       "      <th>145</th>\n",
       "      <td>6.7</td>\n",
       "      <td>3.0</td>\n",
       "      <td>5.2</td>\n",
       "      <td>2.3</td>\n",
       "      <td>Iris-virginica</td>\n",
       "    </tr>\n",
       "    <tr>\n",
       "      <th>146</th>\n",
       "      <td>6.3</td>\n",
       "      <td>2.5</td>\n",
       "      <td>5.0</td>\n",
       "      <td>1.9</td>\n",
       "      <td>Iris-virginica</td>\n",
       "    </tr>\n",
       "    <tr>\n",
       "      <th>147</th>\n",
       "      <td>6.5</td>\n",
       "      <td>3.0</td>\n",
       "      <td>5.2</td>\n",
       "      <td>2.0</td>\n",
       "      <td>Iris-virginica</td>\n",
       "    </tr>\n",
       "    <tr>\n",
       "      <th>148</th>\n",
       "      <td>6.2</td>\n",
       "      <td>3.4</td>\n",
       "      <td>5.4</td>\n",
       "      <td>2.3</td>\n",
       "      <td>Iris-virginica</td>\n",
       "    </tr>\n",
       "    <tr>\n",
       "      <th>149</th>\n",
       "      <td>5.9</td>\n",
       "      <td>3.0</td>\n",
       "      <td>5.1</td>\n",
       "      <td>1.8</td>\n",
       "      <td>Iris-virginica</td>\n",
       "    </tr>\n",
       "  </tbody>\n",
       "</table>\n",
       "<p>150 rows × 5 columns</p>\n",
       "</div>"
      ],
      "text/plain": [
       "     SepalLength  SepalWidth  PetalLength  PetalWidth            Name\n",
       "0            5.1         3.5          1.4         0.2     Iris-setosa\n",
       "1            4.9         3.0          1.4         0.2     Iris-setosa\n",
       "2            4.7         3.2          1.3         0.2     Iris-setosa\n",
       "3            4.6         3.1          1.5         0.2     Iris-setosa\n",
       "4            5.0         3.6          1.4         0.2     Iris-setosa\n",
       "..           ...         ...          ...         ...             ...\n",
       "145          6.7         3.0          5.2         2.3  Iris-virginica\n",
       "146          6.3         2.5          5.0         1.9  Iris-virginica\n",
       "147          6.5         3.0          5.2         2.0  Iris-virginica\n",
       "148          6.2         3.4          5.4         2.3  Iris-virginica\n",
       "149          5.9         3.0          5.1         1.8  Iris-virginica\n",
       "\n",
       "[150 rows x 5 columns]"
      ]
     },
     "execution_count": 31,
     "metadata": {},
     "output_type": "execute_result"
    }
   ],
   "source": [
    "irisDF"
   ]
  },
  {
   "cell_type": "code",
   "execution_count": 36,
   "id": "2afe3269",
   "metadata": {},
   "outputs": [
    {
     "name": "stdout",
     "output_type": "stream",
     "text": [
      "---SepalLength---\n",
      "평    균 : 5.843333333333335\n",
      "표준편차 : 0.8280661279778629\n",
      "최 빈 값 : 5.0\n",
      "SepalWidth : -0.10936924995064937\n",
      "PetalLength : 0.8717541573048718\n",
      "PetalWidth : 0.8179536333691636\n",
      "\n",
      "---SepalWidth---\n",
      "평    균 : 3.0540000000000007\n",
      "표준편차 : 0.4335943113621737\n",
      "최 빈 값 : 3.0\n",
      "SepalLength : -0.10936924995064937\n",
      "PetalLength : -0.42051609640115445\n",
      "PetalWidth : -0.35654408961380535\n",
      "\n",
      "---PetalLength---\n",
      "평    균 : 3.7586666666666693\n",
      "표준편차 : 1.7644204199522617\n",
      "최 빈 값 : 1.5\n",
      "SepalLength : 0.8717541573048718\n",
      "SepalWidth : -0.42051609640115445\n",
      "PetalWidth : 0.9627570970509663\n",
      "\n",
      "---PetalWidth---\n",
      "평    균 : 1.1986666666666672\n",
      "표준편차 : 0.7631607417008414\n",
      "최 빈 값 : 0.2\n",
      "SepalLength : 0.8179536333691637\n",
      "SepalWidth : -0.35654408961380535\n",
      "PetalLength : 0.9627570970509663\n",
      "\n"
     ]
    }
   ],
   "source": [
    "# (3) 컬럼별 평균, 표준편차, 상관계수 출력하기\n",
    "for col in irisDF.columns[:4]:\n",
    "    print(f'---{col}---')\n",
    "    print(f'평    균 : {irisDF[col].mean()}')\n",
    "    print(f'표준편차 : {irisDF[col].std()}')\n",
    "    print(f'최 빈 값 : {irisDF[col].mode()[0]}') \n",
    "    # mode는 인덱스와 최빈값이 같이 나오므로 [0]번 칼럼만 출력.\n",
    "    \n",
    "    for icol in irisDF.columns[:4]:\n",
    "        if col == icol: continue \n",
    "        print(f'{icol} : {irisDF[col].corr(irisDF[icol])}')    \n",
    "    print()"
   ]
  }
 ],
 "metadata": {
  "kernelspec": {
   "display_name": "Python 3 (ipykernel)",
   "language": "python",
   "name": "python3"
  },
  "language_info": {
   "codemirror_mode": {
    "name": "ipython",
    "version": 3
   },
   "file_extension": ".py",
   "mimetype": "text/x-python",
   "name": "python",
   "nbconvert_exporter": "python",
   "pygments_lexer": "ipython3",
   "version": "3.9.12"
  }
 },
 "nbformat": 4,
 "nbformat_minor": 5
}
