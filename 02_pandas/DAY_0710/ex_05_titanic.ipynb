{
 "cells": [
  {
   "cell_type": "code",
   "execution_count": null,
   "id": "c7d7d331",
   "metadata": {},
   "outputs": [],
   "source": [
    "import pandas as pd\n",
    "import matplotlib"
   ]
  },
  {
   "cell_type": "code",
   "execution_count": null,
   "id": "3d14cdd5",
   "metadata": {},
   "outputs": [],
   "source": [
    "import seaborn"
   ]
  },
  {
   "cell_type": "code",
   "execution_count": null,
   "id": "cfabf162",
   "metadata": {},
   "outputs": [],
   "source": [
    "import numpy as np"
   ]
  },
  {
   "cell_type": "code",
   "execution_count": null,
   "id": "b973565f",
   "metadata": {},
   "outputs": [],
   "source": [
    "!pip install seaborn"
   ]
  },
  {
   "cell_type": "code",
   "execution_count": null,
   "id": "90b8a30a",
   "metadata": {},
   "outputs": [],
   "source": [
    "# Data 로딩-----------------------------------------------------\n",
    "df=seaborn.load_dataset('titanic')\n",
    "df.info()"
   ]
  },
  {
   "cell_type": "code",
   "execution_count": null,
   "id": "2d60047e",
   "metadata": {},
   "outputs": [],
   "source": [
    "# 성별, 등석, 나이에 따른 생존율 구하기 (group.pivot)"
   ]
  },
  {
   "cell_type": "markdown",
   "id": "75e84697",
   "metadata": {},
   "source": [
    "# 1. 결측치 체크"
   ]
  },
  {
   "cell_type": "code",
   "execution_count": null,
   "id": "9eea28b8",
   "metadata": {},
   "outputs": [],
   "source": [
    "# age 결측치 체크\n",
    "df['age'].unique() # ---> 소수점 존재, nan 존재"
   ]
  },
  {
   "cell_type": "code",
   "execution_count": null,
   "id": "e5957f4c",
   "metadata": {},
   "outputs": [],
   "source": [
    "df['age'].isnull().sum()"
   ]
  },
  {
   "cell_type": "code",
   "execution_count": null,
   "id": "d357a05c",
   "metadata": {},
   "outputs": [],
   "source": [
    "df['age'].info()"
   ]
  },
  {
   "cell_type": "code",
   "execution_count": null,
   "id": "371f1f8b",
   "metadata": {
    "scrolled": true
   },
   "outputs": [],
   "source": [
    "# age 결측치 치환\n",
    "df['age'].fillna(df['age'].mean(),inplace=True)"
   ]
  },
  {
   "cell_type": "code",
   "execution_count": null,
   "id": "2139a23d",
   "metadata": {},
   "outputs": [],
   "source": [
    "df['age'].unique()"
   ]
  },
  {
   "cell_type": "code",
   "execution_count": null,
   "id": "d3c066a8",
   "metadata": {},
   "outputs": [],
   "source": [
    "df.info()"
   ]
  },
  {
   "cell_type": "code",
   "execution_count": null,
   "id": "f4793983",
   "metadata": {
    "scrolled": true
   },
   "outputs": [],
   "source": [
    "df['age']= df['age'].astype(int)"
   ]
  },
  {
   "cell_type": "code",
   "execution_count": null,
   "id": "e732e4e7",
   "metadata": {},
   "outputs": [],
   "source": [
    "df['age'].dtypes\n"
   ]
  },
  {
   "cell_type": "code",
   "execution_count": null,
   "id": "cf0a1b8e",
   "metadata": {
    "scrolled": true
   },
   "outputs": [],
   "source": [
    "df['age'].unique()"
   ]
  },
  {
   "cell_type": "code",
   "execution_count": null,
   "id": "76ba2371",
   "metadata": {},
   "outputs": [],
   "source": [
    "df['age'].replace(0,1,inplace=True)"
   ]
  },
  {
   "cell_type": "code",
   "execution_count": null,
   "id": "bca00892",
   "metadata": {},
   "outputs": [],
   "source": [
    "# embarked 결측치 확인\n",
    "df['embarked'].isnull().sum()"
   ]
  },
  {
   "cell_type": "code",
   "execution_count": null,
   "id": "bd074393",
   "metadata": {},
   "outputs": [],
   "source": [
    "df['embarked'].info()"
   ]
  },
  {
   "cell_type": "code",
   "execution_count": null,
   "id": "69521119",
   "metadata": {},
   "outputs": [],
   "source": [
    "df['embarked'].unique()"
   ]
  },
  {
   "cell_type": "code",
   "execution_count": null,
   "id": "da5067bd",
   "metadata": {},
   "outputs": [],
   "source": [
    "df['embarked'].fillna(\"\",inplace=True)"
   ]
  },
  {
   "cell_type": "code",
   "execution_count": null,
   "id": "745a9e53",
   "metadata": {},
   "outputs": [],
   "source": [
    "df['embarked'].unique()"
   ]
  },
  {
   "cell_type": "code",
   "execution_count": null,
   "id": "56fe24e2",
   "metadata": {},
   "outputs": [],
   "source": [
    "# 나이 나누기\n",
    "bins=list(range(0,101,25))\n",
    "bins\n",
    "bins_label = [str(x)+'이상'+str(x+10)+\"미만\" for x in bins]\n"
   ]
  },
  {
   "cell_type": "code",
   "execution_count": null,
   "id": "accf2bab",
   "metadata": {},
   "outputs": [],
   "source": [
    "df.pivot_table(index='sex',columns='embarked',values='survived',aggfunc='count')"
   ]
  },
  {
   "cell_type": "code",
   "execution_count": null,
   "id": "cd732abe",
   "metadata": {},
   "outputs": [],
   "source": [
    "bins=list(range(0,81,10))"
   ]
  },
  {
   "cell_type": "code",
   "execution_count": null,
   "id": "49373019",
   "metadata": {},
   "outputs": [],
   "source": [
    "bins_label= [str(x)+\"세 이상 \"+str(x+10)+\"세 이하\" for x in bins]\n",
    "bins_label"
   ]
  },
  {
   "cell_type": "code",
   "execution_count": null,
   "id": "3abd6a38",
   "metadata": {},
   "outputs": [],
   "source": [
    "df['age2'] = pd.cut(df['age'],bins,right=False, labels=bins_label[:-1])"
   ]
  },
  {
   "cell_type": "code",
   "execution_count": null,
   "id": "c812410a",
   "metadata": {},
   "outputs": [],
   "source": []
  },
  {
   "cell_type": "code",
   "execution_count": null,
   "id": "77fbb966",
   "metadata": {
    "scrolled": true
   },
   "outputs": [],
   "source": [
    "df_group = df.groupby(['sex','class','age2'])['survived']\n",
    "#df_group.agg(np.sum,np.mean)"
   ]
  },
  {
   "cell_type": "code",
   "execution_count": null,
   "id": "9ca0051d",
   "metadata": {},
   "outputs": [],
   "source": [
    "plt=df_group.plot(kind='bar',stacked=True,figsize=[16,10],fontsize=14)\n",
    "plt.xlabel(\"age2\",fontsize=16)\n",
    "plt.ylabel('survived.mean(),fontsize=16')"
   ]
  },
  {
   "cell_type": "code",
   "execution_count": null,
   "id": "91ac670a",
   "metadata": {},
   "outputs": [],
   "source": []
  }
 ],
 "metadata": {
  "kernelspec": {
   "display_name": "Python 3 (ipykernel)",
   "language": "python",
   "name": "python3"
  },
  "language_info": {
   "codemirror_mode": {
    "name": "ipython",
    "version": 3
   },
   "file_extension": ".py",
   "mimetype": "text/x-python",
   "name": "python",
   "nbconvert_exporter": "python",
   "pygments_lexer": "ipython3",
   "version": "3.9.12"
  }
 },
 "nbformat": 4,
 "nbformat_minor": 5
}
