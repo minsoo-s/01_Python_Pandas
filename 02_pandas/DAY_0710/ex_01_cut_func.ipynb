{
 "cells": [
  {
   "cell_type": "markdown",
   "id": "817a756b",
   "metadata": {},
   "source": [
    "# 연속형 자료형 = 범주형 변환 ----------------------------\n",
    "\n",
    "- pandas.cut() 함수 제공\n",
    "    - PARAMETER\n",
    "        - bins  :  구간 갯수                       --> 정렬 후 지정된 갯수 만큼 구간\n",
    "        - right :  오른쪽 값 포함여부              --> True\n",
    "        - labels : 구간에 대한 라벨, 리스트        --> 구간 갯수 맞게 설정\n",
    "        - include_lowest : 가장 왼쪽값 포함 ㅇ며부 --> False\n",
    "        - retbins : 구간리스트 반환 여부           --> False\n",
    "        \n",
    "    -RESULT\n",
    "        - 범주형 변환 데이터\n",
    "        - 구간 리스트        <-- retbins = True로 설정된 경우 반환\n",
    "        "
   ]
  },
  {
   "cell_type": "code",
   "execution_count": 2,
   "id": "9bf7a189",
   "metadata": {},
   "outputs": [
    {
     "data": {
      "text/html": [
       "<div>\n",
       "<style scoped>\n",
       "    .dataframe tbody tr th:only-of-type {\n",
       "        vertical-align: middle;\n",
       "    }\n",
       "\n",
       "    .dataframe tbody tr th {\n",
       "        vertical-align: top;\n",
       "    }\n",
       "\n",
       "    .dataframe thead th {\n",
       "        text-align: right;\n",
       "    }\n",
       "</style>\n",
       "<table border=\"1\" class=\"dataframe\">\n",
       "  <thead>\n",
       "    <tr style=\"text-align: right;\">\n",
       "      <th></th>\n",
       "      <th>value</th>\n",
       "    </tr>\n",
       "  </thead>\n",
       "  <tbody>\n",
       "    <tr>\n",
       "      <th>0</th>\n",
       "      <td>1</td>\n",
       "    </tr>\n",
       "    <tr>\n",
       "      <th>1</th>\n",
       "      <td>2</td>\n",
       "    </tr>\n",
       "    <tr>\n",
       "      <th>2</th>\n",
       "      <td>3</td>\n",
       "    </tr>\n",
       "    <tr>\n",
       "      <th>3</th>\n",
       "      <td>4</td>\n",
       "    </tr>\n",
       "    <tr>\n",
       "      <th>4</th>\n",
       "      <td>5</td>\n",
       "    </tr>\n",
       "  </tbody>\n",
       "</table>\n",
       "</div>"
      ],
      "text/plain": [
       "   value\n",
       "0      1\n",
       "1      2\n",
       "2      3\n",
       "3      4\n",
       "4      5"
      ]
     },
     "execution_count": 2,
     "metadata": {},
     "output_type": "execute_result"
    }
   ],
   "source": [
    "import pandas as pd\n",
    "\n",
    "# DF 데이터 생성\n",
    "df = pd.DataFrame({'value':[1,2,3,4,5]})\n",
    "df"
   ]
  },
  {
   "cell_type": "code",
   "execution_count": 9,
   "id": "3e95dbf3",
   "metadata": {},
   "outputs": [
    {
     "data": {
      "text/plain": [
       "0    (0.996, 3.0]\n",
       "1    (0.996, 3.0]\n",
       "2    (0.996, 3.0]\n",
       "3      (3.0, 5.0]\n",
       "4      (3.0, 5.0]\n",
       "Name: value, dtype: category\n",
       "Categories (2, interval[float64, right]): [(0.996, 3.0] < (3.0, 5.0]]"
      ]
     },
     "execution_count": 9,
     "metadata": {},
     "output_type": "execute_result"
    }
   ],
   "source": [
    "# 연속형 자료형 ===> 범주형(Category) 변환\n",
    "# [기본값] right =True, include_lowest=False\n",
    "caDF, retbins = pd.cut(x=df['value'], bins = 2, retbins=True)\n",
    "caDF"
   ]
  },
  {
   "cell_type": "code",
   "execution_count": 8,
   "id": "012ed954",
   "metadata": {},
   "outputs": [
    {
     "data": {
      "text/plain": [
       "array([0.996, 3.   , 5.   ])"
      ]
     },
     "execution_count": 8,
     "metadata": {},
     "output_type": "execute_result"
    }
   ],
   "source": [
    "retbins"
   ]
  },
  {
   "cell_type": "code",
   "execution_count": 10,
   "id": "86fe0998",
   "metadata": {},
   "outputs": [
    {
     "data": {
      "text/plain": [
       "0    (0.995, 3.0]\n",
       "1    (0.995, 3.0]\n",
       "2    (0.995, 3.0]\n",
       "3      (3.0, 5.0]\n",
       "4      (3.0, 5.0]\n",
       "Name: value, dtype: category\n",
       "Categories (2, interval[float64, right]): [(0.995, 3.0] < (3.0, 5.0]]"
      ]
     },
     "execution_count": 10,
     "metadata": {},
     "output_type": "execute_result"
    }
   ],
   "source": [
    "# [수정] right =True, include_lowest=False\n",
    "caDF, retbins = pd.cut(x=df['value'], bins = 2, retbins=True, include_lowest=True)\n",
    "caDF"
   ]
  },
  {
   "cell_type": "code",
   "execution_count": 11,
   "id": "d45dd32c",
   "metadata": {},
   "outputs": [
    {
     "data": {
      "text/plain": [
       "0      [1.0, 3.0)\n",
       "1      [1.0, 3.0)\n",
       "2    [3.0, 5.004)\n",
       "3    [3.0, 5.004)\n",
       "4    [3.0, 5.004)\n",
       "Name: value, dtype: category\n",
       "Categories (2, interval[float64, left]): [[1.0, 3.0) < [3.0, 5.004)]"
      ]
     },
     "execution_count": 11,
     "metadata": {},
     "output_type": "execute_result"
    }
   ],
   "source": [
    "# [수정] right = False\n",
    "caDF, retbins = pd.cut(x=df['value'], bins = 2, retbins=True, right=False)\n",
    "caDF"
   ]
  },
  {
   "cell_type": "code",
   "execution_count": null,
   "id": "de9fcecf",
   "metadata": {},
   "outputs": [],
   "source": []
  }
 ],
 "metadata": {
  "kernelspec": {
   "display_name": "Python 3 (ipykernel)",
   "language": "python",
   "name": "python3"
  },
  "language_info": {
   "codemirror_mode": {
    "name": "ipython",
    "version": 3
   },
   "file_extension": ".py",
   "mimetype": "text/x-python",
   "name": "python",
   "nbconvert_exporter": "python",
   "pygments_lexer": "ipython3",
   "version": "3.9.12"
  }
 },
 "nbformat": 4,
 "nbformat_minor": 5
}
