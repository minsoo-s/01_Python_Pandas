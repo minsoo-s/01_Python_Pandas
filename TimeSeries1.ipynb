{
 "cells": [
  {
   "cell_type": "markdown",
   "metadata": {},
   "source": [
    "# 시계열분석 (Time Series)\n",
    "---\n",
    "* 시간 ! : 특정 간격 갖는 시간 (Lag)   \n",
    "      - Lag에서 Data의 Trend를 찾는다!    \n",
    "\n",
    "* 일변량 정상시계열  \n",
    "      - ARIMA  \n",
    "  \n",
    "  \n",
    "- Trend : 추세  \n",
    "- Seasonality : 계절성  \n",
    "- Cycle : 주기  \n",
    "- Noise : 잡음 -> White Noise  "
   ]
  },
  {
   "cell_type": "code",
   "execution_count": 1,
   "metadata": {},
   "outputs": [],
   "source": [
    "import pandas as pd\n",
    "import numpy as np\n",
    "import seaborn as sns\n",
    "import matplotlib as mpl\n",
    "import matplotlib.pyplot as plt\n",
    "\n",
    "mpl.rc('font', family = 'Malgun Gothic')"
   ]
  },
  {
   "cell_type": "code",
   "execution_count": 3,
   "metadata": {},
   "outputs": [],
   "source": [
    "df_origin = pd.read_csv('./시계열분석.csv')\n",
    "df = df_origin.copy()"
   ]
  },
  {
   "cell_type": "markdown",
   "metadata": {},
   "source": [
    "# [1] 데이터 탐색\n",
    "    - 구매일 : object 타입이므로 변환 필요"
   ]
  },
  {
   "cell_type": "code",
   "execution_count": 4,
   "metadata": {},
   "outputs": [
    {
     "name": "stdout",
     "output_type": "stream",
     "text": [
      "<class 'pandas.core.frame.DataFrame'>\n",
      "RangeIndex: 803675 entries, 0 to 803674\n",
      "Data columns (total 3 columns):\n",
      " #   Column  Non-Null Count   Dtype \n",
      "---  ------  --------------   ----- \n",
      " 0   구매일     803675 non-null  object\n",
      " 1   구매금액    803675 non-null  int64 \n",
      " 2   물품대분류   803675 non-null  object\n",
      "dtypes: int64(1), object(2)\n",
      "memory usage: 18.4+ MB\n"
     ]
    }
   ],
   "source": [
    "df.info()"
   ]
  },
  {
   "cell_type": "code",
   "execution_count": 5,
   "metadata": {},
   "outputs": [
    {
     "data": {
      "text/html": [
       "<div>\n",
       "<style scoped>\n",
       "    .dataframe tbody tr th:only-of-type {\n",
       "        vertical-align: middle;\n",
       "    }\n",
       "\n",
       "    .dataframe tbody tr th {\n",
       "        vertical-align: top;\n",
       "    }\n",
       "\n",
       "    .dataframe thead th {\n",
       "        text-align: right;\n",
       "    }\n",
       "</style>\n",
       "<table border=\"1\" class=\"dataframe\">\n",
       "  <thead>\n",
       "    <tr style=\"text-align: right;\">\n",
       "      <th></th>\n",
       "      <th>구매일</th>\n",
       "      <th>구매금액</th>\n",
       "      <th>물품대분류</th>\n",
       "    </tr>\n",
       "  </thead>\n",
       "  <tbody>\n",
       "    <tr>\n",
       "      <th>0</th>\n",
       "      <td>2018-04-20</td>\n",
       "      <td>57120</td>\n",
       "      <td>기저귀</td>\n",
       "    </tr>\n",
       "    <tr>\n",
       "      <th>1</th>\n",
       "      <td>2018-04-20</td>\n",
       "      <td>15900</td>\n",
       "      <td>더블하트</td>\n",
       "    </tr>\n",
       "    <tr>\n",
       "      <th>2</th>\n",
       "      <td>2018-04-20</td>\n",
       "      <td>7000</td>\n",
       "      <td>더블하트</td>\n",
       "    </tr>\n",
       "    <tr>\n",
       "      <th>3</th>\n",
       "      <td>2018-04-20</td>\n",
       "      <td>20900</td>\n",
       "      <td>더블하트</td>\n",
       "    </tr>\n",
       "    <tr>\n",
       "      <th>4</th>\n",
       "      <td>2018-05-06</td>\n",
       "      <td>26500</td>\n",
       "      <td>더블하트</td>\n",
       "    </tr>\n",
       "  </tbody>\n",
       "</table>\n",
       "</div>"
      ],
      "text/plain": [
       "          구매일   구매금액 물품대분류\n",
       "0  2018-04-20  57120   기저귀\n",
       "1  2018-04-20  15900  더블하트\n",
       "2  2018-04-20   7000  더블하트\n",
       "3  2018-04-20  20900  더블하트\n",
       "4  2018-05-06  26500  더블하트"
      ]
     },
     "execution_count": 5,
     "metadata": {},
     "output_type": "execute_result"
    }
   ],
   "source": [
    "df.head()"
   ]
  },
  {
   "cell_type": "code",
   "execution_count": 6,
   "metadata": {},
   "outputs": [
    {
     "data": {
      "text/plain": [
       "구매일      0\n",
       "구매금액     0\n",
       "물품대분류    0\n",
       "dtype: int64"
      ]
     },
     "execution_count": 6,
     "metadata": {},
     "output_type": "execute_result"
    }
   ],
   "source": [
    "df.isnull().sum()"
   ]
  },
  {
   "cell_type": "code",
   "execution_count": 9,
   "metadata": {},
   "outputs": [
    {
     "name": "stderr",
     "output_type": "stream",
     "text": [
      "C:\\Users\\minsoo\\AppData\\Local\\Temp\\ipykernel_9892\\3067814066.py:3: FutureWarning: Treating datetime data as categorical rather than numeric in `.describe` is deprecated and will be removed in a future version of pandas. Specify `datetime_is_numeric=True` to silence this warning and adopt the future behavior now.\n",
      "  df['Datetime'].describe()\n"
     ]
    },
    {
     "data": {
      "text/plain": [
       "count                  803675\n",
       "unique                    589\n",
       "top       2019-10-11 00:00:00\n",
       "freq                    10500\n",
       "first     2018-04-20 00:00:00\n",
       "last      2020-08-07 00:00:00\n",
       "Name: Datetime, dtype: object"
      ]
     },
     "execution_count": 9,
     "metadata": {},
     "output_type": "execute_result"
    }
   ],
   "source": [
    "# 구매일 컬럼 : object -> datetime으로 변환\n",
    "df['Datetime'] = pd.to_datetime(df['구매일'])\n",
    "df['Datetime'].describe()\n",
    "\n",
    "# 기간 사이에 날짜가 비어있음을 알 수있다."
   ]
  },
  {
   "cell_type": "code",
   "execution_count": 18,
   "metadata": {},
   "outputs": [
    {
     "data": {
      "text/html": [
       "<div>\n",
       "<style scoped>\n",
       "    .dataframe tbody tr th:only-of-type {\n",
       "        vertical-align: middle;\n",
       "    }\n",
       "\n",
       "    .dataframe tbody tr th {\n",
       "        vertical-align: top;\n",
       "    }\n",
       "\n",
       "    .dataframe thead th {\n",
       "        text-align: right;\n",
       "    }\n",
       "</style>\n",
       "<table border=\"1\" class=\"dataframe\">\n",
       "  <thead>\n",
       "    <tr style=\"text-align: right;\">\n",
       "      <th></th>\n",
       "      <th>구매일</th>\n",
       "      <th>구매금액</th>\n",
       "      <th>물품대분류</th>\n",
       "      <th>Datetime</th>\n",
       "      <th>Year</th>\n",
       "      <th>Month</th>\n",
       "      <th>Week</th>\n",
       "      <th>Day</th>\n",
       "    </tr>\n",
       "  </thead>\n",
       "  <tbody>\n",
       "    <tr>\n",
       "      <th>0</th>\n",
       "      <td>2018-04-20</td>\n",
       "      <td>57120</td>\n",
       "      <td>기저귀</td>\n",
       "      <td>2018-04-20</td>\n",
       "      <td>2018</td>\n",
       "      <td>4</td>\n",
       "      <td>16</td>\n",
       "      <td>Friday</td>\n",
       "    </tr>\n",
       "    <tr>\n",
       "      <th>1</th>\n",
       "      <td>2018-04-20</td>\n",
       "      <td>15900</td>\n",
       "      <td>더블하트</td>\n",
       "      <td>2018-04-20</td>\n",
       "      <td>2018</td>\n",
       "      <td>4</td>\n",
       "      <td>16</td>\n",
       "      <td>Friday</td>\n",
       "    </tr>\n",
       "    <tr>\n",
       "      <th>2</th>\n",
       "      <td>2018-04-20</td>\n",
       "      <td>7000</td>\n",
       "      <td>더블하트</td>\n",
       "      <td>2018-04-20</td>\n",
       "      <td>2018</td>\n",
       "      <td>4</td>\n",
       "      <td>16</td>\n",
       "      <td>Friday</td>\n",
       "    </tr>\n",
       "    <tr>\n",
       "      <th>3</th>\n",
       "      <td>2018-04-20</td>\n",
       "      <td>20900</td>\n",
       "      <td>더블하트</td>\n",
       "      <td>2018-04-20</td>\n",
       "      <td>2018</td>\n",
       "      <td>4</td>\n",
       "      <td>16</td>\n",
       "      <td>Friday</td>\n",
       "    </tr>\n",
       "    <tr>\n",
       "      <th>4</th>\n",
       "      <td>2018-05-06</td>\n",
       "      <td>26500</td>\n",
       "      <td>더블하트</td>\n",
       "      <td>2018-05-06</td>\n",
       "      <td>2018</td>\n",
       "      <td>5</td>\n",
       "      <td>18</td>\n",
       "      <td>Sunday</td>\n",
       "    </tr>\n",
       "  </tbody>\n",
       "</table>\n",
       "</div>"
      ],
      "text/plain": [
       "          구매일   구매금액 물품대분류   Datetime  Year  Month  Week     Day\n",
       "0  2018-04-20  57120   기저귀 2018-04-20  2018      4    16  Friday\n",
       "1  2018-04-20  15900  더블하트 2018-04-20  2018      4    16  Friday\n",
       "2  2018-04-20   7000  더블하트 2018-04-20  2018      4    16  Friday\n",
       "3  2018-04-20  20900  더블하트 2018-04-20  2018      4    16  Friday\n",
       "4  2018-05-06  26500  더블하트 2018-05-06  2018      5    18  Sunday"
      ]
     },
     "execution_count": 18,
     "metadata": {},
     "output_type": "execute_result"
    }
   ],
   "source": [
    "# 연,월,주,요일 컬럼 생성\n",
    "df['Year'] = df['Datetime'].dt.year\n",
    "df['Month'] = df['Datetime'].dt.month\n",
    "df['Week'] = df['Datetime'].dt.isocalendar().week\n",
    "df['Day'] = df['Datetime'].dt.day_name()\n",
    "df.head()"
   ]
  },
  {
   "cell_type": "markdown",
   "metadata": {},
   "source": [
    "#### [1-1] 시각화를 통해 시계열 데이터 분석하기"
   ]
  },
  {
   "cell_type": "code",
   "execution_count": 22,
   "metadata": {},
   "outputs": [
    {
     "data": {
      "text/plain": [
       "<AxesSubplot:xlabel='Datetime', ylabel='구매금액'>"
      ]
     },
     "execution_count": 22,
     "metadata": {},
     "output_type": "execute_result"
    },
    {
     "data": {
      "image/png": "[encoded data removed]",
      "text/plain": [
       "<Figure size 432x288 with 1 Axes>"
      ]
     },
     "metadata": {
      "needs_background": "light"
     },
     "output_type": "display_data"
    }
   ],
   "source": [
    "# 시간에 따른 구매금액 등을 알고 싶으면 estimator = sum 사용 \n",
    "plt.figure(figsize= [10,5])\n",
    "sns.lineplot(data = df, x ='Datetime', y = '구매금액', estimator= sum)"
   ]
  },
  {
   "cell_type": "code",
   "execution_count": 24,
   "metadata": {},
   "outputs": [
    {
     "data": {
      "text/html": [
       "<div>\n",
       "<style scoped>\n",
       "    .dataframe tbody tr th:only-of-type {\n",
       "        vertical-align: middle;\n",
       "    }\n",
       "\n",
       "    .dataframe tbody tr th {\n",
       "        vertical-align: top;\n",
       "    }\n",
       "\n",
       "    .dataframe thead th {\n",
       "        text-align: right;\n",
       "    }\n",
       "</style>\n",
       "<table border=\"1\" class=\"dataframe\">\n",
       "  <thead>\n",
       "    <tr style=\"text-align: right;\">\n",
       "      <th></th>\n",
       "      <th>Datetime</th>\n",
       "      <th>구매금액</th>\n",
       "    </tr>\n",
       "  </thead>\n",
       "  <tbody>\n",
       "    <tr>\n",
       "      <th>0</th>\n",
       "      <td>2018-04-20</td>\n",
       "      <td>100920</td>\n",
       "    </tr>\n",
       "    <tr>\n",
       "      <th>1</th>\n",
       "      <td>2018-05-06</td>\n",
       "      <td>26500</td>\n",
       "    </tr>\n",
       "    <tr>\n",
       "      <th>2</th>\n",
       "      <td>2018-05-14</td>\n",
       "      <td>20600</td>\n",
       "    </tr>\n",
       "    <tr>\n",
       "      <th>3</th>\n",
       "      <td>2018-08-12</td>\n",
       "      <td>75700</td>\n",
       "    </tr>\n",
       "    <tr>\n",
       "      <th>4</th>\n",
       "      <td>2018-09-01</td>\n",
       "      <td>48300</td>\n",
       "    </tr>\n",
       "    <tr>\n",
       "      <th>...</th>\n",
       "      <td>...</td>\n",
       "      <td>...</td>\n",
       "    </tr>\n",
       "    <tr>\n",
       "      <th>584</th>\n",
       "      <td>2020-08-03</td>\n",
       "      <td>27560340</td>\n",
       "    </tr>\n",
       "    <tr>\n",
       "      <th>585</th>\n",
       "      <td>2020-08-04</td>\n",
       "      <td>31832500</td>\n",
       "    </tr>\n",
       "    <tr>\n",
       "      <th>586</th>\n",
       "      <td>2020-08-05</td>\n",
       "      <td>27683180</td>\n",
       "    </tr>\n",
       "    <tr>\n",
       "      <th>587</th>\n",
       "      <td>2020-08-06</td>\n",
       "      <td>22574070</td>\n",
       "    </tr>\n",
       "    <tr>\n",
       "      <th>588</th>\n",
       "      <td>2020-08-07</td>\n",
       "      <td>12099370</td>\n",
       "    </tr>\n",
       "  </tbody>\n",
       "</table>\n",
       "<p>589 rows × 2 columns</p>\n",
       "</div>"
      ],
      "text/plain": [
       "      Datetime      구매금액\n",
       "0   2018-04-20    100920\n",
       "1   2018-05-06     26500\n",
       "2   2018-05-14     20600\n",
       "3   2018-08-12     75700\n",
       "4   2018-09-01     48300\n",
       "..         ...       ...\n",
       "584 2020-08-03  27560340\n",
       "585 2020-08-04  31832500\n",
       "586 2020-08-05  27683180\n",
       "587 2020-08-06  22574070\n",
       "588 2020-08-07  12099370\n",
       "\n",
       "[589 rows x 2 columns]"
      ]
     },
     "execution_count": 24,
     "metadata": {},
     "output_type": "execute_result"
    }
   ],
   "source": [
    "# 위의 방법은 데이터가 많아서 합을 계산하는 등 시간이 오래걸림\n",
    "# -> 피보팅으로 일별 합을 계산해서 그리기(훨씬 시간이 빨라짐)\n",
    "p1 = pd.pivot_table(data = df,\n",
    "                    index = 'Datetime',\n",
    "                    values = '구매금액',\n",
    "                    aggfunc = 'sum').reset_index()\n",
    "p1"
   ]
  },
  {
   "cell_type": "code",
   "execution_count": 31,
   "metadata": {},
   "outputs": [
    {
     "data": {
      "text/html": [
       "<div>\n",
       "<style scoped>\n",
       "    .dataframe tbody tr th:only-of-type {\n",
       "        vertical-align: middle;\n",
       "    }\n",
       "\n",
       "    .dataframe tbody tr th {\n",
       "        vertical-align: top;\n",
       "    }\n",
       "\n",
       "    .dataframe thead th {\n",
       "        text-align: right;\n",
       "    }\n",
       "</style>\n",
       "<table border=\"1\" class=\"dataframe\">\n",
       "  <thead>\n",
       "    <tr style=\"text-align: right;\">\n",
       "      <th></th>\n",
       "      <th>Datetime</th>\n",
       "      <th>물품대분류</th>\n",
       "      <th>구매금액</th>\n",
       "    </tr>\n",
       "  </thead>\n",
       "  <tbody>\n",
       "    <tr>\n",
       "      <th>0</th>\n",
       "      <td>2018-04-20</td>\n",
       "      <td>기저귀</td>\n",
       "      <td>57120</td>\n",
       "    </tr>\n",
       "    <tr>\n",
       "      <th>1</th>\n",
       "      <td>2018-04-20</td>\n",
       "      <td>더블하트</td>\n",
       "      <td>43800</td>\n",
       "    </tr>\n",
       "    <tr>\n",
       "      <th>2</th>\n",
       "      <td>2018-05-06</td>\n",
       "      <td>더블하트</td>\n",
       "      <td>26500</td>\n",
       "    </tr>\n",
       "    <tr>\n",
       "      <th>3</th>\n",
       "      <td>2018-05-14</td>\n",
       "      <td>FC</td>\n",
       "      <td>20600</td>\n",
       "    </tr>\n",
       "    <tr>\n",
       "      <th>4</th>\n",
       "      <td>2018-08-12</td>\n",
       "      <td>더블하트</td>\n",
       "      <td>75700</td>\n",
       "    </tr>\n",
       "    <tr>\n",
       "      <th>...</th>\n",
       "      <td>...</td>\n",
       "      <td>...</td>\n",
       "      <td>...</td>\n",
       "    </tr>\n",
       "    <tr>\n",
       "      <th>5241</th>\n",
       "      <td>2020-08-07</td>\n",
       "      <td>기타</td>\n",
       "      <td>182400</td>\n",
       "    </tr>\n",
       "    <tr>\n",
       "      <th>5242</th>\n",
       "      <td>2020-08-07</td>\n",
       "      <td>더블하트</td>\n",
       "      <td>408480</td>\n",
       "    </tr>\n",
       "    <tr>\n",
       "      <th>5243</th>\n",
       "      <td>2020-08-07</td>\n",
       "      <td>물티슈</td>\n",
       "      <td>100300</td>\n",
       "    </tr>\n",
       "    <tr>\n",
       "      <th>5244</th>\n",
       "      <td>2020-08-07</td>\n",
       "      <td>체험팩</td>\n",
       "      <td>112050</td>\n",
       "    </tr>\n",
       "    <tr>\n",
       "      <th>5245</th>\n",
       "      <td>2020-08-07</td>\n",
       "      <td>팬티</td>\n",
       "      <td>9299580</td>\n",
       "    </tr>\n",
       "  </tbody>\n",
       "</table>\n",
       "<p>5246 rows × 3 columns</p>\n",
       "</div>"
      ],
      "text/plain": [
       "       Datetime 물품대분류     구매금액\n",
       "0    2018-04-20   기저귀    57120\n",
       "1    2018-04-20  더블하트    43800\n",
       "2    2018-05-06  더블하트    26500\n",
       "3    2018-05-14    FC    20600\n",
       "4    2018-08-12  더블하트    75700\n",
       "...         ...   ...      ...\n",
       "5241 2020-08-07    기타   182400\n",
       "5242 2020-08-07  더블하트   408480\n",
       "5243 2020-08-07   물티슈   100300\n",
       "5244 2020-08-07   체험팩   112050\n",
       "5245 2020-08-07    팬티  9299580\n",
       "\n",
       "[5246 rows x 3 columns]"
      ]
     },
     "execution_count": 31,
     "metadata": {},
     "output_type": "execute_result"
    }
   ],
   "source": [
    "p2 = pd.pivot_table(data = df,\n",
    "                    index = ['Datetime','물품대분류'],\n",
    "                    values = '구매금액',\n",
    "                    aggfunc = 'sum').reset_index()\n",
    "p2"
   ]
  },
  {
   "cell_type": "code",
   "execution_count": 32,
   "metadata": {},
   "outputs": [
    {
     "data": {
      "text/plain": [
       "<AxesSubplot:xlabel='Datetime', ylabel='구매금액'>"
      ]
     },
     "execution_count": 32,
     "metadata": {},
     "output_type": "execute_result"
    },
    {
     "data": {
      "image/png": "[encoded data removed]",
      "text/plain": [
       "<Figure size 720x360 with 1 Axes>"
      ]
     },
     "metadata": {
      "needs_background": "light"
     },
     "output_type": "display_data"
    }
   ],
   "source": [
    "plt.figure(figsize= [10,5])\n",
    "sns.lineplot(data = p2, x = 'Datetime', y = '구매금액', hue = '물품대분류')\n",
    "\n",
    "# 더블하트 같이 너무 차이가 나는 특수한 경우, 트렌드 파악을 방해할 가능성이 많으므로 제거해주는 것이 좋음"
   ]
  },
  {
   "cell_type": "code",
   "execution_count": 35,
   "metadata": {},
   "outputs": [
    {
     "data": {
      "text/html": [
       "<div>\n",
       "<style scoped>\n",
       "    .dataframe tbody tr th:only-of-type {\n",
       "        vertical-align: middle;\n",
       "    }\n",
       "\n",
       "    .dataframe tbody tr th {\n",
       "        vertical-align: top;\n",
       "    }\n",
       "\n",
       "    .dataframe thead th {\n",
       "        text-align: right;\n",
       "    }\n",
       "</style>\n",
       "<table border=\"1\" class=\"dataframe\">\n",
       "  <thead>\n",
       "    <tr style=\"text-align: right;\">\n",
       "      <th></th>\n",
       "      <th>구매일</th>\n",
       "      <th>구매금액</th>\n",
       "      <th>물품대분류</th>\n",
       "      <th>Datetime</th>\n",
       "      <th>Year</th>\n",
       "      <th>Month</th>\n",
       "      <th>Week</th>\n",
       "      <th>Day</th>\n",
       "    </tr>\n",
       "  </thead>\n",
       "  <tbody>\n",
       "    <tr>\n",
       "      <th>0</th>\n",
       "      <td>2018-04-20</td>\n",
       "      <td>57120</td>\n",
       "      <td>기저귀</td>\n",
       "      <td>2018-04-20</td>\n",
       "      <td>2018</td>\n",
       "      <td>4</td>\n",
       "      <td>16</td>\n",
       "      <td>Friday</td>\n",
       "    </tr>\n",
       "    <tr>\n",
       "      <th>29</th>\n",
       "      <td>2019-05-13</td>\n",
       "      <td>59520</td>\n",
       "      <td>기저귀</td>\n",
       "      <td>2019-05-13</td>\n",
       "      <td>2019</td>\n",
       "      <td>5</td>\n",
       "      <td>20</td>\n",
       "      <td>Monday</td>\n",
       "    </tr>\n",
       "    <tr>\n",
       "      <th>30</th>\n",
       "      <td>2019-05-10</td>\n",
       "      <td>50640</td>\n",
       "      <td>기저귀</td>\n",
       "      <td>2019-05-10</td>\n",
       "      <td>2019</td>\n",
       "      <td>5</td>\n",
       "      <td>19</td>\n",
       "      <td>Friday</td>\n",
       "    </tr>\n",
       "    <tr>\n",
       "      <th>31</th>\n",
       "      <td>2019-06-06</td>\n",
       "      <td>50640</td>\n",
       "      <td>기저귀</td>\n",
       "      <td>2019-06-06</td>\n",
       "      <td>2019</td>\n",
       "      <td>6</td>\n",
       "      <td>23</td>\n",
       "      <td>Thursday</td>\n",
       "    </tr>\n",
       "    <tr>\n",
       "      <th>32</th>\n",
       "      <td>2019-07-01</td>\n",
       "      <td>50640</td>\n",
       "      <td>기저귀</td>\n",
       "      <td>2019-07-01</td>\n",
       "      <td>2019</td>\n",
       "      <td>7</td>\n",
       "      <td>27</td>\n",
       "      <td>Monday</td>\n",
       "    </tr>\n",
       "    <tr>\n",
       "      <th>...</th>\n",
       "      <td>...</td>\n",
       "      <td>...</td>\n",
       "      <td>...</td>\n",
       "      <td>...</td>\n",
       "      <td>...</td>\n",
       "      <td>...</td>\n",
       "      <td>...</td>\n",
       "      <td>...</td>\n",
       "    </tr>\n",
       "    <tr>\n",
       "      <th>803578</th>\n",
       "      <td>2020-06-25</td>\n",
       "      <td>43400</td>\n",
       "      <td>기저귀</td>\n",
       "      <td>2020-06-25</td>\n",
       "      <td>2020</td>\n",
       "      <td>6</td>\n",
       "      <td>26</td>\n",
       "      <td>Thursday</td>\n",
       "    </tr>\n",
       "    <tr>\n",
       "      <th>803602</th>\n",
       "      <td>2020-06-26</td>\n",
       "      <td>43400</td>\n",
       "      <td>기저귀</td>\n",
       "      <td>2020-06-26</td>\n",
       "      <td>2020</td>\n",
       "      <td>6</td>\n",
       "      <td>26</td>\n",
       "      <td>Friday</td>\n",
       "    </tr>\n",
       "    <tr>\n",
       "      <th>803610</th>\n",
       "      <td>2020-06-28</td>\n",
       "      <td>49900</td>\n",
       "      <td>기저귀</td>\n",
       "      <td>2020-06-28</td>\n",
       "      <td>2020</td>\n",
       "      <td>6</td>\n",
       "      <td>26</td>\n",
       "      <td>Sunday</td>\n",
       "    </tr>\n",
       "    <tr>\n",
       "      <th>803631</th>\n",
       "      <td>2020-07-09</td>\n",
       "      <td>49900</td>\n",
       "      <td>기저귀</td>\n",
       "      <td>2020-07-09</td>\n",
       "      <td>2020</td>\n",
       "      <td>7</td>\n",
       "      <td>28</td>\n",
       "      <td>Thursday</td>\n",
       "    </tr>\n",
       "    <tr>\n",
       "      <th>803632</th>\n",
       "      <td>2020-07-25</td>\n",
       "      <td>49900</td>\n",
       "      <td>기저귀</td>\n",
       "      <td>2020-07-25</td>\n",
       "      <td>2020</td>\n",
       "      <td>7</td>\n",
       "      <td>30</td>\n",
       "      <td>Saturday</td>\n",
       "    </tr>\n",
       "  </tbody>\n",
       "</table>\n",
       "<p>141481 rows × 8 columns</p>\n",
       "</div>"
      ],
      "text/plain": [
       "               구매일   구매금액 물품대분류   Datetime  Year  Month  Week       Day\n",
       "0       2018-04-20  57120   기저귀 2018-04-20  2018      4    16    Friday\n",
       "29      2019-05-13  59520   기저귀 2019-05-13  2019      5    20    Monday\n",
       "30      2019-05-10  50640   기저귀 2019-05-10  2019      5    19    Friday\n",
       "31      2019-06-06  50640   기저귀 2019-06-06  2019      6    23  Thursday\n",
       "32      2019-07-01  50640   기저귀 2019-07-01  2019      7    27    Monday\n",
       "...            ...    ...   ...        ...   ...    ...   ...       ...\n",
       "803578  2020-06-25  43400   기저귀 2020-06-25  2020      6    26  Thursday\n",
       "803602  2020-06-26  43400   기저귀 2020-06-26  2020      6    26    Friday\n",
       "803610  2020-06-28  49900   기저귀 2020-06-28  2020      6    26    Sunday\n",
       "803631  2020-07-09  49900   기저귀 2020-07-09  2020      7    28  Thursday\n",
       "803632  2020-07-25  49900   기저귀 2020-07-25  2020      7    30  Saturday\n",
       "\n",
       "[141481 rows x 8 columns]"
      ]
     },
     "execution_count": 35,
     "metadata": {},
     "output_type": "execute_result"
    }
   ],
   "source": [
    "# 기저귀 데이터 확인\n",
    "cond1 = (df['물품대분류']=='기저귀')\n",
    "df.loc[cond1]\n",
    "\n",
    "# 2018년 ~ 2019년 5월까지 데이터가 아예 없으므로 트렌드분석에 도움이 되지 않아 제외시키기"
   ]
  },
  {
   "cell_type": "code",
   "execution_count": 36,
   "metadata": {},
   "outputs": [
    {
     "data": {
      "text/html": [
       "<div>\n",
       "<style scoped>\n",
       "    .dataframe tbody tr th:only-of-type {\n",
       "        vertical-align: middle;\n",
       "    }\n",
       "\n",
       "    .dataframe tbody tr th {\n",
       "        vertical-align: top;\n",
       "    }\n",
       "\n",
       "    .dataframe thead th {\n",
       "        text-align: right;\n",
       "    }\n",
       "</style>\n",
       "<table border=\"1\" class=\"dataframe\">\n",
       "  <thead>\n",
       "    <tr style=\"text-align: right;\">\n",
       "      <th></th>\n",
       "      <th>구매일</th>\n",
       "      <th>구매금액</th>\n",
       "      <th>물품대분류</th>\n",
       "      <th>Datetime</th>\n",
       "      <th>Year</th>\n",
       "      <th>Month</th>\n",
       "      <th>Week</th>\n",
       "      <th>Day</th>\n",
       "    </tr>\n",
       "  </thead>\n",
       "  <tbody>\n",
       "    <tr>\n",
       "      <th>29</th>\n",
       "      <td>2019-05-13</td>\n",
       "      <td>59520</td>\n",
       "      <td>기저귀</td>\n",
       "      <td>2019-05-13</td>\n",
       "      <td>2019</td>\n",
       "      <td>5</td>\n",
       "      <td>20</td>\n",
       "      <td>Monday</td>\n",
       "    </tr>\n",
       "    <tr>\n",
       "      <th>30</th>\n",
       "      <td>2019-05-10</td>\n",
       "      <td>50640</td>\n",
       "      <td>기저귀</td>\n",
       "      <td>2019-05-10</td>\n",
       "      <td>2019</td>\n",
       "      <td>5</td>\n",
       "      <td>19</td>\n",
       "      <td>Friday</td>\n",
       "    </tr>\n",
       "    <tr>\n",
       "      <th>31</th>\n",
       "      <td>2019-06-06</td>\n",
       "      <td>50640</td>\n",
       "      <td>기저귀</td>\n",
       "      <td>2019-06-06</td>\n",
       "      <td>2019</td>\n",
       "      <td>6</td>\n",
       "      <td>23</td>\n",
       "      <td>Thursday</td>\n",
       "    </tr>\n",
       "    <tr>\n",
       "      <th>32</th>\n",
       "      <td>2019-07-01</td>\n",
       "      <td>50640</td>\n",
       "      <td>기저귀</td>\n",
       "      <td>2019-07-01</td>\n",
       "      <td>2019</td>\n",
       "      <td>7</td>\n",
       "      <td>27</td>\n",
       "      <td>Monday</td>\n",
       "    </tr>\n",
       "    <tr>\n",
       "      <th>33</th>\n",
       "      <td>2019-07-29</td>\n",
       "      <td>101280</td>\n",
       "      <td>기저귀</td>\n",
       "      <td>2019-07-29</td>\n",
       "      <td>2019</td>\n",
       "      <td>7</td>\n",
       "      <td>31</td>\n",
       "      <td>Monday</td>\n",
       "    </tr>\n",
       "  </tbody>\n",
       "</table>\n",
       "</div>"
      ],
      "text/plain": [
       "           구매일    구매금액 물품대분류   Datetime  Year  Month  Week       Day\n",
       "29  2019-05-13   59520   기저귀 2019-05-13  2019      5    20    Monday\n",
       "30  2019-05-10   50640   기저귀 2019-05-10  2019      5    19    Friday\n",
       "31  2019-06-06   50640   기저귀 2019-06-06  2019      6    23  Thursday\n",
       "32  2019-07-01   50640   기저귀 2019-07-01  2019      7    27    Monday\n",
       "33  2019-07-29  101280   기저귀 2019-07-29  2019      7    31    Monday"
      ]
     },
     "execution_count": 36,
     "metadata": {},
     "output_type": "execute_result"
    }
   ],
   "source": [
    "df2 = df.loc[cond1].iloc[1:]\n",
    "df2.head()"
   ]
  },
  {
   "cell_type": "markdown",
   "metadata": {},
   "source": [
    "# [2] 모델 생성 (ARIMA, Auto Regressive Integrated Moving Average Model)\n",
    "---\n",
    "#### AR (Auto Regressive Model) : 자기 회귀 모델\n",
    "    - 정의: p 시점 전의 자료가 현재 시점의 데이터에 영향을 주는 자기회귀모델\n",
    "    - 예시: 주가( 다음날 시가가 전날 종가에서 시작)\n",
    "    - 약점: 물품대란 등 불특정하고 불필요하고 불규칙적인 변동에 약함. -> MA와 함께 사용하여 해결\n",
    "\n",
    "    - 자기상관함수 (ACF : Auto Correlation Function) \n",
    "        - p 구간 내 데이터 사이의 상관관계 (교회 - 범죄 - [인구])\n",
    "    - 부분자기상관함수 (PACF : Partial Auto Correlation Function) : \n",
    "        - 다른 시점의 데이터들의 영향을 제외한 두 관측치 사이의 상관관계 (교회 - 범죄 !- [인구])  \n",
    "    - 일반적인 AR 모델에서는 ACF는 일정히 감소 / PACF가 절단면을 갖는다 \n",
    "    - ACF와 PACF를 확인하여 분석 모델을 선택한다 \n",
    "#### MA (Moving Average Model) : 이동평균모델\n",
    "    - 일정한 구간 데이터의 평균을 계산해 미래를 예측하는 모델\n",
    "\n",
    "#### Diffrence : 차분\n",
    "    - 대부분 실제 데이터는 비정상열 데이터\n",
    "    - 정상성(평균,차분 등)을 만족하지 못하는 데이터에 대해 정상열로 변환 \n",
    "\n",
    "# 조건\n",
    "    - 단기예측에 적합함\n",
    "    - 계절적 변동요인(주기적인 변동)\n",
    "    - Sample > 50개 이상일 때\n",
    "    - 정성적 자료"
   ]
  },
  {
   "cell_type": "code",
   "execution_count": 38,
   "metadata": {},
   "outputs": [
    {
     "name": "stdout",
     "output_type": "stream",
     "text": [
      "Defaulting to user installation because normal site-packages is not writeable\n",
      "Collecting statsmodels\n",
      "  Downloading statsmodels-0.13.2-cp39-cp39-win_amd64.whl (9.1 MB)\n",
      "     ---------------------------------------- 9.1/9.1 MB 3.9 MB/s eta 0:00:00\n",
      "Requirement already satisfied: pandas>=0.25 in c:\\programdata\\miniconda3\\envs\\ev_py39\\lib\\site-packages (from statsmodels) (1.4.3)\n",
      "Requirement already satisfied: numpy>=1.17 in c:\\users\\minsoo\\appdata\\roaming\\python\\python39\\site-packages (from statsmodels) (1.22.4)\n",
      "Collecting patsy>=0.5.2\n",
      "  Downloading patsy-0.5.2-py2.py3-none-any.whl (233 kB)\n",
      "     -------------------------------------- 233.7/233.7 kB 4.8 MB/s eta 0:00:00\n",
      "Requirement already satisfied: scipy>=1.3 in c:\\programdata\\miniconda3\\envs\\ev_py39\\lib\\site-packages (from statsmodels) (1.7.3)\n",
      "Requirement already satisfied: packaging>=21.3 in c:\\users\\minsoo\\appdata\\roaming\\python\\python39\\site-packages (from statsmodels) (21.3)\n",
      "Requirement already satisfied: pyparsing!=3.0.5,>=2.0.2 in c:\\users\\minsoo\\appdata\\roaming\\python\\python39\\site-packages (from packaging>=21.3->statsmodels) (3.0.9)\n",
      "Requirement already satisfied: python-dateutil>=2.8.1 in c:\\programdata\\miniconda3\\envs\\ev_py39\\lib\\site-packages (from pandas>=0.25->statsmodels) (2.8.2)\n",
      "Requirement already satisfied: pytz>=2020.1 in c:\\programdata\\miniconda3\\envs\\ev_py39\\lib\\site-packages (from pandas>=0.25->statsmodels) (2022.1)\n",
      "Requirement already satisfied: six in c:\\programdata\\miniconda3\\envs\\ev_py39\\lib\\site-packages (from patsy>=0.5.2->statsmodels) (1.16.0)\n",
      "Installing collected packages: patsy, statsmodels\n",
      "Successfully installed patsy-0.5.2 statsmodels-0.13.2\n"
     ]
    }
   ],
   "source": [
    "#!pip install statsmodels "
   ]
  },
  {
   "cell_type": "code",
   "execution_count": 39,
   "metadata": {},
   "outputs": [],
   "source": [
    "import statsmodels.tsa.api as tsa"
   ]
  },
  {
   "cell_type": "code",
   "execution_count": 40,
   "metadata": {},
   "outputs": [
    {
     "data": {
      "text/html": [
       "<div>\n",
       "<style scoped>\n",
       "    .dataframe tbody tr th:only-of-type {\n",
       "        vertical-align: middle;\n",
       "    }\n",
       "\n",
       "    .dataframe tbody tr th {\n",
       "        vertical-align: top;\n",
       "    }\n",
       "\n",
       "    .dataframe thead th {\n",
       "        text-align: right;\n",
       "    }\n",
       "</style>\n",
       "<table border=\"1\" class=\"dataframe\">\n",
       "  <thead>\n",
       "    <tr style=\"text-align: right;\">\n",
       "      <th></th>\n",
       "      <th>구매일</th>\n",
       "      <th>구매금액</th>\n",
       "      <th>물품대분류</th>\n",
       "      <th>Datetime</th>\n",
       "      <th>Year</th>\n",
       "      <th>Month</th>\n",
       "      <th>Week</th>\n",
       "      <th>Day</th>\n",
       "    </tr>\n",
       "  </thead>\n",
       "  <tbody>\n",
       "    <tr>\n",
       "      <th>29</th>\n",
       "      <td>2019-05-13</td>\n",
       "      <td>59520</td>\n",
       "      <td>기저귀</td>\n",
       "      <td>2019-05-13</td>\n",
       "      <td>2019</td>\n",
       "      <td>5</td>\n",
       "      <td>20</td>\n",
       "      <td>Monday</td>\n",
       "    </tr>\n",
       "    <tr>\n",
       "      <th>30</th>\n",
       "      <td>2019-05-10</td>\n",
       "      <td>50640</td>\n",
       "      <td>기저귀</td>\n",
       "      <td>2019-05-10</td>\n",
       "      <td>2019</td>\n",
       "      <td>5</td>\n",
       "      <td>19</td>\n",
       "      <td>Friday</td>\n",
       "    </tr>\n",
       "    <tr>\n",
       "      <th>31</th>\n",
       "      <td>2019-06-06</td>\n",
       "      <td>50640</td>\n",
       "      <td>기저귀</td>\n",
       "      <td>2019-06-06</td>\n",
       "      <td>2019</td>\n",
       "      <td>6</td>\n",
       "      <td>23</td>\n",
       "      <td>Thursday</td>\n",
       "    </tr>\n",
       "    <tr>\n",
       "      <th>32</th>\n",
       "      <td>2019-07-01</td>\n",
       "      <td>50640</td>\n",
       "      <td>기저귀</td>\n",
       "      <td>2019-07-01</td>\n",
       "      <td>2019</td>\n",
       "      <td>7</td>\n",
       "      <td>27</td>\n",
       "      <td>Monday</td>\n",
       "    </tr>\n",
       "    <tr>\n",
       "      <th>33</th>\n",
       "      <td>2019-07-29</td>\n",
       "      <td>101280</td>\n",
       "      <td>기저귀</td>\n",
       "      <td>2019-07-29</td>\n",
       "      <td>2019</td>\n",
       "      <td>7</td>\n",
       "      <td>31</td>\n",
       "      <td>Monday</td>\n",
       "    </tr>\n",
       "  </tbody>\n",
       "</table>\n",
       "</div>"
      ],
      "text/plain": [
       "           구매일    구매금액 물품대분류   Datetime  Year  Month  Week       Day\n",
       "29  2019-05-13   59520   기저귀 2019-05-13  2019      5    20    Monday\n",
       "30  2019-05-10   50640   기저귀 2019-05-10  2019      5    19    Friday\n",
       "31  2019-06-06   50640   기저귀 2019-06-06  2019      6    23  Thursday\n",
       "32  2019-07-01   50640   기저귀 2019-07-01  2019      7    27    Monday\n",
       "33  2019-07-29  101280   기저귀 2019-07-29  2019      7    31    Monday"
      ]
     },
     "execution_count": 40,
     "metadata": {},
     "output_type": "execute_result"
    }
   ],
   "source": [
    "df2.head()"
   ]
  },
  {
   "cell_type": "code",
   "execution_count": 42,
   "metadata": {},
   "outputs": [
    {
     "data": {
      "text/html": [
       "<div>\n",
       "<style scoped>\n",
       "    .dataframe tbody tr th:only-of-type {\n",
       "        vertical-align: middle;\n",
       "    }\n",
       "\n",
       "    .dataframe tbody tr th {\n",
       "        vertical-align: top;\n",
       "    }\n",
       "\n",
       "    .dataframe thead th {\n",
       "        text-align: right;\n",
       "    }\n",
       "</style>\n",
       "<table border=\"1\" class=\"dataframe\">\n",
       "  <thead>\n",
       "    <tr style=\"text-align: right;\">\n",
       "      <th></th>\n",
       "      <th>구매금액</th>\n",
       "    </tr>\n",
       "    <tr>\n",
       "      <th>Datetime</th>\n",
       "      <th></th>\n",
       "    </tr>\n",
       "  </thead>\n",
       "  <tbody>\n",
       "    <tr>\n",
       "      <th>2019-01-01</th>\n",
       "      <td>3051240</td>\n",
       "    </tr>\n",
       "    <tr>\n",
       "      <th>2019-01-02</th>\n",
       "      <td>2556280</td>\n",
       "    </tr>\n",
       "    <tr>\n",
       "      <th>2019-01-03</th>\n",
       "      <td>2729480</td>\n",
       "    </tr>\n",
       "    <tr>\n",
       "      <th>2019-01-04</th>\n",
       "      <td>2238440</td>\n",
       "    </tr>\n",
       "    <tr>\n",
       "      <th>2019-01-05</th>\n",
       "      <td>2478680</td>\n",
       "    </tr>\n",
       "  </tbody>\n",
       "</table>\n",
       "</div>"
      ],
      "text/plain": [
       "               구매금액\n",
       "Datetime           \n",
       "2019-01-01  3051240\n",
       "2019-01-02  2556280\n",
       "2019-01-03  2729480\n",
       "2019-01-04  2238440\n",
       "2019-01-05  2478680"
      ]
     },
     "execution_count": 42,
     "metadata": {},
     "output_type": "execute_result"
    }
   ],
   "source": [
    "df_time = pd.pivot_table(\n",
    "    data = df2, \n",
    "    index = 'Datetime',\n",
    "    values = '구매금액',\n",
    "    aggfunc='sum')\n",
    "\n",
    "df_time.head()"
   ]
  },
  {
   "cell_type": "code",
   "execution_count": 45,
   "metadata": {},
   "outputs": [
    {
     "data": {
      "text/html": [
       "<div>\n",
       "<style scoped>\n",
       "    .dataframe tbody tr th:only-of-type {\n",
       "        vertical-align: middle;\n",
       "    }\n",
       "\n",
       "    .dataframe tbody tr th {\n",
       "        vertical-align: top;\n",
       "    }\n",
       "\n",
       "    .dataframe thead th {\n",
       "        text-align: right;\n",
       "    }\n",
       "</style>\n",
       "<table border=\"1\" class=\"dataframe\">\n",
       "  <thead>\n",
       "    <tr style=\"text-align: right;\">\n",
       "      <th></th>\n",
       "      <th>Datetime</th>\n",
       "      <th>구매금액</th>\n",
       "    </tr>\n",
       "  </thead>\n",
       "  <tbody>\n",
       "    <tr>\n",
       "      <th>0</th>\n",
       "      <td>2019-01-01</td>\n",
       "      <td>3051240</td>\n",
       "    </tr>\n",
       "    <tr>\n",
       "      <th>1</th>\n",
       "      <td>2019-01-02</td>\n",
       "      <td>2556280</td>\n",
       "    </tr>\n",
       "    <tr>\n",
       "      <th>2</th>\n",
       "      <td>2019-01-03</td>\n",
       "      <td>2729480</td>\n",
       "    </tr>\n",
       "    <tr>\n",
       "      <th>3</th>\n",
       "      <td>2019-01-04</td>\n",
       "      <td>2238440</td>\n",
       "    </tr>\n",
       "    <tr>\n",
       "      <th>4</th>\n",
       "      <td>2019-01-05</td>\n",
       "      <td>2478680</td>\n",
       "    </tr>\n",
       "  </tbody>\n",
       "</table>\n",
       "</div>"
      ],
      "text/plain": [
       "    Datetime     구매금액\n",
       "0 2019-01-01  3051240\n",
       "1 2019-01-02  2556280\n",
       "2 2019-01-03  2729480\n",
       "3 2019-01-04  2238440\n",
       "4 2019-01-05  2478680"
      ]
     },
     "execution_count": 45,
     "metadata": {},
     "output_type": "execute_result"
    }
   ],
   "source": [
    "# datetime을 인덱스로 잡아두고 분석하는 것이 좋음\n",
    "# 예시\n",
    "df_time_2 = pd.pivot_table(\n",
    "    data = df2, \n",
    "    index = 'Datetime',\n",
    "    values = '구매금액',\n",
    "    aggfunc='sum').reset_index()\n",
    "\n",
    "df_time_2.head()"
   ]
  },
  {
   "cell_type": "code",
   "execution_count": 46,
   "metadata": {},
   "outputs": [
    {
     "data": {
      "text/html": [
       "<div>\n",
       "<style scoped>\n",
       "    .dataframe tbody tr th:only-of-type {\n",
       "        vertical-align: middle;\n",
       "    }\n",
       "\n",
       "    .dataframe tbody tr th {\n",
       "        vertical-align: top;\n",
       "    }\n",
       "\n",
       "    .dataframe thead th {\n",
       "        text-align: right;\n",
       "    }\n",
       "</style>\n",
       "<table border=\"1\" class=\"dataframe\">\n",
       "  <thead>\n",
       "    <tr style=\"text-align: right;\">\n",
       "      <th></th>\n",
       "      <th>구매금액</th>\n",
       "    </tr>\n",
       "    <tr>\n",
       "      <th>Datetime</th>\n",
       "      <th></th>\n",
       "    </tr>\n",
       "  </thead>\n",
       "  <tbody>\n",
       "    <tr>\n",
       "      <th>2019-01-01</th>\n",
       "      <td>3051240</td>\n",
       "    </tr>\n",
       "    <tr>\n",
       "      <th>2019-01-02</th>\n",
       "      <td>2556280</td>\n",
       "    </tr>\n",
       "    <tr>\n",
       "      <th>2019-01-03</th>\n",
       "      <td>2729480</td>\n",
       "    </tr>\n",
       "    <tr>\n",
       "      <th>2019-01-04</th>\n",
       "      <td>2238440</td>\n",
       "    </tr>\n",
       "    <tr>\n",
       "      <th>2019-01-05</th>\n",
       "      <td>2478680</td>\n",
       "    </tr>\n",
       "    <tr>\n",
       "      <th>...</th>\n",
       "      <td>...</td>\n",
       "    </tr>\n",
       "    <tr>\n",
       "      <th>2020-08-03</th>\n",
       "      <td>3075900</td>\n",
       "    </tr>\n",
       "    <tr>\n",
       "      <th>2020-08-04</th>\n",
       "      <td>4010200</td>\n",
       "    </tr>\n",
       "    <tr>\n",
       "      <th>2020-08-05</th>\n",
       "      <td>2937800</td>\n",
       "    </tr>\n",
       "    <tr>\n",
       "      <th>2020-08-06</th>\n",
       "      <td>2647000</td>\n",
       "    </tr>\n",
       "    <tr>\n",
       "      <th>2020-08-07</th>\n",
       "      <td>1022300</td>\n",
       "    </tr>\n",
       "  </tbody>\n",
       "</table>\n",
       "<p>578 rows × 1 columns</p>\n",
       "</div>"
      ],
      "text/plain": [
       "               구매금액\n",
       "Datetime           \n",
       "2019-01-01  3051240\n",
       "2019-01-02  2556280\n",
       "2019-01-03  2729480\n",
       "2019-01-04  2238440\n",
       "2019-01-05  2478680\n",
       "...             ...\n",
       "2020-08-03  3075900\n",
       "2020-08-04  4010200\n",
       "2020-08-05  2937800\n",
       "2020-08-06  2647000\n",
       "2020-08-07  1022300\n",
       "\n",
       "[578 rows x 1 columns]"
      ]
     },
     "execution_count": 46,
     "metadata": {},
     "output_type": "execute_result"
    }
   ],
   "source": [
    "df_time_2.set_index('Datetime')"
   ]
  },
  {
   "cell_type": "code",
   "execution_count": 52,
   "metadata": {},
   "outputs": [],
   "source": [
    "# 일주일 단위로 묶기\n",
    "y = df_time['구매금액'].resample('1D').mean()"
   ]
  },
  {
   "cell_type": "code",
   "execution_count": 58,
   "metadata": {},
   "outputs": [
    {
     "name": "stdout",
     "output_type": "stream",
     "text": [
      "7\n"
     ]
    }
   ],
   "source": [
    "# 결측치 확인\n",
    "print(y.isnull().sum())\n",
    "\n",
    "# 시계열은 결측치를 채워줄 때, 바로 이전의 데이터나 이후의 데이터로 채워주는 것이 좋음 (평균X)\n",
    "y1 = y.fillna(method = 'ffill') #or y.fillna(methods = 'bfill') "
   ]
  },
  {
   "cell_type": "markdown",
   "metadata": {},
   "source": [
    "[시계열 분해]  \n",
    "    - Trend  \n",
    "    - Seasonality  \n",
    "    - residual: 잔차  "
   ]
  },
  {
   "cell_type": "code",
   "execution_count": 60,
   "metadata": {},
   "outputs": [],
   "source": [
    "from pylab import rcParams "
   ]
  },
  {
   "cell_type": "code",
   "execution_count": 61,
   "metadata": {},
   "outputs": [],
   "source": [
    "rcParams['figure.figsize'] = 15,10\n",
    "\n",
    "#차트 기본 크기 설정\n",
    "mpl.rcParams['axes.labelsize'] = 14\n",
    "mpl.rcParams['xtick.labelsize'] = 12\n",
    "mpl.rcParams['ytick.labelsize'] = 12\n",
    "mpl.rcParams['text.color'] = 'k'"
   ]
  },
  {
   "cell_type": "code",
   "execution_count": 62,
   "metadata": {},
   "outputs": [
    {
     "name": "stderr",
     "output_type": "stream",
     "text": [
      "C:\\Users\\minsoo\\AppData\\Roaming\\Python\\Python39\\site-packages\\statsmodels\\tsa\\seasonal.py:338: UserWarning: Glyph 8722 (\\N{MINUS SIGN}) missing from current font.\n",
      "  fig.tight_layout()\n",
      "c:\\ProgramData\\Miniconda3\\envs\\EV_PY39\\lib\\site-packages\\IPython\\core\\pylabtools.py:151: UserWarning: Glyph 8722 (\\N{MINUS SIGN}) missing from current font.\n",
      "  fig.canvas.print_figure(bytes_io, **kw)\n"
     ]
    },
    {
     "data": {
      "image/png": "[encoded data removed]",
      "text/plain": [
       "<Figure size 1080x720 with 4 Axes>"
      ]
     },
     "metadata": {
      "needs_background": "light"
     },
     "output_type": "display_data"
    }
   ],
   "source": [
    "# 시계열 모델 생성\n",
    "model_series = tsa.seasonal_decompose(y1, model = 'additive')\n",
    "\n",
    "# 모델 시각화\n",
    "fig = model_series.plot()\n",
    "plt.show()"
   ]
  },
  {
   "cell_type": "code",
   "execution_count": null,
   "metadata": {},
   "outputs": [],
   "source": []
  }
 ],
 "metadata": {
  "kernelspec": {
   "display_name": "Python 3.9.12 ('EV_PY39')",
   "language": "python",
   "name": "python3"
  },
  "language_info": {
   "codemirror_mode": {
    "name": "ipython",
    "version": 3
   },
   "file_extension": ".py",
   "mimetype": "text/x-python",
   "name": "python",
   "nbconvert_exporter": "python",
   "pygments_lexer": "ipython3",
   "version": "3.9.12"
  },
  "orig_nbformat": 4,
  "vscode": {
   "interpreter": {
    "hash": "c34f60c4b6508d34c0193a1e5ad16bfc3f81e2e087a9e2f73ef284bcb9806a0b"
   }
  }
 },
 "nbformat": 4,
 "nbformat_minor": 2
}
