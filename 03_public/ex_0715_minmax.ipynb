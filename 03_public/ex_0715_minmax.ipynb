{
 "cells": [
  {
   "cell_type": "markdown",
   "metadata": {
    "collapsed": false,
    "pycharm": {
     "name": "#%% md\n"
    }
   },
   "source": [
    "# 최대값, 최소값 구하는 방법"
   ]
  },
  {
   "cell_type": "code",
   "execution_count": 2,
   "metadata": {
    "collapsed": false,
    "pycharm": {
     "name": "#%%\n"
    }
   },
   "outputs": [],
   "source": [
    "numbers = [5, 6, 4, 3, 9, 1]\n",
    "\n",
    "max_num = 0\n",
    "min_num = 100"
   ]
  },
  {
   "cell_type": "markdown",
   "metadata": {
    "collapsed": false,
    "pycharm": {
     "name": "#%% md\n"
    }
   },
   "source": [
    "## 최대값 구하기"
   ]
  },
  {
   "cell_type": "code",
   "execution_count": 3,
   "metadata": {
    "collapsed": false,
    "pycharm": {
     "name": "#%%\n"
    }
   },
   "outputs": [
    {
     "name": "stdout",
     "output_type": "stream",
     "text": [
      "num:5, max_num:0\n",
      "num:6, max_num:5\n",
      "num:4, max_num:6\n",
      "num:3, max_num:6\n",
      "num:9, max_num:6\n",
      "num:1, max_num:9\n",
      "최대값:  9\n"
     ]
    }
   ],
   "source": [
    "for num in numbers:\n",
    "    print('num:{0}, max_num:{1}'.format(num, max_num))\n",
    "    if num > max_num:\n",
    "        max_num = num # max_num(최대값) 업데이트\n",
    "\n",
    "print('최대값: ', max_num)"
   ]
  },
  {
   "cell_type": "markdown",
   "metadata": {},
   "source": [
    "## 최소값 구하기"
   ]
  },
  {
   "cell_type": "code",
   "execution_count": 4,
   "metadata": {
    "collapsed": false,
    "pycharm": {
     "name": "#%%\n"
    }
   },
   "outputs": [
    {
     "name": "stdout",
     "output_type": "stream",
     "text": [
      "num:5, min_num:100\n",
      "num:6, min_num:5\n",
      "num:4, min_num:5\n",
      "num:3, min_num:4\n",
      "num:9, min_num:3\n",
      "num:1, min_num:3\n",
      "최소값:  1\n"
     ]
    }
   ],
   "source": [
    "for num in numbers:\n",
    "    print('num:{0}, min_num:{1}'.format(num, min_num))\n",
    "    if num < min_num:\n",
    "        min_num = num # min_num(최대값) 업데이트\n",
    "\n",
    "print('최소값: ', min_num)"
   ]
  },
  {
   "cell_type": "code",
   "execution_count": null,
   "metadata": {
    "collapsed": false,
    "pycharm": {
     "name": "#%%\n"
    }
   },
   "outputs": [],
   "source": []
  }
 ],
 "metadata": {
  "kernelspec": {
   "display_name": "Python 3.9.12 ('base')",
   "language": "python",
   "name": "python3"
  },
  "language_info": {
   "codemirror_mode": {
    "name": "ipython",
    "version": 2
   },
   "file_extension": ".py",
   "mimetype": "text/x-python",
   "name": "python",
   "nbconvert_exporter": "python",
   "pygments_lexer": "ipython2",
   "version": "3.9.12"
  },
  "vscode": {
   "interpreter": {
    "hash": "ad2bdc8ecc057115af97d19610ffacc2b4e99fae6737bb82f5d7fb13d2f2c186"
   }
  }
 },
 "nbformat": 4,
 "nbformat_minor": 0
}
