{
 "cells": [
  {
   "cell_type": "markdown",
   "metadata": {},
   "source": [
    "# [ 서울 지하철 통계 분석 ]"
   ]
  },
  {
   "cell_type": "markdown",
   "metadata": {},
   "source": [
    "### 1.대중교통 데이터 읽어오기"
   ]
  },
  {
   "cell_type": "code",
   "execution_count": 78,
   "metadata": {},
   "outputs": [
    {
     "name": "stdout",
     "output_type": "stream",
     "text": [
      "['사용월', '호선명', '역ID', '지하철역', '유임승차', '유임하차', '무임승차', '무임하차']\n",
      "['06-22', '1호선', '150', '서울역', '1150754', '1123193', '194717', '187155']\n",
      "['06-22', '1호선', '151', '시청', '537067', '543569', '80671', '78279']\n",
      "['06-22', '1호선', '152', '종각', '834173', '815704', '131987', '121717']\n",
      "['06-22', '1호선', '153', '종로3가', '450317', '404106', '299617', '278151']\n",
      "['06-22', '1호선', '154', '종로5가', '394420', '404105', '254236', '244555']\n",
      "['06-22', '1호선', '155', '동대문', '212719', '198987', '117499', '118515']\n",
      "['06-22', '1호선', '156', '신설동', '264825', '252339', '112362', '106855']\n"
     ]
    }
   ],
   "source": [
    "import csv\n",
    "\n",
    "f=open('./data/subwayfee.csv', encoding='euc-kr')\n",
    "data= csv.reader(f)\n",
    "header = next(data)\n",
    "print(header)\n",
    "\n",
    "i=0\n",
    "for row in data:\n",
    "    print(row)\n",
    "    if i >5:\n",
    "        break\n",
    "    i +=1\n",
    "f.close()"
   ]
  },
  {
   "cell_type": "markdown",
   "metadata": {},
   "source": [
    "### 2.유임 승차 vs 무임 승차 비율 계산"
   ]
  },
  {
   "cell_type": "code",
   "execution_count": 79,
   "metadata": {},
   "outputs": [
    {
     "ename": "SyntaxError",
     "evalue": "invalid syntax (404961949.py, line 5)",
     "output_type": "error",
     "traceback": [
      "\u001b[1;36m  Input \u001b[1;32mIn [79]\u001b[1;36m\u001b[0m\n\u001b[1;33m    for i in range(4,8)\u001b[0m\n\u001b[1;37m                       ^\u001b[0m\n\u001b[1;31mSyntaxError\u001b[0m\u001b[1;31m:\u001b[0m invalid syntax\n"
     ]
    }
   ],
   "source": [
    "max_rate = 0\n",
    "rate= 0\n",
    "i=0\n",
    "for row in data:\n",
    "    for i in range(4,8)\n",
    "        row[i] = int(row[i])\n",
    "    rate = row[4] / row[6]\n",
    "    \n",
    "    if rate > max_rate:\n",
    "        max_rate = rate\n",
    "print(max_rate)"
   ]
  },
  {
   "cell_type": "markdown",
   "metadata": {},
   "source": [
    "### 3.무임승차 인원이 0인 역 찾기"
   ]
  },
  {
   "cell_type": "code",
   "execution_count": 80,
   "metadata": {},
   "outputs": [
    {
     "name": "stdout",
     "output_type": "stream",
     "text": [
      "['06-22', '일산선', '1949', '지축', 10, 0, 0, 0]\n",
      "['06-22', '경의선', '1296', '계양', 10, 0, 0, 0]\n",
      "['06-22', '경의선', '1297', '검암', 2, 0, 0, 0]\n",
      "['06-22', '6호선', '2615', '연신내', 31, 0, 0, 0]\n",
      "['06-22', '6호선', '2649', '신내', 4, 0, 0, 0]\n",
      "['06-22', '7호선', '2753', '까치울', 1, 0, 0, 0]\n",
      "['06-22', '7호선', '2758', '상동', 1, 0, 0, 0]\n",
      "['06-22', '7호선', '2761', '부평구청', 1, 0, 0, 0]\n"
     ]
    }
   ],
   "source": [
    "import\tcsv\n",
    "f\t=\topen('./data/subwayfee.csv',\tencoding='cp949')\n",
    "data\t=\tcsv.reader(f)\n",
    "header\t=\tnext(data)\n",
    "max_rate = 0\n",
    "rate\t= 0\n",
    "i =\t0\n",
    "\n",
    "for\trow\tin data:\n",
    "    for\ti in range(4,8):\n",
    "        row[i]\t=\tint(row[i])\t#\t4,\t5,\t6,\t7\t컬럼값을 정수로 변환\n",
    "    rate\t=\trow[4]\t/\t(row[4]\t+\trow[6])\n",
    "\n",
    "    if\trow[6]\t==\t0:\t#\t무임승차 인원[6]이 없는 역 출력\n",
    "        print(row)\n",
    "\n"
   ]
  },
  {
   "cell_type": "markdown",
   "metadata": {},
   "source": [
    "### 4.최대 무임 승차 비율 확인"
   ]
  },
  {
   "cell_type": "code",
   "execution_count": 81,
   "metadata": {},
   "outputs": [
    {
     "name": "stdout",
     "output_type": "stream",
     "text": [
      "['06-22', '1호선', '150', '서울역', 1150754, 1123193, 194717, 187155] 14.47 %\n",
      "['06-22', '1호선', '153', '종로3가', 450317, 404106, 299617, 278151] 39.95 %\n",
      "['06-22', '1호선', '157', '제기동', 218782, 209109, 263173, 281985] 54.61 %\n",
      "['06-22', '경원선', '1916', '소요산', 32659, 25998, 62990, 56806] 65.86 %\n",
      "['06-22', '7호선', '2756', '신중동', 0, 0, 1, 0] 100.0 %\n"
     ]
    }
   ],
   "source": [
    "import csv\n",
    "f = open('./data/subwayfee.csv', encoding='cp949')\n",
    "data = csv.reader(f)\n",
    "next(data)\n",
    "max_rate = 0\n",
    "rate = 0\n",
    "\n",
    "for\trow\tin data:\n",
    "    for\ti in range(4,8):\n",
    "        row[i]\t=\tint(row[i])\t\n",
    "    \n",
    "    if row[6] != 0:\n",
    "        rate = (row[6]*100) / (row[4]+row[6])\n",
    "        if rate > max_rate:\n",
    "            max_rate =rate\n",
    "            print(row, round(rate, 2), '%')\n",
    "f.close()"
   ]
  },
  {
   "cell_type": "markdown",
   "metadata": {},
   "source": [
    "### 5.최대 유임 승차 인원이 있는 역은?"
   ]
  },
  {
   "cell_type": "code",
   "execution_count": 82,
   "metadata": {},
   "outputs": [
    {
     "name": "stdout",
     "output_type": "stream",
     "text": [
      "['06-22', '2호선', '209', '한양대', 269240, 295829, 12481, 13227]\n",
      "역이름: 한양대, 전체인원: 281721, 유임승차인원: 269240, 유임승차비율: 0.96 \n"
     ]
    }
   ],
   "source": [
    "import csv\n",
    "f = open('./data/subwayfee.csv', encoding='cp949')\n",
    "data = csv.reader(f)\n",
    "next(data)\n",
    "max_rate = 0\n",
    "rate = 0\n",
    "\n",
    "max_row = []\n",
    "total_count = 0\n",
    "max_total_num = 0\n",
    "\n",
    "for row in data:\n",
    "    for i in range(4,8):\n",
    "        row[i] = int(row[i])\n",
    "    total_count=row[4] + row[6]\n",
    "    if (row[6] !=0) and (total_count >100000):\n",
    "        rate = row[4] / total_count\n",
    "        if rate > max_rate:\n",
    "            max_rate = rate\n",
    "            max_row = row\n",
    "            max_total_num = total_count\n",
    "            \n",
    "print(max_row)\n",
    "print(f\"역이름: {max_row[3]}, 전체인원: {max_total_num}, 유임승차인원: {max_row[4]}, 유임승차비율: {round(max_rate, 2)} \")"
   ]
  },
  {
   "cell_type": "markdown",
   "metadata": {},
   "source": [
    "### 6. 실습 : 유임 승차 비율이 50% 이하인 역"
   ]
  },
  {
   "cell_type": "code",
   "execution_count": 83,
   "metadata": {},
   "outputs": [
    {
     "name": "stdout",
     "output_type": "stream",
     "text": [
      "['06-22', '1호선', '157', '제기동', 218782, '209109', 263173, '281985'] 0.45\n",
      "['06-22', '1호선', '159', '동묘앞', 122460, '131299', 146455, '147539'] 0.46\n",
      "['06-22', '경원선', '1916', '소요산', 32659, '25998', 62990, '56806'] 0.34\n",
      "['06-22', '중앙선', '1218', '원덕', 5854, '5749', 6959, '6739'] 0.46\n",
      "['06-22', '중앙선', '1219', '용문', 34168, '34477', 38467, '38202'] 0.47\n",
      "유임 승차 비율이 가장 낮은 역: 용문\n",
      "전체인원: 72635\n",
      "유임승차인원: 34168\n",
      "유임승차비율: 0.47\n"
     ]
    }
   ],
   "source": [
    "import csv\n",
    "f = open('./data/subwayfee.csv', encoding='cp949')\n",
    "data = csv.reader(f)\n",
    "next(data)\n",
    "\n",
    "min_rate = 0\n",
    "rate = 0\n",
    "min_row = []\n",
    "total_count = 0\n",
    "min_total_num = 0\n",
    "\n",
    "for row in data:\n",
    "    for i in [4,6]:\n",
    "        row[i] = int(row[i])\n",
    "    total_count = row[4] +row[6]\n",
    "    if (row[6] !=0) and (total_count>10000):\n",
    "        rate = row[4]/total_count\n",
    "        if rate <= 0.5:\n",
    "            print(row,round(rate,2))\n",
    "            min_rate =rate\n",
    "            min_row = row\n",
    "            min_total_count = total_count\n",
    "            \n",
    "print(f'유임 승차 비율이 가장 낮은 역: {min_row[3]}\\n전체인원: {min_total_count}\\n유임승차인원: {min_row[4]}\\n유임승차비율: {round(min_rate,2)}')"
   ]
  },
  {
   "cell_type": "markdown",
   "metadata": {},
   "source": [
    "### 7. 파이 차트 생성"
   ]
  },
  {
   "cell_type": "code",
   "execution_count": 84,
   "metadata": {},
   "outputs": [
    {
     "data": {
      "image/png": "[encoded data removed]",
      "text/plain": [
       "<Figure size 432x288 with 1 Axes>"
      ]
     },
     "metadata": {},
     "output_type": "display_data"
    }
   ],
   "source": [
    "import platform\n",
    "import matplotlib.pyplot as plt\n",
    "if platform.system() == 'Windows':\n",
    "    plt.rc('font', family='Malgun Gothic')\n",
    "else:\n",
    "    plt.rc('font', family='AppleGothic')\n",
    "    \n",
    "plt.title(min_row[3] + \" 유, 무임 승차 비율\")\n",
    "label = ['유임승차' , '무임승차']\n",
    "values = [min_row[4], min_row[6]] \n",
    "\n",
    "plt.pie(values, labels =label, autopct = '%.1f%%') \n",
    "plt.show()"
   ]
  },
  {
   "cell_type": "markdown",
   "metadata": {},
   "source": [
    "### 8.모든 역의 유임 승차, 유임 하차, 무임 승차, 무임 하차 인원 분석"
   ]
  },
  {
   "cell_type": "code",
   "execution_count": null,
   "metadata": {},
   "outputs": [],
   "source": []
  },
  {
   "cell_type": "markdown",
   "metadata": {},
   "source": [
    "### 9. 전체 지하철역 승하차 인원 분석 및 저장"
   ]
  },
  {
   "cell_type": "code",
   "execution_count": 85,
   "metadata": {},
   "outputs": [],
   "source": [
    "label = ['유임승차',\t'유임하차',\t'무임승차',\t'무임하차']\n",
    "c =  ['#14CCC0',\t'#389993',\t'#FF1C6A',\t'#CC14AF']\n",
    "pic_count = 0\n",
    "with open('./data/subwayfee.csv', encoding = 'cp949') as f:\n",
    "    data =csv.reader(f)\n",
    "    next(data)\n",
    "    next(data)\n",
    "    if(platform.system()\t==\t'Windows'):\n",
    "        plt.rc('font',\tfamily='Malgun Gothic')\n",
    "    else:\n",
    "        plt.rc('font',\tfamily='AppleGothic')\n",
    "\n",
    "    for\trow\tin\tdata:\n",
    "        for\ti in\trange(4,\t8):\n",
    "            row[i]\t=\tint(row[i])\n",
    "            \n",
    "        plt.figure(dpi=200)\t#\t저장할 그림파일의 dpi\t설정\n",
    "        plt.title(row[3]\t+' '+\trow[1])\n",
    "        plt.pie(row[4:8],\tlabels=label,\tcolors=c,\tautopct =\t'%.1f%%')\n",
    "        plt.savefig(row[3]\t+' '+\trow[1]\t+\t'.png')\n",
    "        plt.close()\t#\t파일 닫기\n",
    "        \n",
    "        pic_count +=\t1\n",
    "        if\tpic_count >=\t10:\n",
    "            break       "
   ]
  },
  {
   "cell_type": "markdown",
   "metadata": {},
   "source": [
    "### 10. 데이터 정수 변환 \n",
    "- map(function, iterable)  \n",
    "- map(적용할 함수 이름, 적용할 데이터 이름)"
   ]
  },
  {
   "cell_type": "code",
   "execution_count": 86,
   "metadata": {},
   "outputs": [
    {
     "name": "stdout",
     "output_type": "stream",
     "text": [
      "[1, 4, 9, 16]\n",
      "[1, 2, 3, 4], \n",
      "data[0] type : <class 'int'>\n"
     ]
    }
   ],
   "source": [
    "def func(x):\n",
    "    return x**2\n",
    "\n",
    "a = [1,2,3,4]\n",
    "a = list(map(func,a))\n",
    "print(a)\n",
    "\n",
    "data =['1','2','3','4']\n",
    "data = list(map(int,data))\n",
    "print(f'{data}, \\ndata[0] type : {type(data[0])}')"
   ]
  },
  {
   "cell_type": "markdown",
   "metadata": {},
   "source": [
    "### 11. 시간대별 지하철 이용 인원 수"
   ]
  },
  {
   "cell_type": "code",
   "execution_count": 87,
   "metadata": {},
   "outputs": [
    {
     "name": "stdout",
     "output_type": "stream",
     "text": [
      "총 지하철 역의 수: 615\n",
      "새별 4시의 승차인원: 135398\n"
     ]
    }
   ],
   "source": [
    "import csv\n",
    "\n",
    "result = []\n",
    "total_number = 0\n",
    "\n",
    "with open('./data/subwaytime_make.csv') as f:\n",
    "    data=csv.reader(f)\n",
    "    next(data) # 헤더 2줄 건너뜀\n",
    "    next(data)\n",
    "    \n",
    "    for row in data:\n",
    "        row[4:] = map(int,row[4:])\n",
    "        total_number += row[4]\n",
    "        result.append(row[4])\n",
    "        \n",
    "print(f'총 지하철 역의 수: {len(result)}')\n",
    "print(f'새별 4시의 승차인원: {total_number}')"
   ]
  },
  {
   "cell_type": "markdown",
   "metadata": {},
   "source": [
    "### 12. 새벽4시 지하철 이용 인원 수 (그래프)"
   ]
  },
  {
   "cell_type": "code",
   "execution_count": 88,
   "metadata": {},
   "outputs": [
    {
     "name": "stdout",
     "output_type": "stream",
     "text": [
      "새벽 4시 승차 인원수: 135398\n",
      "최대 승차역: ('구로', 11784)\n"
     ]
    },
    {
     "data": {
      "text/plain": [
       "<BarContainer object of 615 artists>"
      ]
     },
     "execution_count": 88,
     "metadata": {},
     "output_type": "execute_result"
    },
    {
     "data": {
      "image/png": "[encoded data removed]",
      "text/plain": [
       "<Figure size 600x400 with 1 Axes>"
      ]
     },
     "metadata": {
      "needs_background": "light"
     },
     "output_type": "display_data"
    }
   ],
   "source": [
    "import csv\n",
    "import matplotlib.pyplot as plt\n",
    "\n",
    "with open('./data/subwaytime_make.csv') as f:\n",
    "    data=csv.reader(f)\n",
    "    next(data)\n",
    "    next(data)\n",
    "    result=[]\n",
    "    total_number = 0\n",
    "    max_num = 0\n",
    "    max_station = ''\n",
    "    \n",
    "    for row in data:\n",
    "        row[4:] = map(int, row[4:])\n",
    "        total_number += row[4]\n",
    "        result.append(row[4])\n",
    "        if row[4] > max_num:\n",
    "            max_num = row[4]\n",
    "            max_station = row[3]\n",
    "\n",
    "print(f'새벽 4시 승차 인원수: {total_number}')\n",
    "print(f'최대 승차역: {max_station, max_num}')\n",
    "\n",
    "result.sort()\n",
    "plt.figure(dpi=100)\n",
    "plt.bar(range(len(result)),result)\n",
    "\n"
   ]
  },
  {
   "cell_type": "markdown",
   "metadata": {},
   "source": [
    "### 13. 출근 시간대 지하철 이용 현황 "
   ]
  },
  {
   "cell_type": "code",
   "execution_count": 89,
   "metadata": {},
   "outputs": [
    {
     "name": "stdout",
     "output_type": "stream",
     "text": [
      "최대 승차 인원역:('신림(2호선)', 638753) \n"
     ]
    },
    {
     "data": {
      "image/png": "[encoded data removed]",
      "text/plain": [
       "<Figure size 600x400 with 1 Axes>"
      ]
     },
     "metadata": {
      "needs_background": "light"
     },
     "output_type": "display_data"
    }
   ],
   "source": [
    "with open('./data/subwaytime_make.csv') as f:\n",
    "    data=csv.reader(f)\n",
    "    next(data)\n",
    "    next(data)\n",
    "    result=[]\n",
    "    total_number = 0\n",
    "    max_num = 0\n",
    "    max_station = ''\n",
    "    \n",
    "    for row in data:\n",
    "        row[4:] = map(int, row[4:])\n",
    "        row_sum = sum(row[10:15:2])\n",
    "        result.append(row_sum)\n",
    "        if row_sum> max_num:\n",
    "            max_num = row_sum\n",
    "            max_station = row[3] +'(' + row[1] + ')'\n",
    "\n",
    "print(f'최대 승차 인원역:{max_station, max_num} ')\n",
    "result.sort(reverse=True)\n",
    "plt.figure(dpi=100)\n",
    "plt.bar(range(len(result)), result)\n",
    "plt.show()"
   ]
  },
  {
   "cell_type": "markdown",
   "metadata": {},
   "source": [
    "### 14. 시간대별 가장 많이 승차하는 역 정보 분석"
   ]
  },
  {
   "cell_type": "code",
   "execution_count": 90,
   "metadata": {},
   "outputs": [
    {
     "name": "stdout",
     "output_type": "stream",
     "text": [
      "11784, 4시구로\n",
      "38809, 5시신림\n",
      "73523, 6시신림\n",
      "188110, 7시신림\n",
      "\n",
      "281017, 8시신림\n",
      "169626, 9시신림\n",
      "91989, 10시신림\n",
      "77496, 11시신림\n",
      "\n",
      "84383, 12시잠실(송파구청)\n",
      "95697, 13시강남\n",
      "106394, 14시강남\n",
      "131625, 15시강남\n",
      "\n",
      "154526, 16시강남\n",
      "231839, 17시강남\n",
      "314775, 18시강남\n",
      "196425, 19시강남\n",
      "\n",
      "155347, 20시강남\n",
      "180108, 21시강남\n",
      "176473, 22시강남\n",
      "81016, 23시강남\n",
      "\n",
      "12407, 0시강남\n",
      "8, 1시건대입구\n",
      "1, 2시동묘앞\n"
     ]
    }
   ],
   "source": [
    "with open('./data/subwaytime_make.csv') as f:\n",
    "    data=csv.reader(f)\n",
    "    next(data)\n",
    "    next(data)\n",
    "    \n",
    "    max=[0] * 23  # 새벽 3시는 지하철 운행 안함. \n",
    "    total_number = 0\n",
    "    max_num = 0\n",
    "    max_station = [''] * 23\n",
    "    xtick_list = []\n",
    "    \n",
    "    # x축 시간 설정 \n",
    "    for i in range(4,27):\n",
    "        n= i % 24\n",
    "        xtick_list.append(str(n))\n",
    "    \n",
    "    #     \n",
    "    for row in data:\n",
    "        row[4:] = map(int, row[4:])\n",
    "        for j in range(23):\n",
    "            a = row[j * 2 + 4] # 승차 데이터만 가져오기 위해서.\n",
    "            if a > max[j]:\n",
    "                max[j] = a\n",
    "                max_station[j] = xtick_list[j] + '시' + row[3]\n",
    "                \n",
    "    for i in range(len(max)):\n",
    "        print(f'{max[i]}, {max_station[i]}')\n",
    "        if (i+1) % 4 == 0:\n",
    "            print()            \n",
    "    \n",
    "    "
   ]
  },
  {
   "cell_type": "markdown",
   "metadata": {},
   "source": [
    "### 15. 판다스 활용\n",
    "- 출퇴근 이용현황\n",
    "- 컬럼 데이터 타입 확인( 컬럼불러오기 : 멀티인덱스의 경우, 튜플형식으로 접근)\n",
    "- 천 단위 콤마 제거\n",
    "- 데이터 타입 변경\n",
    "- 각 행(지하철 역)의 승차 인원 수 합 계산\n",
    "- 최대,최소 인덱스 찾기\n",
    "- 그래프 생성"
   ]
  },
  {
   "cell_type": "code",
   "execution_count": 91,
   "metadata": {},
   "outputs": [
    {
     "name": "stdout",
     "output_type": "stream",
     "text": [
      "Defaulting to user installation because normal site-packages is not writeable\n",
      "Requirement already satisfied: xlrd in c:\\users\\alstn\\appdata\\roaming\\python\\python39\\site-packages (2.0.1)\n"
     ]
    },
    {
     "data": {
      "text/html": [
       "<div>\n",
       "<style scoped>\n",
       "    .dataframe tbody tr th:only-of-type {\n",
       "        vertical-align: middle;\n",
       "    }\n",
       "\n",
       "    .dataframe tbody tr th {\n",
       "        vertical-align: top;\n",
       "    }\n",
       "\n",
       "    .dataframe thead tr th {\n",
       "        text-align: left;\n",
       "    }\n",
       "</style>\n",
       "<table border=\"1\" class=\"dataframe\">\n",
       "  <thead>\n",
       "    <tr>\n",
       "      <th></th>\n",
       "      <th>사용월</th>\n",
       "      <th>호선명</th>\n",
       "      <th>역ID</th>\n",
       "      <th>지하철역</th>\n",
       "      <th colspan=\"2\" halign=\"left\">04:00:00~04:59:59</th>\n",
       "      <th colspan=\"2\" halign=\"left\">05:00:00~05:59:59</th>\n",
       "      <th colspan=\"2\" halign=\"left\">06:00:00~06:59:59</th>\n",
       "      <th>...</th>\n",
       "      <th>23:00:00~23:59:59</th>\n",
       "      <th colspan=\"2\" halign=\"left\">00:00:00~00:59:59</th>\n",
       "      <th colspan=\"2\" halign=\"left\">01:00:00~01:59:59</th>\n",
       "      <th colspan=\"2\" halign=\"left\">02:00:00~02:59:59</th>\n",
       "      <th colspan=\"2\" halign=\"left\">03:00:00~03:59:59</th>\n",
       "      <th>작업일시</th>\n",
       "    </tr>\n",
       "    <tr>\n",
       "      <th></th>\n",
       "      <th>Unnamed: 0_level_1</th>\n",
       "      <th>Unnamed: 1_level_1</th>\n",
       "      <th>Unnamed: 2_level_1</th>\n",
       "      <th>Unnamed: 3_level_1</th>\n",
       "      <th>승차</th>\n",
       "      <th>하차</th>\n",
       "      <th>승차</th>\n",
       "      <th>하차</th>\n",
       "      <th>승차</th>\n",
       "      <th>하차</th>\n",
       "      <th>...</th>\n",
       "      <th>하차</th>\n",
       "      <th>승차</th>\n",
       "      <th>하차</th>\n",
       "      <th>승차</th>\n",
       "      <th>하차</th>\n",
       "      <th>승차</th>\n",
       "      <th>하차</th>\n",
       "      <th>승차</th>\n",
       "      <th>하차</th>\n",
       "      <th>Unnamed: 52_level_1</th>\n",
       "    </tr>\n",
       "  </thead>\n",
       "  <tbody>\n",
       "    <tr>\n",
       "      <th>0</th>\n",
       "      <td>2022-06</td>\n",
       "      <td>1호선</td>\n",
       "      <td>150</td>\n",
       "      <td>서울역</td>\n",
       "      <td>646</td>\n",
       "      <td>24</td>\n",
       "      <td>8,433</td>\n",
       "      <td>7,694</td>\n",
       "      <td>12,608</td>\n",
       "      <td>46,963</td>\n",
       "      <td>...</td>\n",
       "      <td>15,480</td>\n",
       "      <td>158</td>\n",
       "      <td>1,332</td>\n",
       "      <td>1</td>\n",
       "      <td>4</td>\n",
       "      <td>0</td>\n",
       "      <td>1</td>\n",
       "      <td>0</td>\n",
       "      <td>0</td>\n",
       "      <td>2022-07-03 09:48:05</td>\n",
       "    </tr>\n",
       "    <tr>\n",
       "      <th>1</th>\n",
       "      <td>2022-06</td>\n",
       "      <td>1호선</td>\n",
       "      <td>151</td>\n",
       "      <td>시청</td>\n",
       "      <td>271</td>\n",
       "      <td>7</td>\n",
       "      <td>3,133</td>\n",
       "      <td>4,802</td>\n",
       "      <td>3,321</td>\n",
       "      <td>23,621</td>\n",
       "      <td>...</td>\n",
       "      <td>2,938</td>\n",
       "      <td>72</td>\n",
       "      <td>422</td>\n",
       "      <td>0</td>\n",
       "      <td>2</td>\n",
       "      <td>0</td>\n",
       "      <td>0</td>\n",
       "      <td>0</td>\n",
       "      <td>0</td>\n",
       "      <td>2022-07-03 09:48:05</td>\n",
       "    </tr>\n",
       "    <tr>\n",
       "      <th>2</th>\n",
       "      <td>2022-06</td>\n",
       "      <td>1호선</td>\n",
       "      <td>152</td>\n",
       "      <td>종각</td>\n",
       "      <td>91</td>\n",
       "      <td>9</td>\n",
       "      <td>4,007</td>\n",
       "      <td>3,960</td>\n",
       "      <td>3,682</td>\n",
       "      <td>22,533</td>\n",
       "      <td>...</td>\n",
       "      <td>3,590</td>\n",
       "      <td>315</td>\n",
       "      <td>394</td>\n",
       "      <td>0</td>\n",
       "      <td>1</td>\n",
       "      <td>0</td>\n",
       "      <td>0</td>\n",
       "      <td>0</td>\n",
       "      <td>0</td>\n",
       "      <td>2022-07-03 09:48:05</td>\n",
       "    </tr>\n",
       "    <tr>\n",
       "      <th>3</th>\n",
       "      <td>2022-06</td>\n",
       "      <td>1호선</td>\n",
       "      <td>153</td>\n",
       "      <td>종로3가</td>\n",
       "      <td>190</td>\n",
       "      <td>12</td>\n",
       "      <td>3,882</td>\n",
       "      <td>3,261</td>\n",
       "      <td>3,570</td>\n",
       "      <td>14,038</td>\n",
       "      <td>...</td>\n",
       "      <td>4,119</td>\n",
       "      <td>310</td>\n",
       "      <td>843</td>\n",
       "      <td>3</td>\n",
       "      <td>3</td>\n",
       "      <td>0</td>\n",
       "      <td>0</td>\n",
       "      <td>0</td>\n",
       "      <td>0</td>\n",
       "      <td>2022-07-03 09:48:05</td>\n",
       "    </tr>\n",
       "    <tr>\n",
       "      <th>4</th>\n",
       "      <td>2022-06</td>\n",
       "      <td>1호선</td>\n",
       "      <td>154</td>\n",
       "      <td>종로5가</td>\n",
       "      <td>34</td>\n",
       "      <td>0</td>\n",
       "      <td>1,730</td>\n",
       "      <td>3,909</td>\n",
       "      <td>2,986</td>\n",
       "      <td>16,406</td>\n",
       "      <td>...</td>\n",
       "      <td>2,628</td>\n",
       "      <td>98</td>\n",
       "      <td>668</td>\n",
       "      <td>0</td>\n",
       "      <td>0</td>\n",
       "      <td>0</td>\n",
       "      <td>0</td>\n",
       "      <td>0</td>\n",
       "      <td>0</td>\n",
       "      <td>2022-07-03 09:48:05</td>\n",
       "    </tr>\n",
       "    <tr>\n",
       "      <th>...</th>\n",
       "      <td>...</td>\n",
       "      <td>...</td>\n",
       "      <td>...</td>\n",
       "      <td>...</td>\n",
       "      <td>...</td>\n",
       "      <td>...</td>\n",
       "      <td>...</td>\n",
       "      <td>...</td>\n",
       "      <td>...</td>\n",
       "      <td>...</td>\n",
       "      <td>...</td>\n",
       "      <td>...</td>\n",
       "      <td>...</td>\n",
       "      <td>...</td>\n",
       "      <td>...</td>\n",
       "      <td>...</td>\n",
       "      <td>...</td>\n",
       "      <td>...</td>\n",
       "      <td>...</td>\n",
       "      <td>...</td>\n",
       "      <td>...</td>\n",
       "    </tr>\n",
       "    <tr>\n",
       "      <th>610</th>\n",
       "      <td>2022-06</td>\n",
       "      <td>신림선</td>\n",
       "      <td>4407</td>\n",
       "      <td>당곡</td>\n",
       "      <td>0</td>\n",
       "      <td>0</td>\n",
       "      <td>1,061</td>\n",
       "      <td>118</td>\n",
       "      <td>2,650</td>\n",
       "      <td>704</td>\n",
       "      <td>...</td>\n",
       "      <td>2,710</td>\n",
       "      <td>156</td>\n",
       "      <td>637</td>\n",
       "      <td>0</td>\n",
       "      <td>0</td>\n",
       "      <td>0</td>\n",
       "      <td>0</td>\n",
       "      <td>0</td>\n",
       "      <td>0</td>\n",
       "      <td>2022-07-03 09:48:05</td>\n",
       "    </tr>\n",
       "    <tr>\n",
       "      <th>611</th>\n",
       "      <td>2022-06</td>\n",
       "      <td>신림선</td>\n",
       "      <td>4408</td>\n",
       "      <td>신림</td>\n",
       "      <td>2</td>\n",
       "      <td>1</td>\n",
       "      <td>651</td>\n",
       "      <td>153</td>\n",
       "      <td>853</td>\n",
       "      <td>488</td>\n",
       "      <td>...</td>\n",
       "      <td>2,023</td>\n",
       "      <td>177</td>\n",
       "      <td>629</td>\n",
       "      <td>0</td>\n",
       "      <td>1</td>\n",
       "      <td>0</td>\n",
       "      <td>0</td>\n",
       "      <td>0</td>\n",
       "      <td>0</td>\n",
       "      <td>2022-07-03 09:48:05</td>\n",
       "    </tr>\n",
       "    <tr>\n",
       "      <th>612</th>\n",
       "      <td>2022-06</td>\n",
       "      <td>신림선</td>\n",
       "      <td>4409</td>\n",
       "      <td>서원</td>\n",
       "      <td>2</td>\n",
       "      <td>1</td>\n",
       "      <td>1,287</td>\n",
       "      <td>151</td>\n",
       "      <td>2,552</td>\n",
       "      <td>513</td>\n",
       "      <td>...</td>\n",
       "      <td>3,281</td>\n",
       "      <td>68</td>\n",
       "      <td>782</td>\n",
       "      <td>2</td>\n",
       "      <td>2</td>\n",
       "      <td>0</td>\n",
       "      <td>0</td>\n",
       "      <td>0</td>\n",
       "      <td>0</td>\n",
       "      <td>2022-07-03 09:48:05</td>\n",
       "    </tr>\n",
       "    <tr>\n",
       "      <th>613</th>\n",
       "      <td>2022-06</td>\n",
       "      <td>신림선</td>\n",
       "      <td>4410</td>\n",
       "      <td>서울대벤처타운</td>\n",
       "      <td>10</td>\n",
       "      <td>3</td>\n",
       "      <td>3,314</td>\n",
       "      <td>166</td>\n",
       "      <td>5,162</td>\n",
       "      <td>1,676</td>\n",
       "      <td>...</td>\n",
       "      <td>7,279</td>\n",
       "      <td>180</td>\n",
       "      <td>1,974</td>\n",
       "      <td>1</td>\n",
       "      <td>40</td>\n",
       "      <td>0</td>\n",
       "      <td>0</td>\n",
       "      <td>0</td>\n",
       "      <td>0</td>\n",
       "      <td>2022-07-03 09:48:05</td>\n",
       "    </tr>\n",
       "    <tr>\n",
       "      <th>614</th>\n",
       "      <td>2022-06</td>\n",
       "      <td>신림선</td>\n",
       "      <td>4411</td>\n",
       "      <td>관악산(서울대)</td>\n",
       "      <td>2</td>\n",
       "      <td>5</td>\n",
       "      <td>475</td>\n",
       "      <td>742</td>\n",
       "      <td>1,258</td>\n",
       "      <td>1,712</td>\n",
       "      <td>...</td>\n",
       "      <td>1,224</td>\n",
       "      <td>90</td>\n",
       "      <td>412</td>\n",
       "      <td>1</td>\n",
       "      <td>33</td>\n",
       "      <td>0</td>\n",
       "      <td>0</td>\n",
       "      <td>0</td>\n",
       "      <td>0</td>\n",
       "      <td>2022-07-03 09:48:05</td>\n",
       "    </tr>\n",
       "  </tbody>\n",
       "</table>\n",
       "<p>615 rows × 53 columns</p>\n",
       "</div>"
      ],
      "text/plain": [
       "                   사용월                호선명                역ID  \\\n",
       "    Unnamed: 0_level_1 Unnamed: 1_level_1 Unnamed: 2_level_1   \n",
       "0              2022-06                1호선                150   \n",
       "1              2022-06                1호선                151   \n",
       "2              2022-06                1호선                152   \n",
       "3              2022-06                1호선                153   \n",
       "4              2022-06                1호선                154   \n",
       "..                 ...                ...                ...   \n",
       "610            2022-06                신림선               4407   \n",
       "611            2022-06                신림선               4408   \n",
       "612            2022-06                신림선               4409   \n",
       "613            2022-06                신림선               4410   \n",
       "614            2022-06                신림선               4411   \n",
       "\n",
       "                  지하철역 04:00:00~04:59:59     05:00:00~05:59:59         \\\n",
       "    Unnamed: 3_level_1                승차  하차                승차     하차   \n",
       "0                  서울역               646  24             8,433  7,694   \n",
       "1                   시청               271   7             3,133  4,802   \n",
       "2                   종각                91   9             4,007  3,960   \n",
       "3                 종로3가               190  12             3,882  3,261   \n",
       "4                 종로5가                34   0             1,730  3,909   \n",
       "..                 ...               ...  ..               ...    ...   \n",
       "610                 당곡                 0   0             1,061    118   \n",
       "611                 신림                 2   1               651    153   \n",
       "612                 서원                 2   1             1,287    151   \n",
       "613            서울대벤처타운                10   3             3,314    166   \n",
       "614           관악산(서울대)                 2   5               475    742   \n",
       "\n",
       "    06:00:00~06:59:59          ... 23:00:00~23:59:59 00:00:00~00:59:59         \\\n",
       "                   승차      하차  ...                하차                승차     하차   \n",
       "0              12,608  46,963  ...            15,480               158  1,332   \n",
       "1               3,321  23,621  ...             2,938                72    422   \n",
       "2               3,682  22,533  ...             3,590               315    394   \n",
       "3               3,570  14,038  ...             4,119               310    843   \n",
       "4               2,986  16,406  ...             2,628                98    668   \n",
       "..                ...     ...  ...               ...               ...    ...   \n",
       "610             2,650     704  ...             2,710               156    637   \n",
       "611               853     488  ...             2,023               177    629   \n",
       "612             2,552     513  ...             3,281                68    782   \n",
       "613             5,162   1,676  ...             7,279               180  1,974   \n",
       "614             1,258   1,712  ...             1,224                90    412   \n",
       "\n",
       "    01:00:00~01:59:59     02:00:00~02:59:59    03:00:00~03:59:59     \\\n",
       "                   승차  하차                승차 하차                승차 하차   \n",
       "0                   1   4                 0  1                 0  0   \n",
       "1                   0   2                 0  0                 0  0   \n",
       "2                   0   1                 0  0                 0  0   \n",
       "3                   3   3                 0  0                 0  0   \n",
       "4                   0   0                 0  0                 0  0   \n",
       "..                ...  ..               ... ..               ... ..   \n",
       "610                 0   0                 0  0                 0  0   \n",
       "611                 0   1                 0  0                 0  0   \n",
       "612                 2   2                 0  0                 0  0   \n",
       "613                 1  40                 0  0                 0  0   \n",
       "614                 1  33                 0  0                 0  0   \n",
       "\n",
       "                    작업일시  \n",
       "     Unnamed: 52_level_1  \n",
       "0    2022-07-03 09:48:05  \n",
       "1    2022-07-03 09:48:05  \n",
       "2    2022-07-03 09:48:05  \n",
       "3    2022-07-03 09:48:05  \n",
       "4    2022-07-03 09:48:05  \n",
       "..                   ...  \n",
       "610  2022-07-03 09:48:05  \n",
       "611  2022-07-03 09:48:05  \n",
       "612  2022-07-03 09:48:05  \n",
       "613  2022-07-03 09:48:05  \n",
       "614  2022-07-03 09:48:05  \n",
       "\n",
       "[615 rows x 53 columns]"
      ]
     },
     "execution_count": 91,
     "metadata": {},
     "output_type": "execute_result"
    }
   ],
   "source": [
    "import pandas as pd\n",
    "!pip install xlrd\n",
    "df= pd.read_excel('./data/subway.xls', sheet_name='지하철 시간대별 이용현황', header=[0,1])\n",
    "df"
   ]
  },
  {
   "cell_type": "code",
   "execution_count": 92,
   "metadata": {},
   "outputs": [
    {
     "data": {
      "text/plain": [
       "MultiIndex([(              '사용월',  'Unnamed: 0_level_1'),\n",
       "            (              '호선명',  'Unnamed: 1_level_1'),\n",
       "            (              '역ID',  'Unnamed: 2_level_1'),\n",
       "            (             '지하철역',  'Unnamed: 3_level_1'),\n",
       "            ('04:00:00~04:59:59',                  '승차'),\n",
       "            ('04:00:00~04:59:59',                  '하차'),\n",
       "            ('05:00:00~05:59:59',                  '승차'),\n",
       "            ('05:00:00~05:59:59',                  '하차'),\n",
       "            ('06:00:00~06:59:59',                  '승차'),\n",
       "            ('06:00:00~06:59:59',                  '하차'),\n",
       "            ('07:00:00~07:59:59',                  '승차'),\n",
       "            ('07:00:00~07:59:59',                  '하차'),\n",
       "            ('08:00:00~08:59:59',                  '승차'),\n",
       "            ('08:00:00~08:59:59',                  '하차'),\n",
       "            ('09:00:00~09:59:59',                  '승차'),\n",
       "            ('09:00:00~09:59:59',                  '하차'),\n",
       "            ('10:00:00~10:59:59',                  '승차'),\n",
       "            ('10:00:00~10:59:59',                  '하차'),\n",
       "            ('11:00:00~11:59:59',                  '승차'),\n",
       "            ('11:00:00~11:59:59',                  '하차'),\n",
       "            ('12:00:00~12:59:59',                  '승차'),\n",
       "            ('12:00:00~12:59:59',                  '하차'),\n",
       "            ('13:00:00~13:59:59',                  '승차'),\n",
       "            ('13:00:00~13:59:59',                  '하차'),\n",
       "            ('14:00:00~14:59:59',                  '승차'),\n",
       "            ('14:00:00~14:59:59',                  '하차'),\n",
       "            ('15:00:00~15:59:59',                  '승차'),\n",
       "            ('15:00:00~15:59:59',                  '하차'),\n",
       "            ('16:00:00~16:59:59',                  '승차'),\n",
       "            ('16:00:00~16:59:59',                  '하차'),\n",
       "            ('17:00:00~17:59:59',                  '승차'),\n",
       "            ('17:00:00~17:59:59',                  '하차'),\n",
       "            ('18:00:00~18:59:59',                  '승차'),\n",
       "            ('18:00:00~18:59:59',                  '하차'),\n",
       "            ('19:00:00~19:59:59',                  '승차'),\n",
       "            ('19:00:00~19:59:59',                  '하차'),\n",
       "            ('20:00:00~20:59:59',                  '승차'),\n",
       "            ('20:00:00~20:59:59',                  '하차'),\n",
       "            ('21:00:00~21:59:59',                  '승차'),\n",
       "            ('21:00:00~21:59:59',                  '하차'),\n",
       "            ('22:00:00~22:59:59',                  '승차'),\n",
       "            ('22:00:00~22:59:59',                  '하차'),\n",
       "            ('23:00:00~23:59:59',                  '승차'),\n",
       "            ('23:00:00~23:59:59',                  '하차'),\n",
       "            ('00:00:00~00:59:59',                  '승차'),\n",
       "            ('00:00:00~00:59:59',                  '하차'),\n",
       "            ('01:00:00~01:59:59',                  '승차'),\n",
       "            ('01:00:00~01:59:59',                  '하차'),\n",
       "            ('02:00:00~02:59:59',                  '승차'),\n",
       "            ('02:00:00~02:59:59',                  '하차'),\n",
       "            ('03:00:00~03:59:59',                  '승차'),\n",
       "            ('03:00:00~03:59:59',                  '하차'),\n",
       "            (             '작업일시', 'Unnamed: 52_level_1')],\n",
       "           )"
      ]
     },
     "execution_count": 92,
     "metadata": {},
     "output_type": "execute_result"
    }
   ],
   "source": [
    "df.columns"
   ]
  },
  {
   "cell_type": "code",
   "execution_count": 93,
   "metadata": {},
   "outputs": [
    {
     "data": {
      "text/plain": [
       "0      1호선\n",
       "1      1호선\n",
       "2      1호선\n",
       "3      1호선\n",
       "4      1호선\n",
       "      ... \n",
       "610    신림선\n",
       "611    신림선\n",
       "612    신림선\n",
       "613    신림선\n",
       "614    신림선\n",
       "Name: (호선명, Unnamed: 1_level_1), Length: 615, dtype: object"
      ]
     },
     "execution_count": 93,
     "metadata": {},
     "output_type": "execute_result"
    }
   ],
   "source": [
    "df[('호선명','Unnamed: 1_level_1')]"
   ]
  },
  {
   "cell_type": "code",
   "execution_count": 94,
   "metadata": {},
   "outputs": [
    {
     "data": {
      "text/html": [
       "<div>\n",
       "<style scoped>\n",
       "    .dataframe tbody tr th:only-of-type {\n",
       "        vertical-align: middle;\n",
       "    }\n",
       "\n",
       "    .dataframe tbody tr th {\n",
       "        vertical-align: top;\n",
       "    }\n",
       "\n",
       "    .dataframe thead tr th {\n",
       "        text-align: left;\n",
       "    }\n",
       "</style>\n",
       "<table border=\"1\" class=\"dataframe\">\n",
       "  <thead>\n",
       "    <tr>\n",
       "      <th></th>\n",
       "      <th>호선명</th>\n",
       "      <th>지하철역</th>\n",
       "      <th>07:00:00~07:59:59</th>\n",
       "      <th>08:00:00~08:59:59</th>\n",
       "      <th>09:00:00~09:59:59</th>\n",
       "    </tr>\n",
       "    <tr>\n",
       "      <th></th>\n",
       "      <th>Unnamed: 1_level_1</th>\n",
       "      <th>Unnamed: 3_level_1</th>\n",
       "      <th>승차</th>\n",
       "      <th>승차</th>\n",
       "      <th>승차</th>\n",
       "    </tr>\n",
       "  </thead>\n",
       "  <tbody>\n",
       "    <tr>\n",
       "      <th>0</th>\n",
       "      <td>1호선</td>\n",
       "      <td>서울역</td>\n",
       "      <td>39,233</td>\n",
       "      <td>65,106</td>\n",
       "      <td>54,833</td>\n",
       "    </tr>\n",
       "    <tr>\n",
       "      <th>1</th>\n",
       "      <td>1호선</td>\n",
       "      <td>시청</td>\n",
       "      <td>6,647</td>\n",
       "      <td>8,294</td>\n",
       "      <td>9,211</td>\n",
       "    </tr>\n",
       "    <tr>\n",
       "      <th>2</th>\n",
       "      <td>1호선</td>\n",
       "      <td>종각</td>\n",
       "      <td>5,814</td>\n",
       "      <td>9,612</td>\n",
       "      <td>11,847</td>\n",
       "    </tr>\n",
       "    <tr>\n",
       "      <th>3</th>\n",
       "      <td>1호선</td>\n",
       "      <td>종로3가</td>\n",
       "      <td>4,746</td>\n",
       "      <td>8,589</td>\n",
       "      <td>13,179</td>\n",
       "    </tr>\n",
       "    <tr>\n",
       "      <th>4</th>\n",
       "      <td>1호선</td>\n",
       "      <td>종로5가</td>\n",
       "      <td>5,020</td>\n",
       "      <td>8,550</td>\n",
       "      <td>11,925</td>\n",
       "    </tr>\n",
       "    <tr>\n",
       "      <th>...</th>\n",
       "      <td>...</td>\n",
       "      <td>...</td>\n",
       "      <td>...</td>\n",
       "      <td>...</td>\n",
       "      <td>...</td>\n",
       "    </tr>\n",
       "    <tr>\n",
       "      <th>610</th>\n",
       "      <td>신림선</td>\n",
       "      <td>당곡</td>\n",
       "      <td>7,708</td>\n",
       "      <td>11,603</td>\n",
       "      <td>6,862</td>\n",
       "    </tr>\n",
       "    <tr>\n",
       "      <th>611</th>\n",
       "      <td>신림선</td>\n",
       "      <td>신림</td>\n",
       "      <td>3,099</td>\n",
       "      <td>5,402</td>\n",
       "      <td>2,941</td>\n",
       "    </tr>\n",
       "    <tr>\n",
       "      <th>612</th>\n",
       "      <td>신림선</td>\n",
       "      <td>서원</td>\n",
       "      <td>8,427</td>\n",
       "      <td>12,646</td>\n",
       "      <td>7,590</td>\n",
       "    </tr>\n",
       "    <tr>\n",
       "      <th>613</th>\n",
       "      <td>신림선</td>\n",
       "      <td>서울대벤처타운</td>\n",
       "      <td>16,194</td>\n",
       "      <td>22,232</td>\n",
       "      <td>13,280</td>\n",
       "    </tr>\n",
       "    <tr>\n",
       "      <th>614</th>\n",
       "      <td>신림선</td>\n",
       "      <td>관악산(서울대)</td>\n",
       "      <td>4,086</td>\n",
       "      <td>4,382</td>\n",
       "      <td>3,446</td>\n",
       "    </tr>\n",
       "  </tbody>\n",
       "</table>\n",
       "<p>615 rows × 5 columns</p>\n",
       "</div>"
      ],
      "text/plain": [
       "                   호선명               지하철역 07:00:00~07:59:59 08:00:00~08:59:59  \\\n",
       "    Unnamed: 1_level_1 Unnamed: 3_level_1                승차                승차   \n",
       "0                  1호선                서울역            39,233            65,106   \n",
       "1                  1호선                 시청             6,647             8,294   \n",
       "2                  1호선                 종각             5,814             9,612   \n",
       "3                  1호선               종로3가             4,746             8,589   \n",
       "4                  1호선               종로5가             5,020             8,550   \n",
       "..                 ...                ...               ...               ...   \n",
       "610                신림선                 당곡             7,708            11,603   \n",
       "611                신림선                 신림             3,099             5,402   \n",
       "612                신림선                 서원             8,427            12,646   \n",
       "613                신림선            서울대벤처타운            16,194            22,232   \n",
       "614                신림선           관악산(서울대)             4,086             4,382   \n",
       "\n",
       "    09:00:00~09:59:59  \n",
       "                   승차  \n",
       "0              54,833  \n",
       "1               9,211  \n",
       "2              11,847  \n",
       "3              13,179  \n",
       "4              11,925  \n",
       "..                ...  \n",
       "610             6,862  \n",
       "611             2,941  \n",
       "612             7,590  \n",
       "613            13,280  \n",
       "614             3,446  \n",
       "\n",
       "[615 rows x 5 columns]"
      ]
     },
     "execution_count": 94,
     "metadata": {},
     "output_type": "execute_result"
    }
   ],
   "source": [
    "commute_time_df = df.iloc[:,[1,3,10,12,14]]\n",
    "commute_time_df"
   ]
  },
  {
   "cell_type": "code",
   "execution_count": 95,
   "metadata": {},
   "outputs": [
    {
     "data": {
      "text/plain": [
       "호선명                Unnamed: 1_level_1    object\n",
       "지하철역               Unnamed: 3_level_1    object\n",
       "07:00:00~07:59:59  승차                    object\n",
       "08:00:00~08:59:59  승차                    object\n",
       "09:00:00~09:59:59  승차                    object\n",
       "dtype: object"
      ]
     },
     "execution_count": 95,
     "metadata": {},
     "output_type": "execute_result"
    }
   ],
   "source": [
    "commute_time_df.dtypes"
   ]
  },
  {
   "cell_type": "code",
   "execution_count": 96,
   "metadata": {},
   "outputs": [
    {
     "name": "stderr",
     "output_type": "stream",
     "text": [
      "C:\\Users\\alstn\\AppData\\Local\\Temp\\ipykernel_14748\\2775104927.py:1: SettingWithCopyWarning: \n",
      "A value is trying to be set on a copy of a slice from a DataFrame.\n",
      "Try using .loc[row_indexer,col_indexer] = value instead\n",
      "\n",
      "See the caveats in the documentation: https://pandas.pydata.org/pandas-docs/stable/user_guide/indexing.html#returning-a-view-versus-a-copy\n",
      "  commute_time_df[('07:00:00~07:59:59',   '승차')]\t=   commute_time_df[('07:00:00~07:59:59',   '승차')].apply(lambda\tx\t:\tx.replace(',',''))\n",
      "C:\\Users\\alstn\\AppData\\Local\\Temp\\ipykernel_14748\\2775104927.py:2: SettingWithCopyWarning: \n",
      "A value is trying to be set on a copy of a slice from a DataFrame.\n",
      "Try using .loc[row_indexer,col_indexer] = value instead\n",
      "\n",
      "See the caveats in the documentation: https://pandas.pydata.org/pandas-docs/stable/user_guide/indexing.html#returning-a-view-versus-a-copy\n",
      "  commute_time_df[('08:00:00~08:59:59',   '승차')]\t=\tcommute_time_df[('08:00:00~08:59:59',   '승차')].apply(lambda\tx\t:\tx.replace(',',''))\n",
      "C:\\Users\\alstn\\AppData\\Local\\Temp\\ipykernel_14748\\2775104927.py:3: SettingWithCopyWarning: \n",
      "A value is trying to be set on a copy of a slice from a DataFrame.\n",
      "Try using .loc[row_indexer,col_indexer] = value instead\n",
      "\n",
      "See the caveats in the documentation: https://pandas.pydata.org/pandas-docs/stable/user_guide/indexing.html#returning-a-view-versus-a-copy\n",
      "  commute_time_df[('09:00:00~09:59:59',   '승차')]\t=\tcommute_time_df[('09:00:00~09:59:59',   '승차')].apply(lambda\tx\t:\tx.replace(',',''))\n"
     ]
    },
    {
     "data": {
      "text/html": [
       "<div>\n",
       "<style scoped>\n",
       "    .dataframe tbody tr th:only-of-type {\n",
       "        vertical-align: middle;\n",
       "    }\n",
       "\n",
       "    .dataframe tbody tr th {\n",
       "        vertical-align: top;\n",
       "    }\n",
       "\n",
       "    .dataframe thead tr th {\n",
       "        text-align: left;\n",
       "    }\n",
       "</style>\n",
       "<table border=\"1\" class=\"dataframe\">\n",
       "  <thead>\n",
       "    <tr>\n",
       "      <th></th>\n",
       "      <th>호선명</th>\n",
       "      <th>지하철역</th>\n",
       "      <th>07:00:00~07:59:59</th>\n",
       "      <th>08:00:00~08:59:59</th>\n",
       "      <th>09:00:00~09:59:59</th>\n",
       "    </tr>\n",
       "    <tr>\n",
       "      <th></th>\n",
       "      <th>Unnamed: 1_level_1</th>\n",
       "      <th>Unnamed: 3_level_1</th>\n",
       "      <th>승차</th>\n",
       "      <th>승차</th>\n",
       "      <th>승차</th>\n",
       "    </tr>\n",
       "  </thead>\n",
       "  <tbody>\n",
       "    <tr>\n",
       "      <th>0</th>\n",
       "      <td>1호선</td>\n",
       "      <td>서울역</td>\n",
       "      <td>39233</td>\n",
       "      <td>65106</td>\n",
       "      <td>54833</td>\n",
       "    </tr>\n",
       "    <tr>\n",
       "      <th>1</th>\n",
       "      <td>1호선</td>\n",
       "      <td>시청</td>\n",
       "      <td>6647</td>\n",
       "      <td>8294</td>\n",
       "      <td>9211</td>\n",
       "    </tr>\n",
       "    <tr>\n",
       "      <th>2</th>\n",
       "      <td>1호선</td>\n",
       "      <td>종각</td>\n",
       "      <td>5814</td>\n",
       "      <td>9612</td>\n",
       "      <td>11847</td>\n",
       "    </tr>\n",
       "    <tr>\n",
       "      <th>3</th>\n",
       "      <td>1호선</td>\n",
       "      <td>종로3가</td>\n",
       "      <td>4746</td>\n",
       "      <td>8589</td>\n",
       "      <td>13179</td>\n",
       "    </tr>\n",
       "    <tr>\n",
       "      <th>4</th>\n",
       "      <td>1호선</td>\n",
       "      <td>종로5가</td>\n",
       "      <td>5020</td>\n",
       "      <td>8550</td>\n",
       "      <td>11925</td>\n",
       "    </tr>\n",
       "    <tr>\n",
       "      <th>...</th>\n",
       "      <td>...</td>\n",
       "      <td>...</td>\n",
       "      <td>...</td>\n",
       "      <td>...</td>\n",
       "      <td>...</td>\n",
       "    </tr>\n",
       "    <tr>\n",
       "      <th>610</th>\n",
       "      <td>신림선</td>\n",
       "      <td>당곡</td>\n",
       "      <td>7708</td>\n",
       "      <td>11603</td>\n",
       "      <td>6862</td>\n",
       "    </tr>\n",
       "    <tr>\n",
       "      <th>611</th>\n",
       "      <td>신림선</td>\n",
       "      <td>신림</td>\n",
       "      <td>3099</td>\n",
       "      <td>5402</td>\n",
       "      <td>2941</td>\n",
       "    </tr>\n",
       "    <tr>\n",
       "      <th>612</th>\n",
       "      <td>신림선</td>\n",
       "      <td>서원</td>\n",
       "      <td>8427</td>\n",
       "      <td>12646</td>\n",
       "      <td>7590</td>\n",
       "    </tr>\n",
       "    <tr>\n",
       "      <th>613</th>\n",
       "      <td>신림선</td>\n",
       "      <td>서울대벤처타운</td>\n",
       "      <td>16194</td>\n",
       "      <td>22232</td>\n",
       "      <td>13280</td>\n",
       "    </tr>\n",
       "    <tr>\n",
       "      <th>614</th>\n",
       "      <td>신림선</td>\n",
       "      <td>관악산(서울대)</td>\n",
       "      <td>4086</td>\n",
       "      <td>4382</td>\n",
       "      <td>3446</td>\n",
       "    </tr>\n",
       "  </tbody>\n",
       "</table>\n",
       "<p>615 rows × 5 columns</p>\n",
       "</div>"
      ],
      "text/plain": [
       "                   호선명               지하철역 07:00:00~07:59:59 08:00:00~08:59:59  \\\n",
       "    Unnamed: 1_level_1 Unnamed: 3_level_1                승차                승차   \n",
       "0                  1호선                서울역             39233             65106   \n",
       "1                  1호선                 시청              6647              8294   \n",
       "2                  1호선                 종각              5814              9612   \n",
       "3                  1호선               종로3가              4746              8589   \n",
       "4                  1호선               종로5가              5020              8550   \n",
       "..                 ...                ...               ...               ...   \n",
       "610                신림선                 당곡              7708             11603   \n",
       "611                신림선                 신림              3099              5402   \n",
       "612                신림선                 서원              8427             12646   \n",
       "613                신림선            서울대벤처타운             16194             22232   \n",
       "614                신림선           관악산(서울대)              4086              4382   \n",
       "\n",
       "    09:00:00~09:59:59  \n",
       "                   승차  \n",
       "0               54833  \n",
       "1                9211  \n",
       "2               11847  \n",
       "3               13179  \n",
       "4               11925  \n",
       "..                ...  \n",
       "610              6862  \n",
       "611              2941  \n",
       "612              7590  \n",
       "613             13280  \n",
       "614              3446  \n",
       "\n",
       "[615 rows x 5 columns]"
      ]
     },
     "execution_count": 96,
     "metadata": {},
     "output_type": "execute_result"
    }
   ],
   "source": [
    "commute_time_df[('07:00:00~07:59:59',   '승차')]\t=   commute_time_df[('07:00:00~07:59:59',   '승차')].apply(lambda\tx\t:\tx.replace(',',''))\n",
    "commute_time_df[('08:00:00~08:59:59',   '승차')]\t=\tcommute_time_df[('08:00:00~08:59:59',   '승차')].apply(lambda\tx\t:\tx.replace(',',''))\n",
    "commute_time_df[('09:00:00~09:59:59',   '승차')]\t=\tcommute_time_df[('09:00:00~09:59:59',   '승차')].apply(lambda\tx\t:\tx.replace(',',''))\n",
    "commute_time_df"
   ]
  },
  {
   "cell_type": "code",
   "execution_count": 97,
   "metadata": {},
   "outputs": [
    {
     "data": {
      "text/plain": [
       "호선명                Unnamed: 1_level_1    object\n",
       "지하철역               Unnamed: 3_level_1    object\n",
       "07:00:00~07:59:59  승차                     int64\n",
       "08:00:00~08:59:59  승차                     int64\n",
       "09:00:00~09:59:59  승차                     int64\n",
       "dtype: object"
      ]
     },
     "execution_count": 97,
     "metadata": {},
     "output_type": "execute_result"
    }
   ],
   "source": [
    "commute_time_df =\tcommute_time_df.astype({('07:00:00~07:59:59',\t'승차'):'int64'})\n",
    "commute_time_df =\tcommute_time_df.astype({('08:00:00~08:59:59',\t'승차'):'int64'})\n",
    "commute_time_df =\tcommute_time_df.astype({('09:00:00~09:59:59',\t'승차'):'int64'})\n",
    "commute_time_df.dtypes"
   ]
  },
  {
   "cell_type": "code",
   "execution_count": 110,
   "metadata": {},
   "outputs": [
    {
     "name": "stderr",
     "output_type": "stream",
     "text": [
      "C:\\Users\\alstn\\AppData\\Local\\Temp\\ipykernel_14748\\2895412011.py:1: FutureWarning: Dropping of nuisance columns in DataFrame reductions (with 'numeric_only=None') is deprecated; in a future version this will raise TypeError.  Select only valid columns before calling the reduction.\n",
      "  row_sum_df = commute_time_df.sum(axis=1)\n"
     ]
    },
    {
     "data": {
      "text/plain": [
       "0      159172\n",
       "1       24152\n",
       "2       27273\n",
       "3       26514\n",
       "4       25495\n",
       "        ...  \n",
       "610     26173\n",
       "611     11442\n",
       "612     28663\n",
       "613     51706\n",
       "614     11914\n",
       "Length: 615, dtype: int64"
      ]
     },
     "execution_count": 110,
     "metadata": {},
     "output_type": "execute_result"
    }
   ],
   "source": [
    "row_sum_df = commute_time_df.sum(axis=1)\n",
    "passenger_number_list =row_sum_df.to_list()\n",
    "# passenger_number_list "
   ]
  },
  {
   "cell_type": "code",
   "execution_count": 104,
   "metadata": {},
   "outputs": [
    {
     "data": {
      "text/plain": [
       "638753"
      ]
     },
     "execution_count": 104,
     "metadata": {},
     "output_type": "execute_result"
    }
   ],
   "source": [
    "max_number = row_sum_df.max(axis=0) # 해당 열에서 최대값 찾기\n",
    "max_number"
   ]
  },
  {
   "cell_type": "code",
   "execution_count": 111,
   "metadata": {},
   "outputs": [
    {
     "name": "stdout",
     "output_type": "stream",
     "text": [
      "출근 시간대 최대 승차 인원역: 2호선,신림,638753\n"
     ]
    }
   ],
   "source": [
    "max_index =row_sum_df.idxmax()\n",
    "max_line, max_station = df.iloc[max_index,[1,3]] # 1.호선, 3.지하철명\n",
    "\n",
    "print(f'출근 시간대 최대 승차 인원역: {max_line},{max_station},{max_number}')"
   ]
  },
  {
   "cell_type": "code",
   "execution_count": null,
   "metadata": {},
   "outputs": [],
   "source": []
  }
 ],
 "metadata": {
  "kernelspec": {
   "display_name": "Python 3.9.12 ('base')",
   "language": "python",
   "name": "python3"
  },
  "language_info": {
   "codemirror_mode": {
    "name": "ipython",
    "version": 3
   },
   "file_extension": ".py",
   "mimetype": "text/x-python",
   "name": "python",
   "nbconvert_exporter": "python",
   "pygments_lexer": "ipython3",
   "version": "3.9.12"
  },
  "orig_nbformat": 4,
  "vscode": {
   "interpreter": {
    "hash": "ad2bdc8ecc057115af97d19610ffacc2b4e99fae6737bb82f5d7fb13d2f2c186"
   }
  }
 },
 "nbformat": 4,
 "nbformat_minor": 2
}
