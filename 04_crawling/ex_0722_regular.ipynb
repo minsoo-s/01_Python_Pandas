{
 "cells": [
  {
   "cell_type": "markdown",
   "metadata": {},
   "source": [
    "## 2022.07.22_트리이동 & 정규표현식"
   ]
  },
  {
   "cell_type": "code",
   "execution_count": 5,
   "metadata": {},
   "outputs": [
    {
     "name": "stdout",
     "output_type": "stream",
     "text": [
      "Anna\n",
      "Pavlovna Scherer\n",
      "Empress Marya\n",
      "Fedorovna\n",
      "Prince Vasili Kuragin\n",
      "Anna Pavlovna\n",
      "St. Petersburg\n",
      "the prince\n",
      "Anna Pavlovna\n",
      "Anna Pavlovna\n",
      "the prince\n",
      "the prince\n",
      "the prince\n",
      "Prince Vasili\n",
      "Anna Pavlovna\n",
      "Anna Pavlovna\n",
      "the prince\n",
      "Wintzingerode\n",
      "King of Prussia\n",
      "le Vicomte de Mortemart\n",
      "Montmorencys\n",
      "Rohans\n",
      "Abbe Morio\n",
      "the Emperor\n",
      "the prince\n",
      "Prince Vasili\n",
      "Dowager Empress Marya Fedorovna\n",
      "the baron\n",
      "Anna Pavlovna\n",
      "the Empress\n",
      "the Empress\n",
      "Anna Pavlovna's\n",
      "Her Majesty\n",
      "Baron\n",
      "Funke\n",
      "The prince\n",
      "Anna\n",
      "Pavlovna\n",
      "the Empress\n",
      "The prince\n",
      "Anatole\n",
      "the prince\n",
      "The prince\n",
      "Anna\n",
      "Pavlovna\n",
      "Anna Pavlovna\n"
     ]
    }
   ],
   "source": [
    "from urllib.request import urlopen\n",
    "from bs4 import BeautifulSoup\n",
    "\n",
    "html = urlopen('https://www.pythonscraping.com/pages/warandpeace.html')\n",
    "bs = BeautifulSoup(html, 'html.parser')\n",
    "\n",
    "namelist = bs.find_all('span',class_='green')\n",
    "for name in namelist:\n",
    "    print(name.get_text())\n",
    "    "
   ]
  },
  {
   "cell_type": "markdown",
   "metadata": {},
   "source": [
    "### 특정 단어 찾기\n",
    "- find_all(text = '검색어')"
   ]
  },
  {
   "cell_type": "code",
   "execution_count": 6,
   "metadata": {},
   "outputs": [
    {
     "name": "stdout",
     "output_type": "stream",
     "text": [
      "['the prince', 'the prince', 'the prince', 'the prince', 'the prince', 'the prince', 'the prince']\n",
      "the prince count 7\n"
     ]
    }
   ],
   "source": [
    "princeList = bs.find_all(text = 'the prince')\n",
    "print(princeList)\n",
    "print('the prince count', len(princeList))\n"
   ]
  },
  {
   "cell_type": "markdown",
   "metadata": {},
   "source": [
    "### 트리이동\n",
    "- parent\n",
    "- children\n",
    "- descendants\n",
    "- next_siblings\n",
    "- previous_siblings"
   ]
  },
  {
   "cell_type": "code",
   "execution_count": 7,
   "metadata": {},
   "outputs": [
    {
     "ename": "AttributeError",
     "evalue": "'NoneType' object has no attribute 'children'",
     "output_type": "error",
     "traceback": [
      "\u001b[1;31m---------------------------------------------------------------------------\u001b[0m",
      "\u001b[1;31mAttributeError\u001b[0m                            Traceback (most recent call last)",
      "\u001b[1;32mc:\\MINSU\\BigData_KNU\\lecture\\04_crawling\\ex_0722_regular.ipynb 셀 6\u001b[0m in \u001b[0;36m<cell line: 7>\u001b[1;34m()\u001b[0m\n\u001b[0;32m      <a href='vscode-notebook-cell:/c%3A/MINSU/BigData_KNU/lecture/04_crawling/ex_0722_regular.ipynb#ch0000005?line=3'>4</a>\u001b[0m bs2 \u001b[39m=\u001b[39m BeautifulSoup(html2,\u001b[39m'\u001b[39m\u001b[39mhtml.parser\u001b[39m\u001b[39m'\u001b[39m)\n\u001b[0;32m      <a href='vscode-notebook-cell:/c%3A/MINSU/BigData_KNU/lecture/04_crawling/ex_0722_regular.ipynb#ch0000005?line=5'>6</a>\u001b[0m table_tag \u001b[39m=\u001b[39m bs\u001b[39m.\u001b[39mfind(\u001b[39m'\u001b[39m\u001b[39mtable\u001b[39m\u001b[39m'\u001b[39m,{\u001b[39m'\u001b[39m\u001b[39mid\u001b[39m\u001b[39m'\u001b[39m:\u001b[39m'\u001b[39m\u001b[39mgiftList\u001b[39m\u001b[39m'\u001b[39m})\n\u001b[1;32m----> <a href='vscode-notebook-cell:/c%3A/MINSU/BigData_KNU/lecture/04_crawling/ex_0722_regular.ipynb#ch0000005?line=6'>7</a>\u001b[0m \u001b[39mfor\u001b[39;00m child \u001b[39min\u001b[39;00m table_tag\u001b[39m.\u001b[39;49mchildren:\n\u001b[0;32m      <a href='vscode-notebook-cell:/c%3A/MINSU/BigData_KNU/lecture/04_crawling/ex_0722_regular.ipynb#ch0000005?line=7'>8</a>\u001b[0m     \u001b[39mprint\u001b[39m(child)\n",
      "\u001b[1;31mAttributeError\u001b[0m: 'NoneType' object has no attribute 'children'"
     ]
    }
   ],
   "source": [
    "# children\n",
    "\n",
    "html2=urlopen('https://www.pythonscraping.com/pages/page3.html')\n",
    "bs2 = BeautifulSoup(html2,'html.parser')\n",
    "\n",
    "table_tag = bs.find('table',{'id':'giftList'})\n",
    "for child in table_tag.children:\n",
    "    print(child)\n",
    "#print(table_tag)\n"
   ]
  },
  {
   "cell_type": "code",
   "execution_count": null,
   "metadata": {},
   "outputs": [],
   "source": [
    "# desendants\n",
    "\n",
    "desc =bs.find('table',{'id':'giftList'}).descendants\n",
    "print('descendants개수 : ', len(list(desc)))"
   ]
  },
  {
   "cell_type": "code",
   "execution_count": null,
   "metadata": {},
   "outputs": [],
   "source": [
    "# next_siblings # 해당 줄 다음부터 출력\n",
    "\n",
    "for sibling in bs.find('table',{'id':'giftList'}).tr.next_siblings:\n",
    "    print(sibling)"
   ]
  },
  {
   "cell_type": "code",
   "execution_count": null,
   "metadata": {},
   "outputs": [],
   "source": [
    "# previous_siblings : 선택된 행 이전의 항목들을 선택\n",
    "\n",
    "for sibling in bs.find('tr',{'id':'gift2'}).previous_siblings:\n",
    "    print(sibling)    "
   ]
  },
  {
   "cell_type": "code",
   "execution_count": null,
   "metadata": {},
   "outputs": [],
   "source": [
    "#next_sibling, previous_sibling\n",
    "#태그 하나만 반환\n",
    "#문자열 마지막에 whitespace(‘\\n’, ‘\\r’등)가 있는 경우\n",
    "\n",
    "sibling1 = bs.find('tr', {'id':'gift3'}).next_sibling  \n",
    "print(sibling1) # 잘못된 정보가 출력됨\n",
    "print('---------------------------')\n",
    "\n",
    "# next_sibling.next_sibling 이용\n",
    "sibling2 = bs.find('tr', {'id':'gift3'}).next_sibling.next_sibling\n",
    "print(sibling2)\n",
    "\n"
   ]
  },
  {
   "cell_type": "code",
   "execution_count": null,
   "metadata": {},
   "outputs": [],
   "source": [
    "# 이중 트리\n",
    "img1 = bs.find('img', {'src': '../img/gifts/img1.jpg'})\n",
    "text = img1.parent.previous_sibling.get_text()\n",
    "print(text)\n"
   ]
  },
  {
   "cell_type": "markdown",
   "metadata": {},
   "source": [
    "### 정규표현식 (Regular Expression)\n",
    "-match,search,findall"
   ]
  },
  {
   "cell_type": "code",
   "execution_count": 8,
   "metadata": {},
   "outputs": [
    {
     "name": "stdout",
     "output_type": "stream",
     "text": [
      "None\n",
      "<re.Match object; span=(7, 12), match='apple'>\n"
     ]
    }
   ],
   "source": [
    "import re\n",
    "\n",
    "m = re.match('[a-z]','Python')\n",
    "n = re.search('apple','I like apple')\n",
    "\n",
    "print(m)\n",
    "print(n)"
   ]
  },
  {
   "cell_type": "code",
   "execution_count": 9,
   "metadata": {},
   "outputs": [
    {
     "name": "stdout",
     "output_type": "stream",
     "text": [
      "<re.Match object; span=(0, 6), match='python'>\n",
      "<re.Match object; span=(2, 6), match='like'>\n",
      "like\n"
     ]
    }
   ],
   "source": [
    "p = re.compile('[a-z]+')\n",
    "m = p.match('python')\n",
    "print(m)\n",
    "\n",
    "print(p.search('I like apple 123'))\n",
    "print(p.search('I like apple 123').group(0))"
   ]
  },
  {
   "cell_type": "code",
   "execution_count": null,
   "metadata": {},
   "outputs": [],
   "source": [
    "print(p.findall('Life in too long'))"
   ]
  },
  {
   "cell_type": "code",
   "execution_count": null,
   "metadata": {},
   "outputs": [],
   "source": [
    "result=p.search('I like apple 123')\n",
    "print(result)\n",
    "\n",
    "result=p.findall('I like apple 123')\n",
    "print(result)\n",
    "print(result[0])"
   ]
  },
  {
   "cell_type": "markdown",
   "metadata": {},
   "source": [
    "전화번호 분석 "
   ]
  },
  {
   "cell_type": "code",
   "execution_count": null,
   "metadata": {},
   "outputs": [],
   "source": [
    "tel_checker = re.compile('^(\\d{2,3})-(\\d{3,4})-(\\d{4})$')\n",
    "\n",
    "print('자릿수 맞는 경우'+'-'* 50 )\n",
    "print(tel_checker.match('02-1234-5678'))\n",
    "print(tel_checker.match('053-750-5678'))\n",
    "print(tel_checker.match('023-1234-5678'))\n",
    "\n",
    "print('자릿수 틀린 경우'+'-'* 50 )\n",
    "print(tel_checker.match('0212-1234-5678'))\n",
    "print(tel_checker.match('0212-1234-58'))\n",
    "print(tel_checker.match('0212-12344-5678'))"
   ]
  },
  {
   "cell_type": "markdown",
   "metadata": {},
   "source": [
    "groups() : 매칭결과를 튜플로 출력"
   ]
  },
  {
   "cell_type": "code",
   "execution_count": null,
   "metadata": {},
   "outputs": [],
   "source": [
    "m = tel_checker.match('02-123-4567')\n",
    "print(m)\n",
    "print('m.group():', m.group())\n",
    "print('m.group(0):',m.group(0))\n",
    "print('m.group(1):',m.group(1))\n",
    "print('m.group(2,3):',m.group(2,3))\n",
    "\n",
    "#  start, end 는 시작, 끝 인덱스를 보여줌\n",
    "print('m.start():',m.start())\n",
    "print('m.end():',m.end())"
   ]
  },
  {
   "cell_type": "markdown",
   "metadata": {},
   "source": [
    "##### 전방긍정탐색 : (?=패턴)\n",
    "- 패턴과 일치하는 문자열을 만나면 해당 문자열 반환\n",
    "##### 전방부정탐색 : (?!패턴)\n",
    "- 패턴과 일치하지 않는 문자열을 만나면 해당 문자열 반환"
   ]
  },
  {
   "cell_type": "code",
   "execution_count": null,
   "metadata": {},
   "outputs": [],
   "source": [
    "# 전방긍정탐색(1)\n",
    "lookahead1 = re.search('.+(?=won)','1000 won')\n",
    "print(lookahead1)\n",
    "\n",
    "# 전방긍정탐색(2)\n",
    "lookahead2 = re.search('.+(?=log)','2002-07-01 00:00:001 ABC.log: 전방탐색')\n",
    "print(lookahead2)\n",
    "\n",
    "# 전방부정탐색\n",
    "lookahead3 = re.search('\\d{4}(?!-)','010-1234-5678')\n",
    "print(lookahead3)\n",
    "\n"
   ]
  },
  {
   "cell_type": "markdown",
   "metadata": {},
   "source": [
    "##### 후방 긍정 탐색\n",
    "- 패턴과 일치하는 문자열을 만나면 패턴 뒤의 문자열 반환\n",
    "- (?<=패턴)\n",
    "##### 후방 부정 탐색\n",
    "- 패턴과 일치하지 않는 문자열을 만나면 해당 문자열 반환\n",
    "- (?<!패턴)\n"
   ]
  },
  {
   "cell_type": "code",
   "execution_count": null,
   "metadata": {},
   "outputs": [],
   "source": [
    "# 후방 긍정 탐색\n",
    "lookbehind1 = re.search('(?<=log:).+', '2022-07-01 00:00:01 ABC.log: this is python')\n",
    "print(lookbehind1)\n",
    "\n",
    "lookbehind2 = re.search('(?<=:).+', 'USD: $51')\n",
    "print(lookbehind2) \n",
    "\n",
    "# 후방 부정 탐색(\\b: 공백(blank)검색)\n",
    "lookbehind3 = re.search('\\\\b(?<!\\$)\\\\d+\\\\b', 'I paid $30 for 100 apples.')\n",
    "print(lookbehind3)\n",
    "\n",
    "lookbehind4 = re.search(r'\\b(?<!\\$)\\d+\\b', 'I paid $30 for 100 apples.')\n",
    "print(lookbehind4)\n"
   ]
  },
  {
   "cell_type": "code",
   "execution_count": null,
   "metadata": {},
   "outputs": [],
   "source": [
    "s='Python 3.10 was released on October 04. 2021'\n",
    "\n",
    "p = re.compile('\\d')\n",
    "result = p.findall(s)\n",
    "print(result)"
   ]
  },
  {
   "cell_type": "markdown",
   "metadata": {},
   "source": [
    "인덱스 가져오기\n",
    "- span 함수 사용"
   ]
  },
  {
   "cell_type": "code",
   "execution_count": null,
   "metadata": {},
   "outputs": [],
   "source": [
    "s = 'python 3.10 was released on October 2021'\n",
    "pattern = '\\d{4}'\n",
    "\n",
    "match =re.search(pattern,s)\n",
    "print(match)\n",
    "\n",
    "start, end = match.span()\n",
    "print(s[start:end])"
   ]
  },
  {
   "cell_type": "markdown",
   "metadata": {},
   "source": [
    "find_all 에 정규화 사용하기"
   ]
  },
  {
   "cell_type": "code",
   "execution_count": null,
   "metadata": {},
   "outputs": [],
   "source": [
    "html=urlopen('http://www.pythonscraping.com/pages/page3.html')\n",
    "bs = BeautifulSoup(html,'html.parser')\n",
    "\n",
    "\n",
    "img_tag =re.compile('/img/gifts/img.*.jpg')\n",
    "images = bs.find_all('img',{'src' : img_tag})\n",
    "\n",
    "for image in images:\n",
    "    print(image, end=', ')\n",
    "    print(image['src'])"
   ]
  },
  {
   "cell_type": "markdown",
   "metadata": {},
   "source": [
    "the, The 모두 찾기 (text와 함께 사용) "
   ]
  },
  {
   "cell_type": "code",
   "execution_count": null,
   "metadata": {},
   "outputs": [],
   "source": [
    "html = urlopen('http://www.pythonscraping.com/pages/warandpeace.html')\n",
    "bs = BeautifulSoup(html, 'html.parser')\n",
    "\n",
    "princeList = bs.find_all(text='the prince')\n",
    "print('the prince count: ', len(princeList))\n",
    "\n",
    "# find_all()에 정규식 사용 : The, the 모두 찾기\n",
    "prince_list = bs.find_all(text=re.compile('[T|t]{1}he prince'))\n",
    "print('T|the prince count:', len(prince_list))"
   ]
  },
  {
   "cell_type": "markdown",
   "metadata": {},
   "source": [
    "# 웹 크롤링 시작"
   ]
  },
  {
   "cell_type": "code",
   "execution_count": null,
   "metadata": {},
   "outputs": [],
   "source": [
    "from urllib.request import urlopen\n",
    "from bs4 import BeautifulSoup\n",
    "import re\n",
    "html=urlopen('https://en.wikipedia.org/wiki/Kevin_Bacon')\n",
    "bs = BeautifulSoup(html, 'html.parser')\n",
    "for link in bs.find_all('a'):\n",
    "    if 'href' in link.attrs:\n",
    "        print(link.attrs['href'])\n"
   ]
  },
  {
   "cell_type": "markdown",
   "metadata": {},
   "source": [
    "항목 링크 찾기"
   ]
  },
  {
   "cell_type": "code",
   "execution_count": null,
   "metadata": {},
   "outputs": [],
   "source": [
    "body_content = bs.find('div', {'id':'bodyContent'})\n",
    "pattern = '^(/wiki/)((?!:).)*$'\n",
    "for link in body_content.find_all('a',href=re.compile(pattern)):\n",
    "    if 'href' in link.attrs:\n",
    "        print(link.attrs['href'])"
   ]
  },
  {
   "cell_type": "markdown",
   "metadata": {},
   "source": [
    "(설명만 하고 넘어감 ㅡ.ㅡ?) 링크간 무작위 이동하기: 동작 과정"
   ]
  },
  {
   "cell_type": "markdown",
   "metadata": {},
   "source": [
    "같은 페이지를 두 번 크롤링 하지 않기"
   ]
  },
  {
   "cell_type": "code",
   "execution_count": null,
   "metadata": {},
   "outputs": [
    {
     "name": "stdout",
     "output_type": "stream",
     "text": [
      "/wiki/File:Dictionary_of_National_Biography_volume_01.djvu?page=6\n",
      "/wiki/File:Dictionary_of_National_Biography_volume_01.djvu?page=5\n",
      "/wiki/File:Dictionary_of_National_Biography_volume_01.djvu?page=4\n",
      "/wiki/File:Dictionary_of_National_Biography_volume_01.djvu?page=3\n",
      "/wiki/File:Dictionary_of_National_Biography_volume_01.djvu?page=2\n",
      "/wiki/File:Dictionary_of_National_Biography_volume_01.djvu\n",
      "/wiki/Special:GlobalUsage/Dictionary_of_National_Biography_volume_01.djvu\n",
      "/wiki/Special:WhatLinksHere/File:Dictionary_of_National_Biography_volume_01.djvu\n",
      "/wiki/File:Dictionary_of_National_Biography_volume_01.djvu?page=1\n",
      "/wiki/File:Dictionary_of_National_Biography_volume_01.djvu?page=12\n",
      "/wiki/File:Dictionary_of_National_Biography_volume_01.djvu?page=13\n",
      "/wiki/File:Dictionary_of_National_Biography_volume_01.djvu?page=14\n",
      "/wiki/File:Dictionary_of_National_Biography_volume_01.djvu?page=15\n",
      "/wiki/File:Dictionary_of_National_Biography_volume_01.djvu?page=16\n",
      "/wiki/File:Dictionary_of_National_Biography_volume_01.djvu?page=17\n",
      "/wiki/File:Dictionary_of_National_Biography_volume_01.djvu?page=18\n",
      "/wiki/File:Dictionary_of_National_Biography_volume_01.djvu?page=19\n",
      "/wiki/File:Dictionary_of_National_Biography_volume_01.djvu?page=20\n",
      "/wiki/File:Dictionary_of_National_Biography_volume_01.djvu?page=21\n",
      "/wiki/File:Dictionary_of_National_Biography_volume_01.djvu?page=22\n",
      "/wiki/File:Dictionary_of_National_Biography_volume_01.djvu?page=23\n",
      "/wiki/File:Dictionary_of_National_Biography_volume_01.djvu?page=24\n",
      "/wiki/File:Dictionary_of_National_Biography_volume_01.djvu?page=25\n",
      "/wiki/File:Dictionary_of_National_Biography_volume_01.djvu?page=26\n",
      "/wiki/File:Dictionary_of_National_Biography_volume_01.djvu?page=27\n",
      "/wiki/File:Dictionary_of_National_Biography_volume_01.djvu?page=28\n",
      "/wiki/File:Dictionary_of_National_Biography_volume_01.djvu?page=29\n",
      "/wiki/File:Dictionary_of_National_Biography_volume_01.djvu?page=30\n",
      "/wiki/File:Dictionary_of_National_Biography_volume_01.djvu?page=31\n",
      "/wiki/File:Dictionary_of_National_Biography_volume_01.djvu?page=32\n",
      "/wiki/File:Dictionary_of_National_Biography_volume_01.djvu?page=33\n",
      "/wiki/File:Dictionary_of_National_Biography_volume_01.djvu?page=34\n",
      "/wiki/File:Dictionary_of_National_Biography_volume_01.djvu?page=35\n",
      "/wiki/File:Dictionary_of_National_Biography_volume_01.djvu?page=36\n",
      "/wiki/File:Dictionary_of_National_Biography_volume_01.djvu?page=37\n",
      "/wiki/File:Dictionary_of_National_Biography_volume_01.djvu?page=38\n",
      "/wiki/File:Dictionary_of_National_Biography_volume_01.djvu?page=39\n",
      "/wiki/File:Dictionary_of_National_Biography_volume_01.djvu?page=40\n",
      "/wiki/File:Dictionary_of_National_Biography_volume_01.djvu?page=41\n",
      "/wiki/File:Dictionary_of_National_Biography_volume_01.djvu?page=42\n",
      "/wiki/File:Dictionary_of_National_Biography_volume_01.djvu?page=43\n",
      "/wiki/File:Dictionary_of_National_Biography_volume_01.djvu?page=44\n",
      "/wiki/File:Dictionary_of_National_Biography_volume_01.djvu?page=45\n",
      "/wiki/File:Dictionary_of_National_Biography_volume_01.djvu?page=46\n",
      "/wiki/File:Dictionary_of_National_Biography_volume_01.djvu?page=47\n",
      "/wiki/File:Dictionary_of_National_Biography_volume_01.djvu?page=48\n",
      "/wiki/File:Dictionary_of_National_Biography_volume_01.djvu?page=49\n",
      "/wiki/File:Dictionary_of_National_Biography_volume_01.djvu?page=50\n",
      "/wiki/File:Dictionary_of_National_Biography_volume_01.djvu?page=51\n",
      "/wiki/File:Dictionary_of_National_Biography_volume_01.djvu?page=52\n",
      "/wiki/File:Dictionary_of_National_Biography_volume_01.djvu?page=53\n",
      "/wiki/File:Dictionary_of_National_Biography_volume_01.djvu?page=54\n",
      "/wiki/File:Dictionary_of_National_Biography_volume_01.djvu?page=55\n",
      "/wiki/File:Dictionary_of_National_Biography_volume_01.djvu?page=56\n",
      "/wiki/File:Dictionary_of_National_Biography_volume_01.djvu?page=57\n",
      "/wiki/File:Dictionary_of_National_Biography_volume_01.djvu?page=58\n",
      "/wiki/File:Dictionary_of_National_Biography_volume_01.djvu?page=59\n",
      "/wiki/File:Dictionary_of_National_Biography_volume_01.djvu?page=60\n",
      "/wiki/File:Dictionary_of_National_Biography_volume_01.djvu?page=61\n",
      "/wiki/File:Dictionary_of_National_Biography_volume_01.djvu?page=62\n",
      "/wiki/File:Dictionary_of_National_Biography_volume_01.djvu?page=63\n",
      "/wiki/File:Dictionary_of_National_Biography_volume_01.djvu?page=64\n",
      "/wiki/File:Dictionary_of_National_Biography_volume_01.djvu?page=65\n",
      "/wiki/File:Dictionary_of_National_Biography_volume_01.djvu?page=66\n",
      "/wiki/File:Dictionary_of_National_Biography_volume_01.djvu?page=67\n",
      "/wiki/File:Dictionary_of_National_Biography_volume_01.djvu?page=68\n",
      "/wiki/File:Dictionary_of_National_Biography_volume_01.djvu?page=69\n",
      "/wiki/File:Dictionary_of_National_Biography_volume_01.djvu?page=70\n",
      "/wiki/File:Dictionary_of_National_Biography_volume_01.djvu?page=71\n",
      "/wiki/File:Dictionary_of_National_Biography_volume_01.djvu?page=72\n",
      "/wiki/File:Dictionary_of_National_Biography_volume_01.djvu?page=73\n",
      "/wiki/File:Dictionary_of_National_Biography_volume_01.djvu?page=74\n",
      "/wiki/File:Dictionary_of_National_Biography_volume_01.djvu?page=75\n",
      "/wiki/File:Dictionary_of_National_Biography_volume_01.djvu?page=76\n",
      "/wiki/File:Dictionary_of_National_Biography_volume_01.djvu?page=77\n",
      "/wiki/File:Dictionary_of_National_Biography_volume_01.djvu?page=78\n",
      "/wiki/File:Dictionary_of_National_Biography_volume_01.djvu?page=79\n",
      "/wiki/File:Dictionary_of_National_Biography_volume_01.djvu?page=80\n",
      "/wiki/File:Dictionary_of_National_Biography_volume_01.djvu?page=81\n",
      "/wiki/File:Dictionary_of_National_Biography_volume_01.djvu?page=82\n",
      "/wiki/File:Dictionary_of_National_Biography_volume_01.djvu?page=83\n",
      "/wiki/File:Dictionary_of_National_Biography_volume_01.djvu?page=84\n",
      "/wiki/File:Dictionary_of_National_Biography_volume_01.djvu?page=85\n",
      "/wiki/File:Dictionary_of_National_Biography_volume_01.djvu?page=86\n",
      "/wiki/File:Dictionary_of_National_Biography_volume_01.djvu?page=87\n",
      "/wiki/File:Dictionary_of_National_Biography_volume_01.djvu?page=88\n",
      "/wiki/File:Dictionary_of_National_Biography_volume_01.djvu?page=89\n",
      "/wiki/File:Dictionary_of_National_Biography_volume_01.djvu?page=90\n",
      "/wiki/File:Dictionary_of_National_Biography_volume_01.djvu?page=91\n",
      "/wiki/File:Dictionary_of_National_Biography_volume_01.djvu?page=92\n",
      "/wiki/File:Dictionary_of_National_Biography_volume_01.djvu?page=93\n",
      "/wiki/File:Dictionary_of_National_Biography_volume_01.djvu?page=94\n",
      "/wiki/File:Dictionary_of_National_Biography_volume_01.djvu?page=95\n",
      "/wiki/File:Dictionary_of_National_Biography_volume_01.djvu?page=96\n",
      "/wiki/File:Dictionary_of_National_Biography_volume_01.djvu?page=97\n",
      "/wiki/File:Dictionary_of_National_Biography_volume_01.djvu?page=98\n",
      "/wiki/File:Dictionary_of_National_Biography_volume_01.djvu?page=99\n",
      "/wiki/File:Dictionary_of_National_Biography_volume_01.djvu?page=100\n",
      "/wiki/File:Dictionary_of_National_Biography_volume_01.djvu?page=101\n",
      "/wiki/File:Dictionary_of_National_Biography_volume_01.djvu?page=102\n",
      "/wiki/File:Dictionary_of_National_Biography_volume_01.djvu?page=103\n",
      "/wiki/File:Dictionary_of_National_Biography_volume_01.djvu?page=104\n"
     ]
    }
   ],
   "source": [
    "# from urllib.request import urlopen\n",
    "# from bs4 import BeautifulSoup\n",
    "# import re\n",
    "\n",
    "# pages = set() # 세트 선언\n",
    "# #def getLinks(pageUrl,i = 0):\n",
    "#     global pages\n",
    "#     if i>3 : return 0\n",
    "    \n",
    "#     html = urlopen('https://en.wikipedia.org{}'.format(pageUrl))\n",
    "#     bs = BeautifulSoup(html, 'html.parser')\n",
    "    \n",
    "#     for link in bs.find_all('a', href = re.compile('^(/wiki/)')):\n",
    "#         if 'href' in link.attrs:\n",
    "#             if link.attrs['href'] not in pages:\n",
    "#                 newPage = link.attrs['href']\n",
    "#                 print(newPage)\n",
    "#                 pages.add(newPage)\n",
    "#                 getLinks(newPage, i +1)\n",
    "# getLinks('/wiki/Kevin_Bacon')\n"
   ]
  },
  {
   "cell_type": "code",
   "execution_count": null,
   "metadata": {},
   "outputs": [],
   "source": []
  }
 ],
 "metadata": {
  "kernelspec": {
   "display_name": "Python 3.9.12 ('base')",
   "language": "python",
   "name": "python3"
  },
  "language_info": {
   "codemirror_mode": {
    "name": "ipython",
    "version": 3
   },
   "file_extension": ".py",
   "mimetype": "text/x-python",
   "name": "python",
   "nbconvert_exporter": "python",
   "pygments_lexer": "ipython3",
   "version": "3.9.12"
  },
  "orig_nbformat": 4,
  "vscode": {
   "interpreter": {
    "hash": "ad2bdc8ecc057115af97d19610ffacc2b4e99fae6737bb82f5d7fb13d2f2c186"
   }
  }
 },
 "nbformat": 4,
 "nbformat_minor": 2
}
