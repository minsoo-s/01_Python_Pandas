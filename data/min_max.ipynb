{
 "cells": [
  {
   "cell_type": "markdown",
   "source": [
    "# 최대값, 최소값 구하는 방법"
   ],
   "metadata": {
    "collapsed": false,
    "pycharm": {
     "name": "#%% md\n"
    }
   }
  },
  {
   "cell_type": "code",
   "execution_count": 2,
   "outputs": [],
   "source": [
    "numbers = [5, 6, 4, 3, 9, 1]\n",
    "\n",
    "max_num = 0\n",
    "min_num = 100"
   ],
   "metadata": {
    "collapsed": false,
    "pycharm": {
     "name": "#%%\n"
    }
   }
  },
  {
   "cell_type": "markdown",
   "source": [
    "## 최대값 구하기"
   ],
   "metadata": {
    "collapsed": false,
    "pycharm": {
     "name": "#%% md\n"
    }
   }
  },
  {
   "cell_type": "code",
   "execution_count": 3,
   "outputs": [
    {
     "name": "stdout",
     "output_type": "stream",
     "text": [
      "num:5, max_num:0\n",
      "num:6, max_num:5\n",
      "num:4, max_num:6\n",
      "num:3, max_num:6\n",
      "num:9, max_num:6\n",
      "num:1, max_num:9\n",
      "최대값:  9\n"
     ]
    }
   ],
   "source": [
    "for num in numbers:\n",
    "    print('num:{0}, max_num:{1}'.format(num, max_num))\n",
    "    if num > max_num:\n",
    "        max_num = num # max_num(최대값) 업데이트\n",
    "\n",
    "print('최대값: ', max_num)"
   ],
   "metadata": {
    "collapsed": false,
    "pycharm": {
     "name": "#%%\n"
    }
   }
  },
  {
   "cell_type": "markdown",
   "source": [],
   "metadata": {
    "collapsed": false,
    "pycharm": {
     "name": "#%% md\n"
    }
   }
  },
  {
   "cell_type": "code",
   "execution_count": 4,
   "outputs": [
    {
     "name": "stdout",
     "output_type": "stream",
     "text": [
      "num:5, min_num:100\n",
      "num:6, min_num:5\n",
      "num:4, min_num:5\n",
      "num:3, min_num:4\n",
      "num:9, min_num:3\n",
      "num:1, min_num:3\n",
      "최소값:  1\n"
     ]
    }
   ],
   "source": [
    "for num in numbers:\n",
    "    print('num:{0}, min_num:{1}'.format(num, min_num))\n",
    "    if num < min_num:\n",
    "        min_num = num # min_num(최대값) 업데이트\n",
    "\n",
    "print('최소값: ', min_num)"
   ],
   "metadata": {
    "collapsed": false,
    "pycharm": {
     "name": "#%%\n"
    }
   }
  },
  {
   "cell_type": "code",
   "execution_count": null,
   "outputs": [],
   "source": [],
   "metadata": {
    "collapsed": false,
    "pycharm": {
     "name": "#%%\n"
    }
   }
  }
 ],
 "metadata": {
  "kernelspec": {
   "display_name": "Python 3",
   "language": "python",
   "name": "python3"
  },
  "language_info": {
   "codemirror_mode": {
    "name": "ipython",
    "version": 2
   },
   "file_extension": ".py",
   "mimetype": "text/x-python",
   "name": "python",
   "nbconvert_exporter": "python",
   "pygments_lexer": "ipython2",
   "version": "2.7.6"
  }
 },
 "nbformat": 4,
 "nbformat_minor": 0
}